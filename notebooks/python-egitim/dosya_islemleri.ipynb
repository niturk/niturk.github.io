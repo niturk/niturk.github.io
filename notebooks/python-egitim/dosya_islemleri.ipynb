{
 "cells": [
  {
   "attachments": {},
   "cell_type": "markdown",
   "metadata": {},
   "source": [
    "# Dosya İşlemleri\n",
    "\n",
    "Date: 2023-01-26T18:00:00+03:00\n",
    "Categories: python,temel-python-egitimi\n",
    "Tags: python,\n",
    "draft: false\n",
    "<!--eofm-->"
   ]
  },
  {
   "attachments": {},
   "cell_type": "markdown",
   "metadata": {},
   "source": [
    "Dosya okuma işlemlerini yapabilmek için `open()` fonksiyonunu kullanırız. Bu fonksiyonun iki parametresi vardır. İlk parametre dosya adı, ikinci parametre ise dosya açma modudur.  \n",
    "Dosya açma modları şunlardır:  \n",
    "- `r` : Dosyayı okuma modunda açar. Bu mod varsayılan moddur.\n",
    "- `w` : Dosyayı yazma modunda açar. Eğer dosya mevcut ise içerik silinir.\n",
    "- `a` : Dosyayı yazma modunda açar. Eğer dosya mevcut ise içerik silinmez ve dosyanın sonuna ekleme yapılır."
   ]
  },
  {
   "cell_type": "code",
   "execution_count": 52,
   "metadata": {},
   "outputs": [
    {
     "name": "stdout",
     "output_type": "stream",
     "text": [
      "deneme.txt True False False\n",
      "True\n"
     ]
    }
   ],
   "source": [
    "dosya_adi = \"deneme.txt\"\n",
    "dosya = open(dosya_adi, \"r\")\n",
    "\n",
    "print(dosya.name, dosya.readable(), dosya.writable(), dosya.closed)\n",
    "\n",
    "dosya.close()\n",
    "print(dosya.closed)"
   ]
  },
  {
   "cell_type": "code",
   "execution_count": 53,
   "metadata": {},
   "outputs": [
    {
     "name": "stdout",
     "output_type": "stream",
     "text": [
      "['Python harikadır!\\n', 'Python harikadır!\\n', 'Python harikadır!Python harikadır!\\n']\n"
     ]
    }
   ],
   "source": [
    "# Dosya Okuma\n",
    "dosya_adi = \"deneme.txt\"\n",
    "dosya = open(dosya_adi, \"r\")\n",
    "icerik = dosya.readlines()\n",
    "print(icerik)\n",
    "dosya.close() # önemlidir."
   ]
  },
  {
   "cell_type": "code",
   "execution_count": 54,
   "metadata": {},
   "outputs": [
    {
     "name": "stdout",
     "output_type": "stream",
     "text": [
      "Python harikadır!\n",
      "Python harikadır!\n",
      "Python harikadır!Python harikadır!\n"
     ]
    }
   ],
   "source": [
    "# Dosya Okuma\n",
    "dosya_adi = \"deneme.txt\"\n",
    "dosya = open(dosya_adi, \"r\")\n",
    "for satir in dosya:\n",
    "    # print(satir)\n",
    "    print(satir, end=\"\")\n",
    "dosya.close() # önemlidir."
   ]
  },
  {
   "cell_type": "code",
   "execution_count": 55,
   "metadata": {},
   "outputs": [
    {
     "name": "stdout",
     "output_type": "stream",
     "text": [
      "Python harikadır!\n",
      "Hata\n"
     ]
    }
   ],
   "source": [
    "# Try Except Finally ile Dosya Okuma\n",
    "dosya = open(\"deneme.txt\", \"r\")\n",
    "try:\n",
    "    for satir in dosya:\n",
    "        print(satir, end=\"\")\n",
    "        raise Exception(\"Hata\")\n",
    "except Exception as e:\n",
    "    print(e)\n",
    "finally:\n",
    "    dosya.close()"
   ]
  },
  {
   "cell_type": "code",
   "execution_count": 56,
   "metadata": {},
   "outputs": [
    {
     "name": "stdout",
     "output_type": "stream",
     "text": [
      "Python harikadır!\n",
      "Python harikadır!\n",
      "Python harikadır!Python harikadır!\n"
     ]
    }
   ],
   "source": [
    "# With ile Dosya Okuma (\"içerik yöneticisi\")\n",
    "with open(\"deneme.txt\", \"r\") as dosya:\n",
    "    for satir in dosya:\n",
    "        print(satir, end=\"\")"
   ]
  },
  {
   "attachments": {},
   "cell_type": "markdown",
   "metadata": {},
   "source": [
    "# Dosya Yazma"
   ]
  },
  {
   "cell_type": "code",
   "execution_count": 57,
   "metadata": {},
   "outputs": [],
   "source": [
    "# Normal yöntemlerle dosya yazma\n",
    "dosya = open(\"deneme.txt\", \"w\")\n",
    "dosya.write(\"Python harikadır!\\n\")\n",
    "dosya.write(\"Python harikadır!\\n\")\n",
    "dosya.write(\"Python harikadır!\\n\")\n",
    "dosya.close()"
   ]
  },
  {
   "cell_type": "code",
   "execution_count": 58,
   "metadata": {},
   "outputs": [],
   "source": [
    "# İçerik Yöneticisi ile dosya yazma\n",
    "with open(\"deneme.txt\", \"w\") as dosya:\n",
    "    dosya.write(\"Python harikadır!\\n\")\n",
    "    dosya.write(\"Python harikadır!\\n\")\n",
    "    dosya.write(\"Python harikadır!\\n\")"
   ]
  },
  {
   "cell_type": "code",
   "execution_count": 59,
   "metadata": {},
   "outputs": [],
   "source": [
    "# İçerik Yöneticisi ile toplu dosya yazma 1\n",
    "veri = [\"Python harikadır!\\n\", \"Python harikadır!\\n\", \"Python harikadır!\\n\"]\n",
    "with open(\"deneme.txt\", \"w\") as dosya:\n",
    "    dosya.writelines(veri)"
   ]
  },
  {
   "cell_type": "code",
   "execution_count": 60,
   "metadata": {},
   "outputs": [],
   "source": [
    "# İçerik Yöneticisi ile toplu dosya yazma 2\n",
    "veri = [\"Python harikadır!\", \"Python harikadır!\", \"Python harikadır!\"]\n",
    "with open(\"deneme.txt\", \"w\") as dosya:\n",
    "    dosya.write('\\n'.join(veri))"
   ]
  },
  {
   "cell_type": "code",
   "execution_count": 61,
   "metadata": {},
   "outputs": [],
   "source": [
    "# İçerik Yöneticisi ile ekleme modunda dosya yazma\n",
    "with open(\"deneme.txt\", \"a\") as dosya:\n",
    "    dosya.write(\"\\nPython harikadır!\")"
   ]
  }
 ],
 "metadata": {
  "kernelspec": {
   "display_name": "hugoblog-D2SGIyIi",
   "language": "python",
   "name": "python3"
  },
  "language_info": {
   "codemirror_mode": {
    "name": "ipython",
    "version": 3
   },
   "file_extension": ".py",
   "mimetype": "text/x-python",
   "name": "python",
   "nbconvert_exporter": "python",
   "pygments_lexer": "ipython3",
   "version": "3.10.6"
  },
  "orig_nbformat": 4,
  "vscode": {
   "interpreter": {
    "hash": "ddd11dd1139ada3ac74a62149c9fbe7616d1cf65419526d06a090ac3acf3a2c5"
   }
  }
 },
 "nbformat": 4,
 "nbformat_minor": 2
}
