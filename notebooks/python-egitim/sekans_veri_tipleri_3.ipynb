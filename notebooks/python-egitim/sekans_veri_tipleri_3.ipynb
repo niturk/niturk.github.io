{
 "cells": [
  {
   "attachments": {},
   "cell_type": "markdown",
   "metadata": {},
   "source": [
    "# Sekans Veri Tipleri - 3\n",
    "\n",
    "Date: 2023-01-03T18:00:00+03:00\n",
    "Categories: python,temel-python-egitimi\n",
    "Tags: python,\n",
    "draft: false\n",
    "<!--eofm-->"
   ]
  },
  {
   "attachments": {},
   "cell_type": "markdown",
   "metadata": {},
   "source": [
    "## Manipülasyon\n",
    "\n",
    "Değiştirilebilir(mutable) olan veri tipleri manipüle edilebilir. Listeler bu tipe oldukça güzel bir örnektir.\n",
    "Listelerde bir elemanı değiştirebilir, silebilir veya ekleyebilirsiniz. Genelde en çok eleman ekleme (append) işlemi yapılır. \n"
   ]
  },
  {
   "attachments": {},
   "cell_type": "markdown",
   "metadata": {},
   "source": [
    "### Bir Elemanı İndex Numarasına Göre Değiştirme\n",
    "\n",
    "En çok kullanılan yöntemdir. `[index]` ile elemanı seçebildiğimiz gibi değiştirebiliyoruzda aynı şekilde."
   ]
  },
  {
   "cell_type": "code",
   "execution_count": 162,
   "metadata": {},
   "outputs": [
    {
     "name": "stdout",
     "output_type": "stream",
     "text": [
      "[1, 2, 10, 4, 5]\n"
     ]
    }
   ],
   "source": [
    "# Tek bir elemanı index numarası ile değiştirebiliriz\n",
    "# Örneğin, 3. elemanı değiştirelim\n",
    "liste = [1, 2, 3, 4, 5]\n",
    "liste[2] = 10\n",
    "print(liste)"
   ]
  },
  {
   "attachments": {},
   "cell_type": "markdown",
   "metadata": {},
   "source": [
    "### Slice İle Birden Fazla Elamanı Değiştirme\n",
    "\n",
    "Çok kullanılan bir yöntem olmasada bazen ihtiyaç duyulabilir eğer belli bir aralıkta elemanları değiştirmek istiyorsanız bunu yapabilirsiniz."
   ]
  },
  {
   "cell_type": "code",
   "execution_count": 163,
   "metadata": {},
   "outputs": [
    {
     "name": "stdout",
     "output_type": "stream",
     "text": [
      "[1, 10, 20, 4, 5]\n"
     ]
    }
   ],
   "source": [
    "# Slice ile değiştirebiliriz\n",
    "# Örneğin, 2. ve 3. elemanları değiştirelim\n",
    "liste = [1, 2, 3, 4, 5]\n",
    "liste[1:3] = [10, 20]\n",
    "print(liste)"
   ]
  },
  {
   "attachments": {},
   "cell_type": "markdown",
   "metadata": {},
   "source": [
    "### Bir Elemanı İndex Numarasına Göre Silme"
   ]
  },
  {
   "cell_type": "code",
   "execution_count": 164,
   "metadata": {},
   "outputs": [
    {
     "name": "stdout",
     "output_type": "stream",
     "text": [
      "[1, 2, 4, 5]\n"
     ]
    }
   ],
   "source": [
    "# Bir elemanı listeden silelim\n",
    "# Örneğin, 3. elemanı silelim\n",
    "liste = [1, 2, 3, 4, 5]\n",
    "del liste[2]\n",
    "print(liste)"
   ]
  },
  {
   "attachments": {},
   "cell_type": "markdown",
   "metadata": {},
   "source": [
    "### Slice İle Birden Fazla Elemanı Silmek"
   ]
  },
  {
   "cell_type": "code",
   "execution_count": 165,
   "metadata": {},
   "outputs": [
    {
     "name": "stdout",
     "output_type": "stream",
     "text": [
      "[1, 4, 5]\n"
     ]
    }
   ],
   "source": [
    "# Slice ile bir aralığı silelim\n",
    "# Örneğin, 2. ve 3. elemanları silelim\n",
    "liste = [1, 2, 3, 4, 5]\n",
    "del liste[1:3]\n",
    "print(liste)"
   ]
  },
  {
   "attachments": {},
   "cell_type": "markdown",
   "metadata": {},
   "source": [
    "### Listeye Yeni Bir Eleman Eklemek\n",
    "\n",
    "En çok kullanılan yöntemdir. `append` metodu ile listenin sonuna yeni bir eleman ekleyebilirsiniz."
   ]
  },
  {
   "cell_type": "code",
   "execution_count": 166,
   "metadata": {},
   "outputs": [
    {
     "name": "stdout",
     "output_type": "stream",
     "text": [
      "[1, 2, 3, 4, 5, 6]\n"
     ]
    }
   ],
   "source": [
    "# Listeye yeni bir eleman ekleyelim\n",
    "liste = [1, 2, 3, 4, 5]\n",
    "liste.append(6)\n",
    "print(liste)"
   ]
  },
  {
   "attachments": {},
   "cell_type": "markdown",
   "metadata": {},
   "source": [
    "### Listeye Birden Fazla Eleman Ekleme\n",
    "\n",
    "Eklememiz gereken birden fazla eleman varsa `append` metodunu kullanmak mantıklı değil, bu durumda `extend` methodu ile bunları tek seferde ekleyebiliriz. `extend` methodu bir liste alır ve bu listeyi listenin sonuna ekler."
   ]
  },
  {
   "cell_type": "code",
   "execution_count": 167,
   "metadata": {},
   "outputs": [
    {
     "name": "stdout",
     "output_type": "stream",
     "text": [
      "[1, 2, 3, 4, 5, 6, 7, 8]\n"
     ]
    }
   ],
   "source": [
    "# Listeye birden fazla eleman ekleyelim\n",
    "liste = [1, 2, 3, 4, 5]\n",
    "liste.extend([6, 7, 8])\n",
    "print(liste)"
   ]
  },
  {
   "attachments": {},
   "cell_type": "markdown",
   "metadata": {},
   "source": [
    "### Listenin İstenilen Bir Yerine Eleman Eklemek\n",
    "\n",
    "`insert` methodu ile listenin istenilen bir yerine eleman ekleyebilirsiniz. Bu methodun ilk parametresi index numarası, ikinci parametresi ise eklemek istediğiniz elemandır."
   ]
  },
  {
   "cell_type": "code",
   "execution_count": 168,
   "metadata": {},
   "outputs": [
    {
     "name": "stdout",
     "output_type": "stream",
     "text": [
      "[1, 2, 10, 3, 4, 5]\n"
     ]
    }
   ],
   "source": [
    "# Insert ile bir eleman ekleyelim\n",
    "# Örneğin, 3. elemanın önüne 10 ekleyelim\n",
    "liste = [1, 2, 3, 4, 5]\n",
    "liste.insert(2, 10)\n",
    "print(liste)"
   ]
  },
  {
   "attachments": {},
   "cell_type": "markdown",
   "metadata": {},
   "source": [
    "> `insert` metodunu kullandığınızda listedeki elemanların index numaraları değişir.  \n",
    "`insert` metodunu kullanırken dikkatli olunmalıdır. `append` veya `extend` metodlarına göre çok daha yavaştır. Çünkü tüm elemanları etkilemektedir.\n",
    "\n",
    "&nbsp;"
   ]
  },
  {
   "attachments": {},
   "cell_type": "markdown",
   "metadata": {},
   "source": [
    "## Sekans Veri Tiplerinde Kopyalama\n",
    "\n",
    "İki çeşit kopyalama tipi vardır.\n",
    "- `yüzeysel (shallow)` kopyalama\n",
    "- `derin (deep)` kopyala\n",
    "\n",
    "### Yüzeysel Kopyalama (Shallow Copy)\n",
    "\n",
    "Yeni bir sekans yaratılır ve bu sekansın elemanları eski sekansın elemanlarına referans verir. Bu durumda yeni sekansın elemanları eski sekansın elemanları ile aynıdır. Yani yeni sekansın elemanları değişirse eski sekansın elemanları da değişir. Dikkatli olunmalıdır çok fazla hataya sebep olmaktadır.\n",
    "\n",
    "Yüzeysel kopyalama için kullanılabilecek yöntemler\n",
    "- slice ile kopyalanabilir `[:]`\n",
    "- `copy` methodu ile kopyalanabilir"
   ]
  },
  {
   "cell_type": "code",
   "execution_count": 169,
   "metadata": {},
   "outputs": [
    {
     "name": "stdout",
     "output_type": "stream",
     "text": [
      "[1, 2, 3, 4, 5]\n"
     ]
    }
   ],
   "source": [
    "# Bir listenin yüzeysel kopyasını yaratalım ve içerisindeki bir elemanı güncelleyip orjinal listeyi kontrol edelim.\n",
    "liste = [1, 2, 3, 4, 5]\n",
    "liste2 = liste[:]\n",
    "liste2[2] = 10\n",
    "print(liste)"
   ]
  },
  {
   "attachments": {},
   "cell_type": "markdown",
   "metadata": {},
   "source": [
    "> 2. indexte bulunan eleman bir `int` ve değiştirilemez bir veri tipi dolayısıyla yeni bir obje yaratıldığı için orjinal liste etkilenmedi. Şimdi ise değiştirilebilir `mutable` bir veri tipi olan `list` kullanalım."
   ]
  },
  {
   "cell_type": "code",
   "execution_count": 170,
   "metadata": {},
   "outputs": [
    {
     "name": "stdout",
     "output_type": "stream",
     "text": [
      "[[1, 2, 3, 4], 4, 5, 6, 7]\n"
     ]
    }
   ],
   "source": [
    "# Bir listenin yüzeysel kopyasını yaratalım ve içerisindeki bir elemanı güncelleyip orjinal listeyi kontrol edelim.\n",
    "liste = [[1, 2, 3], 4, 5, 6, 7]\n",
    "liste2 = liste[:]\n",
    "liste2[0].append(4)\n",
    "print(liste)"
   ]
  },
  {
   "attachments": {},
   "cell_type": "markdown",
   "metadata": {},
   "source": [
    "> Bakın liste2 ye eleman eklendi ancak orjinal listedede o eleman eklenmiş oldu. Çok hata yapılan bir durumdur ve fark edilmeside oldukça zordur. Listelerle çalışırken dikkat edin!"
   ]
  },
  {
   "cell_type": "code",
   "execution_count": 171,
   "metadata": {},
   "outputs": [
    {
     "name": "stdout",
     "output_type": "stream",
     "text": [
      "[[1, 2, 3, 4], 4, 5, 6, 7]\n"
     ]
    }
   ],
   "source": [
    "# Aynı örneği copy metodu ile yapalım. Sonuç değişmeyecek.\n",
    "liste = [[1, 2, 3], 4, 5, 6, 7]\n",
    "liste2 = liste.copy()\n",
    "liste2[0].append(4)\n",
    "print(liste)"
   ]
  },
  {
   "attachments": {},
   "cell_type": "markdown",
   "metadata": {},
   "source": [
    "> Gördüğünüz gibi slice veya copy ile yüzeysel kopyalama yapıyoruz. Elemanımız bir mutable veri tipi olduğu için orjinal listeye de etki etti."
   ]
  },
  {
   "attachments": {},
   "cell_type": "markdown",
   "metadata": {},
   "source": [
    "### Derin Kopyalama (Deep Copy)\n",
    "\n",
    "Derin kopyalama için `copy` modülünün `deepcopy` fonksiyonunu kullanabiliriz. Bu fonksiyon ile yeni bir sekans yaratılır ve bu sekansın elemanları eski sekansın elemanlarına değil, eski sekansın elemanlarının kopyalarına referans verir. Bu durumda yeni sekansın elemanları değişirse eski sekansın elemanları değişmez. Hemen bir örnek yapalım."
   ]
  },
  {
   "cell_type": "code",
   "execution_count": 172,
   "metadata": {},
   "outputs": [
    {
     "name": "stdout",
     "output_type": "stream",
     "text": [
      "[[1, 2, 3], 4, 5, 6, 7]\n"
     ]
    }
   ],
   "source": [
    "# deep copy ile kopyalama yapalım.\n",
    "import copy\n",
    "liste = [[1, 2, 3], 4, 5, 6, 7]\n",
    "liste2 = copy.deepcopy(liste)\n",
    "liste2[0].append(4)\n",
    "print(liste)"
   ]
  },
  {
   "attachments": {},
   "cell_type": "markdown",
   "metadata": {},
   "source": [
    "> Gördüğünüz gibi derin kopyalama ile yeni bir liste oluşturduk ve bu listeye eleman ekledik. Ancak orjinal listeye etki etmedi.\n",
    "\n",
    "&nbsp;"
   ]
  },
  {
   "attachments": {},
   "cell_type": "markdown",
   "metadata": {},
   "source": [
    "## Sekans Dizilerinin Açılması (Unpacking)\n",
    "\n",
    "Sekans veri tiplerinde birden fazla veri vardı. Bu verilere index numarasıyla erişebiliyorduk. Ancak bu verileri tek tek değişkenlere atayabiliriz. Bunun için `unpacking` yapmamız gerekiyor. Bunun için `=` operatörünü kullanıyoruz. Bu operatörün sol tarafında değişkenler, sağ tarafında ise sekans veri tipi olmalıdır. Bu durumda değişkenlerin sayısı ile sekans veri tipindeki elemanların sayısı aynı olmalıdır. Aksi takdirde hata alırız."
   ]
  },
  {
   "cell_type": "code",
   "execution_count": 173,
   "metadata": {},
   "outputs": [
    {
     "name": "stdout",
     "output_type": "stream",
     "text": [
      "1 2 3 4 5\n"
     ]
    }
   ],
   "source": [
    "# Unpacking yaparak birden fazla değer ataması yapalım\n",
    "veri = [1, 2, 3, 4, 5]\n",
    "a, b, c, d, e = veri\n",
    "print(a, b, c, d, e)"
   ]
  },
  {
   "cell_type": "code",
   "execution_count": 174,
   "metadata": {},
   "outputs": [
    {
     "name": "stdout",
     "output_type": "stream",
     "text": [
      "1 2 3\n"
     ]
    }
   ],
   "source": [
    "# Sekans olmak zorunda değil (tuple, set, dictionary).\n",
    "x, y, z = 1, 2, 3\n",
    "print(x, y, z)"
   ]
  },
  {
   "cell_type": "code",
   "execution_count": 175,
   "metadata": {},
   "outputs": [
    {
     "name": "stdout",
     "output_type": "stream",
     "text": [
      "P y t h o n\n"
     ]
    }
   ],
   "source": [
    "# String bir sekans olduğu için unpacking yapabiliriz.\n",
    "a, b, c, d, e, f = \"Python\"\n",
    "print(a, b, c, d, e, f)"
   ]
  },
  {
   "attachments": {},
   "cell_type": "markdown",
   "metadata": {},
   "source": [
    "> Dikkat edilmesi gereken nokta eşitliğin her iki tarafındaki eleman sayısının eşit olması gerekmektedir. 5 elemanlı bir listeyi 3 değişkene atamak mümkün değildir.\n",
    "\n",
    "&nbsp;"
   ]
  },
  {
   "attachments": {},
   "cell_type": "markdown",
   "metadata": {},
   "source": [
    "## İki Değişkenin Değerlerinin Değiştirilmesi\n",
    "\n",
    "İki değişkenin değerlerinin bazen değiştirilmesi gerekmektedir. Python'da bunun için çok güzel bir yöntem var. Bazı yazılım dillerindeyse bunu zor yoldan yapmanız gerekiyor çünkü eğer bir değişkenin değerini değiştirirseniz önceki değerini kaybedersiniz dolayısıyla değiştirmeden önce onu bir yerde saklamanız gerekiyor.\n",
    "`a = 5 ve b = 3` iki değişkeniniz olsun değerlerini nasıl değiştirirsiniz ?\n",
    "\n",
    "Diğer tüm dillerde kullanabileceğiniz yöntem\n",
    "\n",
    "```python\n",
    "a = 5\n",
    "b = 3\n",
    "\n",
    "# a = 3 ve b = 5 olacak\n",
    "\n",
    "gecici = a\n",
    "a = b\n",
    "b = gecici\n",
    "```\n",
    "\n",
    "&nbsp;\n",
    "\n",
    "Python'da neler yapabileceğimize bakalım şimdi;"
   ]
  },
  {
   "cell_type": "code",
   "execution_count": 176,
   "metadata": {},
   "outputs": [
    {
     "name": "stdout",
     "output_type": "stream",
     "text": [
      "3 5\n"
     ]
    }
   ],
   "source": [
    "# Pythonda ise kolayca swap yapabilirsiniz.\n",
    "a = 5\n",
    "b = 3\n",
    "a, b = b, a\n",
    "print(a, b)"
   ]
  }
 ],
 "metadata": {
  "kernelspec": {
   "display_name": "hugoblog-D2SGIyIi",
   "language": "python",
   "name": "python3"
  },
  "language_info": {
   "codemirror_mode": {
    "name": "ipython",
    "version": 3
   },
   "file_extension": ".py",
   "mimetype": "text/x-python",
   "name": "python",
   "nbconvert_exporter": "python",
   "pygments_lexer": "ipython3",
   "version": "3.10.6 (main, Nov 14 2022, 16:10:14) [GCC 11.3.0]"
  },
  "orig_nbformat": 4,
  "vscode": {
   "interpreter": {
    "hash": "ddd11dd1139ada3ac74a62149c9fbe7616d1cf65419526d06a090ac3acf3a2c5"
   }
  }
 },
 "nbformat": 4,
 "nbformat_minor": 2
}
