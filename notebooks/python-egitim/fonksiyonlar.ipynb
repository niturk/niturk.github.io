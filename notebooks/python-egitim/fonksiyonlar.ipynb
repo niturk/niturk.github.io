{
 "cells": [
  {
   "attachments": {},
   "cell_type": "markdown",
   "metadata": {},
   "source": [
    "# Fonksiyonlar\n",
    "\n",
    "Date: 2023-01-25T18:00:00+03:00\n",
    "Categories: python,temel-python-egitimi\n",
    "Tags: python,\n",
    "draft: false\n",
    "<!--eofm-->"
   ]
  },
  {
   "attachments": {},
   "cell_type": "markdown",
   "metadata": {},
   "source": [
    "Fonksiyonlar en işlevsel yapılardan biridir. Şimdiye kadar kullandığımız `print`, `type`, `len` gibi yapıların tamamı fonksiyondu.\n",
    "Aynı şekilde biz kendi fonksiyonlarımızıda yaratabiliriz. Fonksiyonlara, kod tekrarını önlemek ve kompleks olan kodları parçalara bölmek için ihtiyacımız vardır.  \n",
    "Fonksiyon çağrıları yaparken argüman ve parametreler kullanırız. Teknik olarak ikiside aynı şeydir ve sık sık birbirine karıştırılır.\n",
    "- Fonksiyon yaratırken parametreleri kullanırız.\n",
    "- Fonksiyon çağrıları yaparken argümanları kullanırız."
   ]
  },
  {
   "attachments": {},
   "cell_type": "markdown",
   "metadata": {},
   "source": [
    "> Fonksiyonlar her python nesnesi olduğu gibi bir nesnedir.\n",
    "Fonksiyonların durum, kod ve parametreleri vardır. Ayrıca çağrı yapılabilen bir nesnedir.\n",
    "\n",
    "&nbsp;"
   ]
  },
  {
   "attachments": {},
   "cell_type": "markdown",
   "metadata": {},
   "source": [
    "## Çağrılabilen Nesneler\n",
    "\n",
    "Bir nesnenin sonuna `()` parantez eklersek onu çağırmış oluruz. Fonksiyonlar bu nesnelere en iyi örneklerden biridir.\n",
    "```python\n",
    "print(\"Merhaba\")\n",
    "```\n",
    "Bu kodu çalıştırdığımızda `print` fonksiyonunu `Merhaba` argümanı ile çağırmış oluyoruz ve fonksiyon görevini yerine getirerek ekrana `Merhaba` yazdırıyor.\n",
    "\n",
    "&nbsp;"
   ]
  },
  {
   "attachments": {},
   "cell_type": "markdown",
   "metadata": {},
   "source": [
    "## Özel Fonksiyonlar\n",
    "\n",
    "Fonksiyonlar `def` özel kelimesi ile yaratılırlar. `def` kelimesinin anlamı `define` yani tanımlamak anlamına gelir.\n",
    "Fonksiyon yaratılırken bir isim verilir. Bu isim fonksiyonun çağrılmasında kullanılır. Fonksiyonun içindeki kodlar fonksiyon çağrıldığında çalıştırılır.\n",
    "```python\n",
    "def fonksiyon_adi():\n",
    "    print(\"Merhaba\")\n",
    "```\n",
    "\n",
    "&nbsp;  \n",
    "Fonksiyonlar bir değer döndürmek zorundadır. Fonksiyonlar bir değer döndürürse bu değer `return` anahtar kelimesi ile döndürülür.\n",
    "`return` kullanılmazsa fonksiyon varsayılan olarak `None` değerini döndürür.\n",
    "\n",
    "```python\n",
    "def fonksiyon_adi():\n",
    "    return \"Merhaba\"\n",
    "```\n",
    "\n",
    "&nbsp;  \n",
    "Fonksiyon adı fonksiyona sembol olarak atanır. a = 5 dediğimizde `a` değişkenine int 5 değerinin atandığı gibi bir fonksiyon oluştuğunda `fonksiyon_adi` değişkenine fonksiyonun adresi atanır."
   ]
  },
  {
   "cell_type": "code",
   "execution_count": 146,
   "metadata": {},
   "outputs": [
    {
     "name": "stdout",
     "output_type": "stream",
     "text": [
      "5\n"
     ]
    }
   ],
   "source": [
    "def bes_ata():\n",
    "    return 5\n",
    "a = bes_ata()\n",
    "print(a)"
   ]
  },
  {
   "attachments": {},
   "cell_type": "markdown",
   "metadata": {},
   "source": [
    "&nbsp;\n",
    "\n",
    "Her fonksiyon çağrısında bir sözlük yaratılır. Bu sözlük fonksiyonun parametrelerini ve argümanlarını tutar. Bu sözlüğe fonksiyon içerisinden `locals()` fonksiyonu ile erişebiliriz."
   ]
  },
  {
   "cell_type": "code",
   "execution_count": 147,
   "metadata": {},
   "outputs": [
    {
     "name": "stdout",
     "output_type": "stream",
     "text": [
      "{'a': 5, 'b': 6, 'toplam': 11}\n"
     ]
    }
   ],
   "source": [
    "def toplama(a, b):\n",
    "    toplam = a + b\n",
    "    sozluk = locals()\n",
    "    print(sozluk)\n",
    "toplama(5, 6)"
   ]
  },
  {
   "attachments": {},
   "cell_type": "markdown",
   "metadata": {},
   "source": [
    "> Bu sözlük fonksiyon sonlandığında silinir.\n",
    "&nbsp;"
   ]
  },
  {
   "attachments": {},
   "cell_type": "markdown",
   "metadata": {},
   "source": [
    "## Parametreli Fonksiyonlar\n",
    "\n",
    "Fonksiyonlar parametre alarak çalışabilir ve bu parametrelere göre çalışma şeklini değiştirebilir. Unutmamamız gereken bu parametrelerin sıralı olduğudur. Tanımlandığı sırayla değer alırlar."
   ]
  },
  {
   "cell_type": "code",
   "execution_count": 148,
   "metadata": {},
   "outputs": [
    {
     "name": "stdout",
     "output_type": "stream",
     "text": [
      "11\n"
     ]
    }
   ],
   "source": [
    "def toplama(a, b):\n",
    "    return a + b\n",
    "\n",
    "sonuc = toplama(5, 6)\n",
    "print(sonuc)"
   ]
  },
  {
   "attachments": {},
   "cell_type": "markdown",
   "metadata": {},
   "source": [
    "> Fonksiyon parametrelerinin varsayılan değerleri belirtilmezse fonksiyon çağrısı yapılırken bu parametreler verilmelidir. Aksi halde hata alırız.\n",
    "\n",
    "&nbsp;"
   ]
  },
  {
   "attachments": {},
   "cell_type": "markdown",
   "metadata": {},
   "source": [
    "### Dinamik Sıralı Parametreler | `*args`\n",
    "\n",
    "Fonksiyon parametreleri her zaman sabit olmak zorunda değildir. Bazen farklı sayıda parametre almak isteyebiliyoruz. Örneğin tüm parametreleri toplayan bir fonksiyon yazmak istesek. Bu durumda parametre sayısını bilmemiz mümkün değildir. Eğer fonksiyon parametrelerine `*args` yıldız koyarsak sınırsız sayıda parametre alabiliriz.\n",
    "\n",
    "- `*args` parametrelerini bir demet(tuple) olarak alır.\n",
    "- `args` parametre ismi zorunlu değildir. Ancak genelde `args` kullanılır."
   ]
  },
  {
   "cell_type": "code",
   "execution_count": 149,
   "metadata": {},
   "outputs": [
    {
     "name": "stdout",
     "output_type": "stream",
     "text": [
      "35\n"
     ]
    }
   ],
   "source": [
    "# Fonksiyon parametresi olarak *\n",
    "def toplama(a, *args):\n",
    "    return a + sum(args)\n",
    "sonuc = toplama(5, 6, 7, 8, 9)\n",
    "print(sonuc)"
   ]
  },
  {
   "attachments": {},
   "cell_type": "markdown",
   "metadata": {},
   "source": [
    "> `*args` yerine aslında liste kullanabilirdik. Fonksiyonumuz parametre olarak liste alırsa istediğimiz kadar eleman gönderebiliriz. Ancak `*args` kullanmak daha pratik ve okunaklıdır."
   ]
  },
  {
   "cell_type": "code",
   "execution_count": 150,
   "metadata": {},
   "outputs": [
    {
     "name": "stdout",
     "output_type": "stream",
     "text": [
      "a=5 | args=(6, 7, 8, 9) | c=10\n"
     ]
    }
   ],
   "source": [
    "# Fonksiyon parametresi olarak *\n",
    "def fonksiyon(a, *args, c):\n",
    "    print(f'a={a} | args={args} | c={c}')\n",
    "fonksiyon(5, 6, 7, 8, 9, c=10)"
   ]
  },
  {
   "attachments": {},
   "cell_type": "markdown",
   "metadata": {},
   "source": [
    "&nbsp;\n",
    "### Fonksiyon Parametrelerinde Varsayılan Değerler\n",
    "\n",
    "Fonksiyon parametrelerine varsayılan değerler atayabiliriz. Bu durumda fonksiyon çağrısı yaparken parametreyi belirtmezsek varsayılan değer kullanılır."
   ]
  },
  {
   "cell_type": "code",
   "execution_count": 151,
   "metadata": {},
   "outputs": [
    {
     "name": "stdout",
     "output_type": "stream",
     "text": [
      "Merhaba\n",
      "Python\n"
     ]
    }
   ],
   "source": [
    "# Fonksiyonlarda varsayılan değerler\n",
    "def yaz(msg=\"Merhaba\"):\n",
    "    print(msg)\n",
    "yaz()\n",
    "yaz(\"Python\")"
   ]
  },
  {
   "attachments": {},
   "cell_type": "markdown",
   "metadata": {},
   "source": [
    "> Fonksiyon parametrelerinde siralama önemlidir. Varsayılanı olan parametreden sonra normal parametre kullanamazsınız. Varsayılanı olan parametreler, diğer parametrelerden sonra yazılmalıdır.  \n",
    "Örneğin `def func(a, b=1, c=2)` şeklinde tanımlanmış bir fonksiyon var.  \n",
    "Bu fonksiyonu `func(5, 6, 7)` şeklinde çağırdığımızda `a=5, b=6, c=7` olur.  \n",
    "Ancak `func(5, c=6)` şeklinde çağırdığımızda `a=5, b=1, c=6` olur.\n",
    "\n",
    "&nbsp;"
   ]
  },
  {
   "cell_type": "code",
   "execution_count": 152,
   "metadata": {},
   "outputs": [
    {
     "name": "stdout",
     "output_type": "stream",
     "text": [
      "f(1)        ->  a=1, b=5, args=()\n",
      "f(1, 2)     ->  a=1, b=2, args=()\n",
      "f(1, 2, 3)  ->  a=1, b=2, args=(3,)\n"
     ]
    }
   ],
   "source": [
    "def function(a, b=5, *args):\n",
    "    return  f'a={a}, b={b}, args={args}'\n",
    "print(f'f(1)        ->  {function(1)}')\n",
    "print(f'f(1, 2)     ->  {function(1, 2)}')\n",
    "print(f'f(1, 2, 3)  ->  {function(1, 2, 3)}')"
   ]
  },
  {
   "attachments": {},
   "cell_type": "markdown",
   "metadata": {},
   "source": [
    "&nbsp;\n",
    "### Dinamik İsimli Parametreler | `**kwargs`\n",
    "\n",
    "Fonksiyonlarda isimli dinamik parametreleri almak için `**kwargs` kullanılır. Bu parametreler bir sözlük(dict) olarak alınır. `kwargs` parametre ismi zorunlu değildir. Ancak genelde `kwargs` kullanılır. Bu parametrelerin tamamı normal sıralı parametrelerden sonra yazılmalıdır.\n",
    "\n",
    "Bir parametreyi isimli olarak göndermeye zorlamak için `*` kullanılır."
   ]
  },
  {
   "cell_type": "code",
   "execution_count": 153,
   "metadata": {},
   "outputs": [
    {
     "name": "stdout",
     "output_type": "stream",
     "text": [
      "a=5 | b=10\n"
     ]
    }
   ],
   "source": [
    "# a parametresi anahtar=değer şeklinde gönderilmek zorundadir.\n",
    "def fonksiyon(a, *, b):\n",
    "    print(f'a={a} | b={b}')\n",
    "\n",
    "fonksiyon(5, b=10)"
   ]
  },
  {
   "attachments": {},
   "cell_type": "markdown",
   "metadata": {},
   "source": [
    "Zorunlu isim parametrelerine varsayılan değer verilebilir. Bu durumda isimli parametre gönderilmezse varsayılan değer kullanılır."
   ]
  },
  {
   "cell_type": "code",
   "execution_count": 154,
   "metadata": {},
   "outputs": [
    {
     "name": "stdout",
     "output_type": "stream",
     "text": [
      "a=5 | b=10\n"
     ]
    }
   ],
   "source": [
    "# b varsayılan değer olarak tanımlanabilir.\n",
    "def fonksiyon(a, *, b=10):\n",
    "    print(f'a={a} | b={b}')\n",
    "\n",
    "fonksiyon(5) # Sıralı parametre verilirse yine hata verir.s"
   ]
  },
  {
   "cell_type": "code",
   "execution_count": 155,
   "metadata": {},
   "outputs": [
    {
     "name": "stdout",
     "output_type": "stream",
     "text": [
      "18\n"
     ]
    }
   ],
   "source": [
    "# Fonksiyon parametrelerinde **kwargs tüm parametreler isimli olarak gönderilmek zorundadır.\n",
    "def toplama(**kwargs):\n",
    "    return sum(kwargs.values())\n",
    "\n",
    "sonuc = toplama(a=5, b=6, c=7)\n",
    "print(sonuc)"
   ]
  },
  {
   "attachments": {},
   "cell_type": "markdown",
   "metadata": {},
   "source": [
    "&nbsp;\n",
    "\n",
    "Özetlemek gerekirse;\n",
    "- `*args` sıralı dinamik parametreler için kullanılır\n",
    "- `**kwargs` isimli dinamik parametreler için kullanılır\n"
   ]
  },
  {
   "cell_type": "code",
   "execution_count": 156,
   "metadata": {},
   "outputs": [
    {
     "name": "stdout",
     "output_type": "stream",
     "text": [
      "a=1 | b=2 | args=(3, 4, 5) | c=6 | d=7 | kwargs={'e': 8, 'f': 9}\n"
     ]
    }
   ],
   "source": [
    "def fonksiyon(a, b, *args, c, d=7, **kwargs):\n",
    "    print(f'a={a} | b={b} | args={args} | c={c} | d={d} | kwargs={kwargs}')\n",
    "fonksiyon(1, 2, 3, 4, 5, c=6, e=8, f=9)"
   ]
  },
  {
   "attachments": {},
   "cell_type": "markdown",
   "metadata": {},
   "source": [
    "- `a, b` zorunlu sıralı parametredir\n",
    "- `args` sıralı olarak verilen tüm parametreleri alır\n",
    "- `c` zorunlu isimli parametredir (c=değer) şeklinde yazılmalıdır\n",
    "- `d` opsiyonel isimli parametredir. Varsayılan değeri 7'dir\n",
    "- `kwargs` isimli olarak verilen tüm parametreleri alır\n",
    "\n",
    "&nbsp;"
   ]
  },
  {
   "attachments": {},
   "cell_type": "markdown",
   "metadata": {},
   "source": [
    "## Lambda Fonksiyonu\n",
    "\n",
    "Lambda fonksiyonları aslında bildiğimiz fonksiyonlardır.\n",
    "- `def` anahtar kelimesi yerine `lambda` kullanılır.\n",
    "- `lambda` fonksiyonları tek satırlıktır ve fonksiyon objesi döndürürler.\n",
    "- Python `lambda` fonksiyonları için değişken atamaz sadece fonksiyonu oluşturur. Biz değişkene atamak istediğimizde `lambda` fonksiyonunu bir değişkene atarız.\n",
    "- Anonim fonksiyonlar olarak adlandırılırlar.\n",
    "\n",
    "&nbsp;"
   ]
  },
  {
   "attachments": {},
   "cell_type": "markdown",
   "metadata": {},
   "source": [
    "### Lambdanın Yapısı\n",
    "\n",
    "```python\n",
    "lambda parametre1, parametre2, ... : işlem\n",
    "```\n",
    "\n",
    "&nbsp;"
   ]
  },
  {
   "cell_type": "code",
   "execution_count": 157,
   "metadata": {},
   "outputs": [
    {
     "name": "stdout",
     "output_type": "stream",
     "text": [
      "Merhaba\n"
     ]
    }
   ],
   "source": [
    "# Örnek Lambda Fonksiyonu\n",
    "msg = lambda: \"Merhaba\"\n",
    "print(msg())"
   ]
  },
  {
   "cell_type": "code",
   "execution_count": 158,
   "metadata": {},
   "outputs": [
    {
     "name": "stdout",
     "output_type": "stream",
     "text": [
      "11\n"
     ]
    }
   ],
   "source": [
    "# Örnek Lambda Toplama Fonksiyonu\n",
    "toplama = lambda a, b: a + b\n",
    "sonuc = toplama(5, 6)\n",
    "print(sonuc)"
   ]
  }
 ],
 "metadata": {
  "kernelspec": {
   "display_name": "hugoblog-D2SGIyIi",
   "language": "python",
   "name": "python3"
  },
  "language_info": {
   "codemirror_mode": {
    "name": "ipython",
    "version": 3
   },
   "file_extension": ".py",
   "mimetype": "text/x-python",
   "name": "python",
   "nbconvert_exporter": "python",
   "pygments_lexer": "ipython3",
   "version": "3.10.6"
  },
  "orig_nbformat": 4,
  "vscode": {
   "interpreter": {
    "hash": "ddd11dd1139ada3ac74a62149c9fbe7616d1cf65419526d06a090ac3acf3a2c5"
   }
  }
 },
 "nbformat": 4,
 "nbformat_minor": 2
}
