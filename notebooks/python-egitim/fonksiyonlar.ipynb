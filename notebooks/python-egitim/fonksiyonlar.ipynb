{
 "cells": [
  {
   "attachments": {},
   "cell_type": "markdown",
   "metadata": {},
   "source": [
    "# Fonksiyonlar\n",
    "\n",
    "Date: 2023-01-25T18:00:00+03:00\n",
    "Categories: python,temel-python-egitimi\n",
    "Tags: python,\n",
    "draft: false\n",
    "<!--eofm-->"
   ]
  },
  {
   "attachments": {},
   "cell_type": "markdown",
   "metadata": {},
   "source": [
    "Fonksiyonlar en işlevsel yapılardan biridir. Kod tekrarını önlemek için ve kompleks olan kodları parçalara bölmek için ihtiyacımız vardır. Fonksiyon çağrıları yaparken argüman ve parametreler kullanırız. Teknik olarak ikiside aynı şeydir ve sık sık birbirine karıştırılır.\n",
    "- Fonksiyon yaratırken parametreleri kullanırız.\n",
    "- Fonksiyon çağrıları yaparken argümanları kullanırız."
   ]
  },
  {
   "attachments": {},
   "cell_type": "markdown",
   "metadata": {},
   "source": [
    "> Fonksiyonlar her python nesnesi olduğu gibi bir nesnedir ve değişkene atanır.\n",
    "Fonksiyonların durum, kod ve parametreleri vardır. Ayrıca çağrı yapılabilecek bir nesnedir."
   ]
  },
  {
   "attachments": {},
   "cell_type": "markdown",
   "metadata": {},
   "source": [
    "# Çağrılabilen Nesneler\n",
    "\n",
    "`()` parantez ile çağrılabilen nesnelere çağrılabilir nesneler diyoruz. Fonksiyonlar bu nesnelere en iyi örneklerden biridir."
   ]
  },
  {
   "cell_type": "code",
   "execution_count": 1,
   "metadata": {},
   "outputs": [],
   "source": [
    "# Fonksiyon Yaratma\n",
    "def fonksiyon_adi():\n",
    "    return True"
   ]
  },
  {
   "cell_type": "code",
   "execution_count": 2,
   "metadata": {},
   "outputs": [
    {
     "name": "stdout",
     "output_type": "stream",
     "text": [
      "Merhaba\n"
     ]
    }
   ],
   "source": [
    "def merhaba_yaz():\n",
    "    print(\"Merhaba\")\n",
    "merhaba_yaz()"
   ]
  },
  {
   "attachments": {},
   "cell_type": "markdown",
   "metadata": {},
   "source": [
    "> `return` ifadesi ile fonksiyonun sonucunu döndürürüz. `return` yazılmaz ise fonksiyon `None` döndürür."
   ]
  },
  {
   "cell_type": "code",
   "execution_count": 3,
   "metadata": {},
   "outputs": [
    {
     "name": "stdout",
     "output_type": "stream",
     "text": [
      "5\n"
     ]
    }
   ],
   "source": [
    "# Return Örneği\n",
    "def sayi_bul():\n",
    "    return 5\n",
    "sayi = sayi_bul()\n",
    "print(sayi)"
   ]
  },
  {
   "cell_type": "code",
   "execution_count": 4,
   "metadata": {},
   "outputs": [
    {
     "name": "stdout",
     "output_type": "stream",
     "text": [
      "2023-02-07T06:35:50.995650\n"
     ]
    }
   ],
   "source": [
    "# Karmaşık bir örnek\n",
    "from datetime import datetime\n",
    "def simdiki_zaman_utc():\n",
    "    return datetime.utcnow().isoformat()\n",
    "\n",
    "sonuc = simdiki_zaman_utc()\n",
    "print(sonuc)"
   ]
  },
  {
   "attachments": {},
   "cell_type": "markdown",
   "metadata": {},
   "source": [
    "# Parametreli Fonksiyonlar\n",
    "\n",
    "Fonksiyonlar parametre alarak çalışabilir ve bu parametrelere göre çalışma şeklini değiştirebilir."
   ]
  },
  {
   "cell_type": "code",
   "execution_count": 5,
   "metadata": {},
   "outputs": [
    {
     "name": "stdout",
     "output_type": "stream",
     "text": [
      "11\n"
     ]
    }
   ],
   "source": [
    "def toplama(a, b):\n",
    "    return a + b\n",
    "\n",
    "sonuc = toplama(5, 6)\n",
    "print(sonuc)"
   ]
  },
  {
   "attachments": {},
   "cell_type": "markdown",
   "metadata": {},
   "source": [
    "## Fonksiyon Parametresi Olarak *(Yıldız) Kullanımı\n",
    "\n",
    "Fonksiyonlara belirsiz bir sayıda parametre göndermek için kullanırız. Bu parametreler bir tuple içinde saklanır."
   ]
  },
  {
   "cell_type": "code",
   "execution_count": 6,
   "metadata": {},
   "outputs": [
    {
     "name": "stdout",
     "output_type": "stream",
     "text": [
      "35\n"
     ]
    }
   ],
   "source": [
    "# Fonksiyon parametresi olarak *\n",
    "def toplama(*args):\n",
    "    return sum(args)\n",
    "sonuc = toplama(5, 6, 7, 8, 9)\n",
    "print(sonuc)"
   ]
  },
  {
   "attachments": {},
   "cell_type": "markdown",
   "metadata": {},
   "source": [
    "## Fonksiyon Parametrelerinde Varsayılan Değerler\n",
    "\n",
    "Fonksiyon parametrelerine varsayılan değerler atayabiliriz. Bu sayede fonksiyon çağrıları yaparken parametreleri belirtmek zorunda kalmayız."
   ]
  },
  {
   "cell_type": "code",
   "execution_count": 7,
   "metadata": {},
   "outputs": [
    {
     "name": "stdout",
     "output_type": "stream",
     "text": [
      "11\n"
     ]
    }
   ],
   "source": [
    "# Fonksiyonlarda varsayılan değerler\n",
    "def toplama(a, b, c=0):\n",
    "    return a + b + c\n",
    "\n",
    "sonuc = toplama(5, 6)\n",
    "print(sonuc)"
   ]
  },
  {
   "attachments": {},
   "cell_type": "markdown",
   "metadata": {},
   "source": [
    "> Fonksiyon parametrelerinde varsayılan değerlerin sırası önemlidir ve varsayılan parametrelerden sonra normal parametre kullanılamaz. Varsayılan değerlerin sırası değiştirilirse hata alırız. Örneğin `def func(a, b=1, c=2)` şeklinde tanımlanmış bir fonksiyon var. Bu fonksiyonu `func(1, 2, 3)` şeklinde çağırdığımızda `a=1, b=2, c=3` olur. Ancak `func(1, c=3)` şeklinde çağırdığımızda `a=1, b=1, c=3` olur. Çünkü `c` parametresi varsayılan değerini kullanmaz."
   ]
  },
  {
   "attachments": {},
   "cell_type": "markdown",
   "metadata": {},
   "source": [
    "## Fonksiyon Parametrelerinde ** (Çift Yıldız) Kullanımı\n",
    "\n",
    "Fonksiyonlara belirsiz bir sayıda parametre göndermek için kullanırız. Bu parametreler bir dictionary içinde saklanır."
   ]
  },
  {
   "cell_type": "code",
   "execution_count": 8,
   "metadata": {},
   "outputs": [
    {
     "name": "stdout",
     "output_type": "stream",
     "text": [
      "18\n"
     ]
    }
   ],
   "source": [
    "# Fonksiyon parametrelerinde **kwargs\n",
    "def toplama(**kwargs):\n",
    "    return sum(kwargs.values())\n",
    "\n",
    "sonuc = toplama(a=5, b=6, c=7)\n",
    "print(sonuc)"
   ]
  },
  {
   "attachments": {},
   "cell_type": "markdown",
   "metadata": {},
   "source": [
    "# Lambda Fonksiyonu\n",
    "\n",
    "Lambda fonksiyonları tek satırlık fonksiyonlardır. Lambda fonksiyonları bir değişkene atanır ve bu değişken üzerinden çağrılır. Lambda fonksiyonları `return` ifadesi kullanılmadan yazılır."
   ]
  },
  {
   "cell_type": "code",
   "execution_count": 9,
   "metadata": {},
   "outputs": [
    {
     "name": "stdout",
     "output_type": "stream",
     "text": [
      "11\n"
     ]
    }
   ],
   "source": [
    "# Örnek Lambda Kodu\n",
    "toplama = lambda a, b: a + b\n",
    "sonuc = toplama(5, 6)\n",
    "print(sonuc)"
   ]
  }
 ],
 "metadata": {
  "kernelspec": {
   "display_name": "hugoblog-D2SGIyIi",
   "language": "python",
   "name": "python3"
  },
  "language_info": {
   "codemirror_mode": {
    "name": "ipython",
    "version": 3
   },
   "file_extension": ".py",
   "mimetype": "text/x-python",
   "name": "python",
   "nbconvert_exporter": "python",
   "pygments_lexer": "ipython3",
   "version": "3.10.6"
  },
  "orig_nbformat": 4,
  "vscode": {
   "interpreter": {
    "hash": "ddd11dd1139ada3ac74a62149c9fbe7616d1cf65419526d06a090ac3acf3a2c5"
   }
  }
 },
 "nbformat": 4,
 "nbformat_minor": 2
}
