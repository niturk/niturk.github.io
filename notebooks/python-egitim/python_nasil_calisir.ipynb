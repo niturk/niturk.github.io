{
 "cells": [
  {
   "attachments": {},
   "cell_type": "markdown",
   "metadata": {},
   "source": [
    "# Python Kodları Nasıl Çalışır?\n",
    "\n",
    "Date: 2022-12-26T18:00:00+03:00\n",
    "Categories: python,temel-python-egitimi\n",
    "Tags: python,\n",
    "draft: true\n",
    "<!--eofm-->"
   ]
  },
  {
   "attachments": {},
   "cell_type": "markdown",
   "metadata": {},
   "source": [
    "## Python Kodları Nasıl Çalışır?\n",
    "![Python Interpreter](assets/python_calisma/interpreter.png)\n",
    "\n",
    "Python kaynak kodu sadece bir text dosyasıdır. Python kodları hem derlenmekte hemde yorumlanmaktadır.\n",
    "\n",
    "Python kodları iki şekilde çalışmaktadır.\n",
    "1. **İnteraktif mod**\n",
    "2. **Script modu**\n",
    "\n",
    "&nbsp;"
   ]
  },
  {
   "attachments": {},
   "cell_type": "markdown",
   "metadata": {},
   "source": [
    "### İnteraktif Mod\n",
    "Python kodlarını çalıştırmak için bir terminal açıp python yazıp enter tuşuna basmanız yeterlidir. Bu şekilde açılan terminal python interpreter (REPL) olarak adlandırılır. Bu terminalde python kodlarını satır satır yazarak çalıştırabilirsiniz.\n",
    "\n",
    "```bash\n",
    "$ python3.11\n",
    "Python 3.11.1 (main, Dec  7 2022, 01:11:34) [GCC 11.3.0] on linux\n",
    "Type \"help\", \"copyright\", \"credits\" or \"license\" for more information.\n",
    ">>> print('hello world')\n",
    "hello world\n",
    "```\n",
    "\n",
    "- Bu mod grafik arayüzü içermez. Grafik arayüzsüz işletim sistemleri için idealdir.(serverlar, embedded sistemler)\n",
    "- Biraz can sıkıcı olabilir çünkü interaktif mod sadece bir komut arayüzü. `Ctrl + D` tuşlarına basarak çıkabilirsiniz.\n",
    "Ancak unutmayın yazdığınız tüm kodlar silinecek dolayısıyla pek verimli bir yöntem değil.\n",
    "- Bu blog yazılarınıda severek yazdığım web sürümü mevcut, `Jupyter Notebooks` bu modda çalışır. Kullanabilmek için daha önce bahsettiğim `pip` aracı ile kurmanız gerekiyor. Jupyter notebook ile yazdığınız kodlara bir dosyaya kayıt edebilirsiniz. Dosya uzantısı `.ipynb` olan dosyalar Jupyter notebook dosyalarıdır.\n",
    "\n",
    "&nbsp;"
   ]
  },
  {
   "attachments": {},
   "cell_type": "markdown",
   "metadata": {},
   "source": [
    "### Script Modu\n",
    "Bu yöntemde python komutları bir dosyaya yazılır ve o dosya python ile çalıştırılır. Şimdi `hello.py` adında bir dosya oluşturalım ve içine `print(\"Hello World\")` kodunu yazalım. Ardından bu dosyayı `python3 hello.py` komutu ile çalıştıralım.\n",
    "\n",
    "```bash\n",
    "# hello.py\n",
    "print(\"Hello World\")\n",
    "```\n",
    "\n",
    "```bash\n",
    "$ python3 hello.py\n",
    "Hello World\n",
    "```\n",
    "\n",
    "- Tekrar tekrar kodlarınızı çalıştırmak için bu yöntem daha verimlidir.\n",
    "- Karmaşık uygulamalar geliştirebilirsiniz. (web servisleri, grafik arayüzleri, kütüphaneler vb.)\n",
    "- Python kodlarının dosya uzantısı `.py` dir.\n",
    "- Kodlarınızı herhangi bir metin editörünüde yazabilirsiniz. (vim, emacs, nano, vscode, atom, pycharm, spyder, jupyter notebook vb.)\n",
    "Ancak yazılım geliştirme ortamı kullanmanız daha iyi olacaktır. Python için geliştirilmiş bir çok editör mevcuttur.  \n",
    "Bu editörlerin başında;\n",
    "    - `vscode`\n",
    "    - `pycharm`\n",
    "    - `atom` \n",
    "    - `spyder`  \n",
    "gelmektedir. \n",
    "    \n",
    "Bu editörlerin, diğer editörlerden en önemli özellikleri size python kodu yazarken veya test ederken sahip oldukları çeşitli araçlarla yardımcı olarak konfor sağlamalarıdır.\n",
    "- Yeni başlayanlara `pycharm` önerilmektedir. Topluluk ve Profesyonel sürümleri bulunmaktadır. Topluluk sürümü ücretsizdir. Profesyonel sürümü ise ücretlidir. Sadece Pythona özel geliştirilmiş bir ide(Yazılım geliştirme ortamı) dir.\n",
    "- Eğitime [vscode](https://code.visualstudio.com/) kod editörü ile devam edeceğiz. VsCode sahip olduğu eklentiler sayesinde istenildiği gibi bir ide haline getirilebiliyor. Birden fazla yazılım dili ile uğraşıyorsanız muhtemelen en iyi seçenek bu olacaktır. VsCode editörünü kurmak için [buraya](https://code.visualstudio.com/download) tıklayabilirsiniz. Bir sonraki yazımızda bu editörü `python editörü` yapacağız ve kodlarımızı yazmaya başlayacağız.\n",
    "\n",
    "&nbsp;"
   ]
  },
  {
   "attachments": {},
   "cell_type": "markdown",
   "metadata": {},
   "source": [
    "> Daha önceki yazımızda sanal ortamdan bahsetmiştik, Bu iki mod içinde sanal ortam kullanımı aynı şekildedir. Sanal ortamınızı ister `venv` ister `pipenv` ile oluşturup aktif ettikten sonra interaktif veya script modunda python kodlarınızı çalıştırabilirsiniz.\n"
   ]
  }
 ],
 "metadata": {
  "kernelspec": {
   "display_name": "hugoblog-D2SGIyIi",
   "language": "python",
   "name": "python3"
  },
  "language_info": {
   "codemirror_mode": {
    "name": "ipython",
    "version": 3
   },
   "file_extension": ".py",
   "mimetype": "text/x-python",
   "name": "python",
   "nbconvert_exporter": "python",
   "pygments_lexer": "ipython3",
   "version": "3.10.6 (main, Nov 14 2022, 16:10:14) [GCC 11.3.0]"
  },
  "orig_nbformat": 4,
  "vscode": {
   "interpreter": {
    "hash": "ddd11dd1139ada3ac74a62149c9fbe7616d1cf65419526d06a090ac3acf3a2c5"
   }
  }
 },
 "nbformat": 4,
 "nbformat_minor": 2
}
