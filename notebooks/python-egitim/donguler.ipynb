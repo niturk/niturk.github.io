{
 "cells": [
  {
   "attachments": {},
   "cell_type": "markdown",
   "metadata": {},
   "source": [
    "# Döngüler\n",
    "\n",
    "Date: 2023-01-05T18:00:00+03:00\n",
    "Categories: python,temel-python-egitimi\n",
    "Tags: python,\n",
    "draft: false\n",
    "<!--eofm-->"
   ]
  },
  {
   "attachments": {},
   "cell_type": "markdown",
   "metadata": {},
   "source": [
    "Döngüler en çok kullanılan yapılardan biridir. Döngüleri bir kodu tekrar tekrar yazmadan tekrar etmek için kullanırız.\n",
    "İki çeşit döngü vardır.\n",
    "- Sonlu döngüler, belirli bir sayıda tekrar etmek için kullanılır.\n",
    "- Sonsuz döngüler, bir koşul sağlandığı sürece tekrar etmek için kullanılır. Dolayısıyla burada karar yapısıyla birlikte bir kullanım var.\n",
    "\n",
    "Bu iki çeşit için pythonda deterministik olanlar için `for` döngüsünü, deterministik olmayanlar içinde `while` döngüsünü kullanırız."
   ]
  },
  {
   "attachments": {},
   "cell_type": "markdown",
   "metadata": {},
   "source": [
    "## Range Fonksiyonu\n",
    "\n",
    "range tekrarlanabilir bir objedir. Talep ettikçe size bir sayı verir.\n",
    "\n",
    "- range objesi bir sayıdan başlar ve bir sayıya kadar gider.\n",
    "- tüm liste bellekte tutulmaz. Talep ettikçe size bir sayı üretir.\n",
    "- bellek verimli kullanılır.\n",
    "- range objesi sonlu bir objedir. sonsuz bir obje değildir.\n",
    "\n",
    "### range() Fonksiyonunun Kullanımı\n",
    "\n",
    "Range fonksiyonu 3 şekilde kullanılır. Kullanımı sekans veri tiplerindeki slice işlemine benzerdir.\n",
    "\n",
    "- range(10) 0'dan 10'a kadar sayılar üretir. Tek parametre ile kullanıldığında sadece bitiş değeri verilir.\n",
    "- range(1,10) 1'den 10'a kadar sayılar üretir. İki parametre ile kullanıldığında başlangıç ve bitiş değeri verilir.\n",
    "- range(1,10,2) 1'den 10'a kadar 2'şer 2'şer sayılar üretir. Üç parametre ile kullanıldığında başlangıç, bitiş ve artış değeri verilir."
   ]
  },
  {
   "cell_type": "code",
   "execution_count": 1,
   "metadata": {},
   "outputs": [
    {
     "name": "stdout",
     "output_type": "stream",
     "text": [
      "range(0, 10)\n"
     ]
    }
   ],
   "source": [
    "# Bir range oluşturalım ve printleyelim.\n",
    "r = range(10)\n",
    "print(r)"
   ]
  },
  {
   "attachments": {},
   "cell_type": "markdown",
   "metadata": {},
   "source": [
    "> range fonksiyonunun içeriği yazılmadı çünkü henüz ortada bir sayı listesi yok sayıların tek tek üretilmesi gerekiyordu. Bellek bu şekilde daha verimli kullanılır. Sayılar sadece gerektiğinde üretilir."
   ]
  },
  {
   "cell_type": "code",
   "execution_count": 2,
   "metadata": {},
   "outputs": [
    {
     "name": "stdout",
     "output_type": "stream",
     "text": [
      "[0, 1, 2, 3, 4, 5, 6, 7, 8, 9]\n"
     ]
    }
   ],
   "source": [
    "# Sayıları kullanmak için range objesini tuple veya listeye dönüştürmeliyiz.\n",
    "r = range(10)\n",
    "print(list(r))"
   ]
  },
  {
   "attachments": {},
   "cell_type": "markdown",
   "metadata": {},
   "source": [
    "&nbsp;\n",
    "## For Döngüsü\n",
    "\n",
    "For döngüsü tekrarlanabilir sonlu objeler üzerinde dönen bir döngüdür. Bu objelerin içindeki elemanları tek tek dolaşır. Her bir eleman için `for` içerisine yazılan kod bloğu çalışır. Obje içerisindeki tüm elemanlar bittiğinde for döngüsünden çıkılır ve normal kod akışına devam edilir."
   ]
  },
  {
   "cell_type": "code",
   "execution_count": 3,
   "metadata": {},
   "outputs": [
    {
     "name": "stdout",
     "output_type": "stream",
     "text": [
      "1\n",
      "2\n",
      "bitti.\n"
     ]
    }
   ],
   "source": [
    "# For döngüsü örneği\n",
    "for x in [1, 2]:\n",
    "    print(x)\n",
    "print('bitti.')"
   ]
  },
  {
   "attachments": {},
   "cell_type": "markdown",
   "metadata": {},
   "source": [
    "> for döngüsü içerisindeki kod bloğu bir tab kadar girintili olmalıdır. Pythonda daha önce gördüğümüz karar yapılarından buna artık alışmış olmanız gerekiyor.  \n",
    "Yukarıdaki `for` döngümüzde x liste içerisinde dönerek önce `1` daha sonra `2` değerini alıyor ve kod bloğu buna göre çalıştırılıyor, bu sebeple ekranda `1` ve `2` değerleri yazılıyor. Döngü bittiğinde döngüden çıkışıyor ve ekrana `bitti` yazılıyor."
   ]
  },
  {
   "cell_type": "code",
   "execution_count": 4,
   "metadata": {},
   "outputs": [
    {
     "name": "stdout",
     "output_type": "stream",
     "text": [
      "16\n",
      "25\n",
      "bitti.\n"
     ]
    }
   ],
   "source": [
    "# Range fonksiyonunu kullanarak for döngüsü örneği\n",
    "for x in range(4, 6):\n",
    "    alan = x * x\n",
    "    print(alan)\n",
    "print('bitti.')"
   ]
  },
  {
   "attachments": {},
   "cell_type": "markdown",
   "metadata": {},
   "source": [
    "> Tüm python yapıları iç içe kullanılabilir bir döngü içerisine döngü, karar yapıları veya tam tersi istediğiniz kadar sınırsız bir şekilde 1 tab girinti yaparak tüm yapıları kullanabilirsiniz. Tecrübeli kod geliştiricileri, 3 ten fazla girinti yapıyorsanız muhtemelen kötü bir kod yazıyorsunuz yorumunu yapmaktadır."
   ]
  },
  {
   "attachments": {},
   "cell_type": "markdown",
   "metadata": {},
   "source": [
    "### Enumerate Fonksiyonu Kullanımı\n",
    "\n",
    "`enumerate` fonksiyonu bir döngü içerisinde döngü sayacını kullanmak için kullanılır. Bu sayede döngü içerisindeki her bir elemanın kaçıncı eleman olduğunu öğrenebiliriz.\n",
    "\n",
    "Bir liste içerisinde negatif olan sayıları `0` yapmak istediğimizi düşünelim. Burada döngüleri kullanmamız gerekiyor çünkü eleman döngüsüz yapsaydık her eleman için manuel bir if kodu yazmamız gerekirdi. Bulduğumuz elemanı düzeltmek içinde index numarasına ihtiyacımız var `enumerate` fonksiyonu burada çok işimize yarayacak gibi duruyor."
   ]
  },
  {
   "cell_type": "code",
   "execution_count": 5,
   "metadata": {},
   "outputs": [
    {
     "name": "stdout",
     "output_type": "stream",
     "text": [
      "[1, 0, 3, 0, 5]\n"
     ]
    }
   ],
   "source": [
    "# enumerate ile for döngüsü örneği\n",
    "data = [1, -2, 3, -4, 5]\n",
    "for index, eleman in enumerate(data):\n",
    "    if eleman < 0:\n",
    "        data[index] = 0\n",
    "print(data)"
   ]
  },
  {
   "attachments": {},
   "cell_type": "markdown",
   "metadata": {},
   "source": [
    "&nbsp;\n",
    "## While Döngüsü\n",
    "\n",
    "While döngüsü bir koşul sağlandığı sürece dönen bir döngüdür. Koşul sağlandığı sürece döngü içerisindeki kod bloğu çalışır. Koşul sağlanmazsa döngüden çıkılır ve normal kod akışına devam edilir."
   ]
  },
  {
   "attachments": {},
   "cell_type": "markdown",
   "metadata": {},
   "source": [
    "> Koşul sağlandığı sürece döngü sonsuza kadar çalışır. Sonsuz döngü oluşturabilme riski bulunmaktadır. Bu yüzden while döngüsü kullanırken dikkatli olmak gerekir."
   ]
  },
  {
   "cell_type": "code",
   "execution_count": 6,
   "metadata": {},
   "outputs": [
    {
     "name": "stdout",
     "output_type": "stream",
     "text": [
      "1\n",
      "2\n",
      "bitti.\n"
     ]
    }
   ],
   "source": [
    "# While döngüsü örneği\n",
    "x = 1\n",
    "while x < 3:\n",
    "    print(x)\n",
    "    x += 1\n",
    "print('bitti.')"
   ]
  },
  {
   "attachments": {},
   "cell_type": "markdown",
   "metadata": {},
   "source": [
    "&nbsp;\n",
    "## Continue,Break ve Else Anahtar Kelimeleri Kullanımı\n",
    "\n",
    "### Continue Anahtar Kelimesi\n",
    "\n",
    "Bazen döngüde gelen elemana göre veya bir duruma göre kod bloğunu çalıştırmak istemeyiz ama döngünün bir sonraki elemana geçmesini isteriz. Bu durumda `continue` anahtar kelimesini kullanırız.\n",
    "\n",
    "Örneğin sadece tek basamaklı sayıları yazdıran bir kod yazalım. Çift basamaklılar için `continue` anahtar kelimesini kullanacağız."
   ]
  },
  {
   "cell_type": "code",
   "execution_count": 7,
   "metadata": {},
   "outputs": [
    {
     "name": "stdout",
     "output_type": "stream",
     "text": [
      "1\n",
      "3\n",
      "7\n",
      "bitti.\n"
     ]
    }
   ],
   "source": [
    "# Sadece tek basamaklı sayıları yazdıralım.\n",
    "sayilar = [1, 20, 3, 40, 55, 60, 7, 80, 99, 100]\n",
    "for sayi in sayilar:\n",
    "    if sayi > 9:\n",
    "        continue\n",
    "    print(sayi)\n",
    "print('bitti.')"
   ]
  },
  {
   "cell_type": "code",
   "execution_count": 8,
   "metadata": {},
   "outputs": [
    {
     "name": "stdout",
     "output_type": "stream",
     "text": [
      "1\n",
      "3\n",
      "7\n",
      "bitti.\n"
     ]
    }
   ],
   "source": [
    "# continue çok kullanılmaz. Çünkü kodun okunabilirliğini azaltır.\n",
    "# Bu örnekte continue kullanılmadan da aynı sonucu elde edebiliriz.\n",
    "sayilar = [1, 20, 3, 40, 55, 60, 7, 80, 99, 100]\n",
    "for sayi in sayilar:\n",
    "    if sayi < 10:\n",
    "        print(sayi)\n",
    "print('bitti.')"
   ]
  },
  {
   "attachments": {},
   "cell_type": "markdown",
   "metadata": {},
   "source": [
    "> Zorunda kalmadıkça kullanmamak gerekir. Çünkü kodun okunabilirliğini azaltır."
   ]
  },
  {
   "attachments": {},
   "cell_type": "markdown",
   "metadata": {},
   "source": [
    "### Break Anahtar Kelimesi\n",
    "\n",
    "Bazen döngüde gelen elemana göre veya bir duruma göre hem kod bloğunu çalıştırmak istemeyiz hemde döngüyü sonlandırmak isteyebiliriz. Bu durumda `break` anahtar kelimesini kullanırız.\n",
    "\n",
    "Bir yazı içerisinde `python` kelimesini arattığınızı düşünün ve döngü içerisinde kelime bulundu bu durumda döngüye devam etmek istenmez `break` anahtar kelimesi ile döngüden çıkılır."
   ]
  },
  {
   "cell_type": "code",
   "execution_count": 9,
   "metadata": {},
   "outputs": [
    {
     "name": "stdout",
     "output_type": "stream",
     "text": [
      "1\n",
      "bitti.\n"
     ]
    }
   ],
   "source": [
    "# Break örneği 2. sayı 9 dan büyük yazılmadan döngüden çıkılacak.\n",
    "sayilar = [1, 20, 3, 40, 55, 60, 7, 80, 99, 100]\n",
    "for sayi in sayilar:\n",
    "    if sayi > 9:\n",
    "        break\n",
    "    print(sayi)\n",
    "print('bitti.')"
   ]
  },
  {
   "cell_type": "code",
   "execution_count": 10,
   "metadata": {},
   "outputs": [
    {
     "name": "stdout",
     "output_type": "stream",
     "text": [
      "1\n",
      "2\n",
      "3\n",
      "bitti.\n"
     ]
    }
   ],
   "source": [
    "# Break while sonsuz döngüsünü kırabilen bir yapıdır.\n",
    "x = 1\n",
    "while True:\n",
    "    print(x)\n",
    "    x += 1\n",
    "    if x > 3:\n",
    "        break\n",
    "print('bitti.')"
   ]
  },
  {
   "attachments": {},
   "cell_type": "markdown",
   "metadata": {},
   "source": [
    "### Else Anahtar Kelimesi\n",
    "\n",
    "`for` döngüsünde `else` yapısı kullanılabilir. `else` yapısı `for` döngüsünde `break` anahtar kelimesi kullanılmadığı sürece çalışır. `break` anahtar kelimesi kullanıldığı zaman `else` yapısı çalışmaz.\n",
    "\n",
    "```python\n",
    "for i in range(5):\n",
    "    <code block 1>\n",
    "else: # break kullanılmadıysa bu kod bloğu çalışır\n",
    "    <code block 2>\n",
    "```\n",
    "\n",
    "<code block 2> nin çalışması için for döngüsünden normal bir şekilde çıkılması gerekmektedir."
   ]
  },
  {
   "cell_type": "code",
   "execution_count": 11,
   "metadata": {},
   "outputs": [
    {
     "name": "stdout",
     "output_type": "stream",
     "text": [
      "Bulunamadı\n"
     ]
    }
   ],
   "source": [
    "# Break ile bir liste içerisinde arama\n",
    "liste = [1, 2, 3, 4, 5, 6, 7, 8, 9, 10]\n",
    "bulundu = False\n",
    "for el in liste:\n",
    "    if el == 'python':\n",
    "        bulundu = True\n",
    "        print('Bulundu')\n",
    "        break\n",
    "\n",
    "if not bulundu:\n",
    "    print('Bulunamadı')"
   ]
  },
  {
   "cell_type": "code",
   "execution_count": 12,
   "metadata": {},
   "outputs": [
    {
     "name": "stdout",
     "output_type": "stream",
     "text": [
      "Bulunamadı\n"
     ]
    }
   ],
   "source": [
    "# Şimdi aynı örneği else kullanarak daha güzel ve okunaklı yazalım.\n",
    "liste = [1, 2, 3, 4, 5, 6, 7, 8, 9, 10]\n",
    "for el in liste:\n",
    "    if el == 'python':\n",
    "        print('Bulundu')\n",
    "        break\n",
    "else:\n",
    "    print('Bulunamadı')"
   ]
  },
  {
   "attachments": {},
   "cell_type": "markdown",
   "metadata": {},
   "source": [
    "> Python dilinde okunabilirliği yüksek kodlar yazmak çok önemlidir. Pratik yaparak bu konuda kendinizi geliştirebilirsiniz."
   ]
  }
 ],
 "metadata": {
  "kernelspec": {
   "display_name": "hugoblog-D2SGIyIi",
   "language": "python",
   "name": "python3"
  },
  "language_info": {
   "codemirror_mode": {
    "name": "ipython",
    "version": 3
   },
   "file_extension": ".py",
   "mimetype": "text/x-python",
   "name": "python",
   "nbconvert_exporter": "python",
   "pygments_lexer": "ipython3",
   "version": "3.10.6"
  },
  "orig_nbformat": 4,
  "vscode": {
   "interpreter": {
    "hash": "ddd11dd1139ada3ac74a62149c9fbe7616d1cf65419526d06a090ac3acf3a2c5"
   }
  }
 },
 "nbformat": 4,
 "nbformat_minor": 2
}
