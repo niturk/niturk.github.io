{
 "cells": [
  {
   "attachments": {},
   "cell_type": "markdown",
   "metadata": {},
   "source": [
    "# Sözlükler\n",
    "\n",
    "Date: 2023-01-20T18:00:00+03:00\n",
    "Categories: python,temel-python-egitimi\n",
    "Tags: python,\n",
    "draft: false\n",
    "<!--eofm-->"
   ]
  },
  {
   "attachments": {},
   "cell_type": "markdown",
   "metadata": {},
   "source": [
    "Sözlükler pythonda en önemli veri yapılarından birisidir. Ancak objeler bile aslında sözlüktür. Objelerin özellikleri ve metodları sözlüklerle objeye ilişkilendirilirler. Görmesek bile aslında python kodu yazarken her zaman sözlüklerle çalışıyoruz.\n",
    "\n",
    "Kullanıma uygun birkaç örnek vermek gerekirse;\n",
    "\n",
    "Bir telefon rehberi düşünün telefon ve kime ait olduğu tutulur,\n",
    "DNS servisinin çalışma biçimine bakıldığında web adresi ve IP adresi ilişkisi vardır,\n",
    "Okuduğumuz bir kitabın içindekiler bölümünde sayfa numaraları ile konular ilişkilidir. İşte tüm bu uygulamalar sözlükler sayesinde gerçekleştirilir.\n",
    "\n",
    "&nbsp;"
   ]
  },
  {
   "attachments": {},
   "cell_type": "markdown",
   "metadata": {},
   "source": [
    "## İlişkisel Veriler\n",
    "\n",
    "Sözlüklerde anahtar ve değer ilişkisi vardır. Daha önce listeleri öğrenmiştik sözlükleri listelerle gerçekleştirelim ve daha sonra sözlüklerin özelliklerini inceleyelim."
   ]
  },
  {
   "cell_type": "code",
   "execution_count": 2,
   "metadata": {},
   "outputs": [],
   "source": [
    "anahtarlar = [\"a\", \"b\", \"c\", \"d\"]\n",
    "degerler = [1, 2, 3, 4]"
   ]
  },
  {
   "attachments": {},
   "cell_type": "markdown",
   "metadata": {},
   "source": [
    "Yukarıda iki adet liste oluşturduk. Birinde anahtarları tutuyoruz diğerinde değerlerini. Şimdi `a` anahtarı için değeri bulalım."
   ]
  },
  {
   "cell_type": "code",
   "execution_count": 3,
   "metadata": {},
   "outputs": [
    {
     "name": "stdout",
     "output_type": "stream",
     "text": [
      "1\n"
     ]
    }
   ],
   "source": [
    "index = anahtarlar.index(\"a\")\n",
    "print(degerler[index])"
   ]
  },
  {
   "attachments": {},
   "cell_type": "markdown",
   "metadata": {},
   "source": [
    "`a` anahtarının indexini bulduk ve değerler listesindeki aynı indexe sahip değeri aldık. Biraz zor yoldan oldu ama sözlükler sayesinde daha kolay bir şekilde aynı şeyi yapabiliyoruz.\n",
    "\n",
    "> Tabi sözlüklere ihtiyacımız yok diyebiliriz bu durumda ancak bu yöntemlerin çok verimsiz olduğunu unutmayın. Listelerde arama yapmanız gerekicek ve bu işlem uzun sürebilir. Sözlükler sayesinde bu işlem çok daha hızlı ve kolay oluyor.\n",
    "\n",
    "&nbsp;"
   ]
  },
  {
   "attachments": {},
   "cell_type": "markdown",
   "metadata": {},
   "source": [
    "## Hash Haritaları (Hash Maps)\n",
    "\n",
    "Sözlüklerin çalışma mantığı hash haritalarıdır. Hash haritaları anahtarları ve değerleri ilişkilendirmek için kullanılır. Anahtar bulmak için özel bir yöntem kullanıldığı için değer bulma hızı anahtar sayısına bağlı değildir. Bu yüzden sözlüklerde anahtar kelimeler hashlenebilen bir veri türünde olmalıdır.\n",
    "\n",
    "- Stringler hashlenebilir.\n",
    "- Sayısal veri tipleri hashlenebilir.\n",
    "- Demetler hashlenebilir (eğer tüm elemanları hashlenebilirse).\n",
    "- Listeler hashlenemez (mutable objeler hashlenemez).\n",
    "\n",
    "&nbsp;"
   ]
  },
  {
   "cell_type": "code",
   "execution_count": 4,
   "metadata": {},
   "outputs": [
    {
     "name": "stdout",
     "output_type": "stream",
     "text": [
      "100 -768187606974356583\n"
     ]
    }
   ],
   "source": [
    "# Hash fonksiyonu örneği\n",
    "sayi = hash(100) # integer\n",
    "metin = hash(\"100\") # string\n",
    "print(sayi, metin)"
   ]
  },
  {
   "attachments": {},
   "cell_type": "markdown",
   "metadata": {},
   "source": [
    "> Sizde bir liste oluşturun ve hash fonksiyonuna gönderin. Göreceksiniz ki hata alırsınız.\n",
    "\n",
    "&nbsp;"
   ]
  },
  {
   "attachments": {},
   "cell_type": "markdown",
   "metadata": {},
   "source": [
    "## Sözlüklerin Özellikleri\n",
    "\n",
    "- Sözlükler anahtar ve değer ilişkisi vardır ve bunlar python objesidir.\n",
    "- Anahtarlar haslenebilir ve benzersiz olmalıdır. Birden fazla aynı anahtarı tanımlayamazsınız.\n",
    "- Değerler herhangi bir veri türü olabilir, sınırlama yoktur.\n",
    "- Sözlüklerin tipi `dict` dir.\n",
    "- Sözlükler sekans olmadığı için indekslenemezler. Değere anahtar ile ulaşılır. Listeler ve demetler gibi değillerdir.\n",
    "- Teknik olarak sözlüklerde sıralama söz konusu değildir. (Python 3.6 ile artık sıralı.)\n",
    "- Sözlükler mutable objelerdir. Yani değiştirilebilirler.\n",
    "- Sözlükler `{}` ile tanımlanır. Anahtar ve değerleri `:` ile ayırırız, daha sonra `,' ile bir sonraki anahtar değer çiftlerini yazabiliriz."
   ]
  },
  {
   "cell_type": "code",
   "execution_count": 5,
   "metadata": {},
   "outputs": [
    {
     "name": "stdout",
     "output_type": "stream",
     "text": [
      "{'a': 1, 'b': 2, 'c': 3, 'd': 4}\n"
     ]
    }
   ],
   "source": [
    "# Örnek bir sözlük\n",
    "sozluk = {\"a\": 1, \"b\": 2, \"c\": 3, \"d\": 4}\n",
    "print(sozluk)"
   ]
  },
  {
   "attachments": {},
   "cell_type": "markdown",
   "metadata": {},
   "source": [
    "&nbsp;\n",
    "### Bir Sözlük İçerisinde Değer Bulma\n",
    "\n",
    "Sözlüklerin indexi yoktur. Değerlere anahtar ile ulaşılır. Sözlüklerin anahtarlarına `[]` ile ulaşabiliriz. Eğer anahtar sözlükte yoksa hata alırız."
   ]
  },
  {
   "cell_type": "code",
   "execution_count": 6,
   "metadata": {},
   "outputs": [
    {
     "name": "stdout",
     "output_type": "stream",
     "text": [
      "2\n"
     ]
    }
   ],
   "source": [
    "# Sözlükteki bir anahtarın değerine erişmek\n",
    "sozluk = {\"a\": 1, \"b\": 2, \"c\": 3, \"d\": 4}\n",
    "print(sozluk[\"b\"])"
   ]
  },
  {
   "attachments": {},
   "cell_type": "markdown",
   "metadata": {},
   "source": [
    "&nbsp;\n",
    "### Bir Sözlük İçerisinde Değer Değiştirme\n",
    "\n",
    "Sözlükler mutable objelerdir. Değerleri değiştirebiliriz. Eğer sözlükte olmayan bir anahtarı değiştirmeye çalışırsak hata alırız."
   ]
  },
  {
   "cell_type": "code",
   "execution_count": 7,
   "metadata": {},
   "outputs": [
    {
     "name": "stdout",
     "output_type": "stream",
     "text": [
      "{'a': 1, 'b': 10, 'c': 3, 'd': 4}\n"
     ]
    }
   ],
   "source": [
    "# Örnek bir sözlük içerisinde değer değiştirme\n",
    "sozluk = {\"a\": 1, \"b\": 2, \"c\": 3, \"d\": 4}\n",
    "sozluk[\"b\"] = 10\n",
    "print(sozluk)"
   ]
  },
  {
   "attachments": {},
   "cell_type": "markdown",
   "metadata": {},
   "source": [
    "&nbsp;\n",
    "### Bir Sözlüğe Yeni Bir Anahtar Değeri Ekleme\n",
    "\n",
    "Sözlüklere yeni bir anahtar değer çifti ekleyebiliriz. Eğer anahtar varsa değerini güncellemiş oluruz yoksa yeni bir anahtar değer çifti eklenir."
   ]
  },
  {
   "cell_type": "code",
   "execution_count": 8,
   "metadata": {},
   "outputs": [
    {
     "name": "stdout",
     "output_type": "stream",
     "text": [
      "{'a': 1, 'b': 2, 'c': 3, 'd': 4, 'e': 5}\n"
     ]
    }
   ],
   "source": [
    "# Örnek bir sözlük içerisine yeni eleman ekleme\n",
    "sozluk = {\"a\": 1, \"b\": 2, \"c\": 3, \"d\": 4}\n",
    "sozluk[\"e\"] = 5\n",
    "print(sozluk)"
   ]
  },
  {
   "attachments": {},
   "cell_type": "markdown",
   "metadata": {},
   "source": [
    "&nbsp;\n",
    "### Bir Sözlükten Bir Anahtar Değeri Silme\n",
    "\n",
    "Sözlüklerden anahtar değer çiftleri silinebilir. Eğer sözlükte olmayan bir anahtarı silmeye çalışırsak hata alırız."
   ]
  },
  {
   "cell_type": "code",
   "execution_count": 9,
   "metadata": {},
   "outputs": [
    {
     "name": "stdout",
     "output_type": "stream",
     "text": [
      "{'a': 1, 'c': 3, 'd': 4}\n"
     ]
    }
   ],
   "source": [
    "# Örnek bir sözlük içerisinden eleman silme\n",
    "sozluk = {\"a\": 1, \"b\": 2, \"c\": 3, \"d\": 4}\n",
    "del sozluk[\"b\"]\n",
    "print(sozluk)"
   ]
  },
  {
   "attachments": {},
   "cell_type": "markdown",
   "metadata": {},
   "source": [
    "&nbsp;\n",
    "### Sözlüklerle Sıkça Yapılan Hatalar\n",
    "\n",
    "En sık karşılaşılabilecek hata `KeyError` hatasıdır. Bu hatayı iki şekilde alabiliriz.\n",
    "\n",
    "- Sözlükte olmayan bir anahtarı kullanmaya çalıştığımızda.\n",
    "- Sözlükte olmayan bir anahtarı silmeye çalıştığımızda.\n",
    "\n",
    "Diğer alabileceğimiz hata ise `TypeError` hatasıdır. Bu hatayı hashlenemeyen bir veri tipini anahtar olarak kullanmaya çalıştığımızda alırız.\n",
    "\n",
    "&nbsp;"
   ]
  },
  {
   "attachments": {},
   "cell_type": "markdown",
   "metadata": {},
   "source": [
    "## Sözlükler İle Döngü Kullanımı\n",
    "\n",
    "Sözlükler ile `for` döngüsü kullanılabilir. Varsayılan olarak for döngüsünde anahtarlar kullanılır. Eğer değerleri kullanmak istiyorsak `values()` metodunu kullanabiliriz. Eğer hem anahtar hem de değerleri kullanmak istiyorsak `items()` metodunu kullanabiliriz."
   ]
  },
  {
   "cell_type": "code",
   "execution_count": 10,
   "metadata": {},
   "outputs": [
    {
     "name": "stdout",
     "output_type": "stream",
     "text": [
      "a\n",
      "b\n",
      "c\n"
     ]
    }
   ],
   "source": [
    "# Sözlüklerde döngüler ile anahtarları almak\n",
    "sozluk = {\"a\": 1, \"b\": 2, \"c\": 3}\n",
    "for anahtar in sozluk:\n",
    "    print(anahtar)"
   ]
  },
  {
   "cell_type": "code",
   "execution_count": 11,
   "metadata": {},
   "outputs": [
    {
     "name": "stdout",
     "output_type": "stream",
     "text": [
      "1\n",
      "2\n",
      "3\n"
     ]
    }
   ],
   "source": [
    "# Sözlüklerde döngüler ile değerleri almak\n",
    "sozluk = {\"a\": 1, \"b\": 2, \"c\": 3}\n",
    "for deger in sozluk.values():\n",
    "    print(deger)"
   ]
  },
  {
   "cell_type": "code",
   "execution_count": 12,
   "metadata": {},
   "outputs": [
    {
     "name": "stdout",
     "output_type": "stream",
     "text": [
      "a 1\n",
      "b 2\n",
      "c 3\n"
     ]
    }
   ],
   "source": [
    "# Sözlüklerde döngüler ile anahtar ve değerleri almak\n",
    "sozluk = {\"a\": 1, \"b\": 2, \"c\": 3}\n",
    "for anahtar, deger in sozluk.items():\n",
    "    print(anahtar, deger)"
   ]
  },
  {
   "attachments": {},
   "cell_type": "markdown",
   "metadata": {},
   "source": [
    "&nbsp;\n",
    "## Sözlüklerle Çalışmak\n",
    "\n",
    "### Sözlüklerde Anahtar Kontrolü\n",
    "\n",
    "Sözlüklerde anahtarın olup olmadığını kontrol etmek için `in` operatörünü kullanabiliriz. Eğer anahtar sözlükte varsa `True` değilse `False` döner."
   ]
  },
  {
   "cell_type": "code",
   "execution_count": 13,
   "metadata": {},
   "outputs": [
    {
     "name": "stdout",
     "output_type": "stream",
     "text": [
      "Sözlükte 'd' anahtarı bulunmamaktadır.\n"
     ]
    }
   ],
   "source": [
    "# Sözlüklerde olmayan anahtarlar sorgulandığında hata almamak için in operatörü kullanılabilir\n",
    "sozluk = {\"a\": 1, \"b\": 2, \"c\": 3}\n",
    "if \"d\" in sozluk:\n",
    "    print(sozluk[\"d\"])\n",
    "else:\n",
    "    print(\"Sözlükte 'd' anahtarı bulunmamaktadır.\")"
   ]
  },
  {
   "attachments": {},
   "cell_type": "markdown",
   "metadata": {},
   "source": [
    "&nbsp;\n",
    "### Sözlüklerde Kullanışlı Metodlar\n",
    "\n",
    "- `sozluk.clear()` : Sözlüğü temizler.\n",
    "- `sozluk.copy()` : Sözlüğü kopyalar. Yüzeysel kopyalama yapar (shallow copy). Yani içindeki objeler aynı referansı gösterir. Deep copy yapmak için `copy.deepcopy()` kullanabiliriz.\n",
    "- `len(sozluk)` : Sözlükteki anahtar değer çiftlerinin sayısını döner.\n",
    "\n",
    "&nbsp;"
   ]
  },
  {
   "attachments": {},
   "cell_type": "markdown",
   "metadata": {},
   "source": [
    "### Sözlük Oluşturmak ve Diğer Metodlar\n",
    "\n",
    "Sözlükler `{}` ile oluşturulabilir. Ayrıca `dict()` fonksiyonu ile de oluşturulabilir. `dict()` fonksiyonu ile oluştururken iki şekilde oluşturabiliriz."
   ]
  },
  {
   "cell_type": "code",
   "execution_count": 14,
   "metadata": {},
   "outputs": [],
   "source": [
    "# {} ve dict() fonksiyonu ile sözlük oluşturma\n",
    "sozluk_1 = {\"a\": 1, \"b\": 2, \"c\": 3}\n",
    "sozluk_2 = dict(a=1, b=2, c=3)                  # anahtar=değer şeklinde\n",
    "sozluk_3 = dict([(\"a\", 1), (\"b\", 2), (\"c\", 3)]) # liste içerisinde tuple şeklinde"
   ]
  },
  {
   "cell_type": "code",
   "execution_count": 15,
   "metadata": {},
   "outputs": [
    {
     "name": "stdout",
     "output_type": "stream",
     "text": [
      "{'a': 1, 'b': 1, 'c': 1}\n"
     ]
    }
   ],
   "source": [
    "# Aynı değer ile birden fazla anahtar tanımlama\n",
    "sozluk = dict.fromkeys([\"a\", \"b\", \"c\"], 1)\n",
    "print(sozluk)"
   ]
  },
  {
   "cell_type": "code",
   "execution_count": 16,
   "metadata": {},
   "outputs": [
    {
     "name": "stdout",
     "output_type": "stream",
     "text": [
      "{'a': 1, 'b': 1, 'c': 1}\n"
     ]
    }
   ],
   "source": [
    "# fromkeys() fonksiyonu tekrarlanabilir bir veri tipi olmalıdır. String, List, Tuple gibi.\n",
    "sozluk = dict.fromkeys(\"abc\", 1)\n",
    "print(sozluk)"
   ]
  },
  {
   "attachments": {},
   "cell_type": "markdown",
   "metadata": {},
   "source": [
    "&nbsp;\n",
    "### Boş Bir Sözlük Oluşturmak"
   ]
  },
  {
   "cell_type": "code",
   "execution_count": 17,
   "metadata": {},
   "outputs": [],
   "source": [
    "# Boş sözlük oluşturma\n",
    "sozluk = {}\n",
    "sozluk = dict()"
   ]
  },
  {
   "attachments": {},
   "cell_type": "markdown",
   "metadata": {},
   "source": [
    "&nbsp;\n",
    "### Sözlüklerde get() Metodu\n",
    "\n",
    "`get()` metodunda sözlükten ilgili anahtarı isteriz yoksa eğer hata almak yerine belirlenen varsayılan bir değer döndürülür."
   ]
  },
  {
   "cell_type": "code",
   "execution_count": 18,
   "metadata": {},
   "outputs": [
    {
     "name": "stdout",
     "output_type": "stream",
     "text": [
      "0\n"
     ]
    }
   ],
   "source": [
    "# Sözlüklerde get metodu kullanımı\n",
    "sozluk = {\"a\": 1, \"b\": 2, \"c\": 3}\n",
    "print(sozluk.get(\"d\", 0))"
   ]
  },
  {
   "attachments": {},
   "cell_type": "markdown",
   "metadata": {},
   "source": [
    "&nbsp;\n",
    "### İki Sözlüğü Birleştirmek\n",
    "\n",
    "`update()` metodunu kullanarak iki sözlüğü birleştirebiliriz. Eğer iki sözlükte aynı anahtar varsa ikinci sözlükteki değer geçerli olur."
   ]
  },
  {
   "cell_type": "code",
   "execution_count": 19,
   "metadata": {},
   "outputs": [
    {
     "name": "stdout",
     "output_type": "stream",
     "text": [
      "{'a': 1, 'b': 2, 'c': 4, 'd': 5, 'e': 6}\n"
     ]
    }
   ],
   "source": [
    "# Update metodu ile sözlüklerin birleştirilmesi\n",
    "sozluk_1 = {\"a\": 1, \"b\": 2, \"c\": 3}\n",
    "sozluk_2 = {\"c\": 4, \"d\": 5, \"e\": 6}\n",
    "sozluk_1.update(sozluk_2)\n",
    "print(sozluk_1)"
   ]
  }
 ],
 "metadata": {
  "kernelspec": {
   "display_name": "hugoblog-D2SGIyIi",
   "language": "python",
   "name": "python3"
  },
  "language_info": {
   "codemirror_mode": {
    "name": "ipython",
    "version": 3
   },
   "file_extension": ".py",
   "mimetype": "text/x-python",
   "name": "python",
   "nbconvert_exporter": "python",
   "pygments_lexer": "ipython3",
   "version": "3.10.6"
  },
  "orig_nbformat": 4,
  "vscode": {
   "interpreter": {
    "hash": "ddd11dd1139ada3ac74a62149c9fbe7616d1cf65419526d06a090ac3acf3a2c5"
   }
  }
 },
 "nbformat": 4,
 "nbformat_minor": 2
}
