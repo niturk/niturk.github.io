{
 "cells": [
  {
   "attachments": {},
   "cell_type": "markdown",
   "metadata": {},
   "source": [
    "# İterasyon ve İteratörler\n",
    "\n",
    "Date: 2023-01-24T18:00:00+03:00\n",
    "Categories: python,temel-python-egitimi\n",
    "Tags: python,\n",
    "draft: false\n",
    "<!--eofm-->"
   ]
  },
  {
   "attachments": {},
   "cell_type": "markdown",
   "metadata": {},
   "source": [
    "İterasyon yapisini bir veri yapısından her seferinde bir eleman alarak işlem yapmak için kullanırız.\n",
    "\n",
    "- Sequence veri tipleri itere edilebilir. (list, tuple, string) index sırasına göre.\n",
    "- Sözlük veri tipi itere edilebilir. (ekleme sırasına göre.)\n",
    "- Set veri tipi itere edilebilir. (sırasız)\n",
    "\n",
    "İterasyonda genel yapı tüm elemanlar bitene kadar bir eleman istenir."
   ]
  },
  {
   "attachments": {},
   "cell_type": "markdown",
   "metadata": {},
   "source": [
    "Bu durumda iki konsepten bahsedebiliriz. `itere edilebilir` ve `iteratör`.\n",
    "\n",
    "-`itere edilebilir` veri koleksiyonu olan nesnelerdir. (list, tuple, string, sözlük, set)\n",
    "-`iteratör` ise bir nesnenin içindeki elemanları tek tek dolaşmak için kullanılan nesnedir.\n",
    "\n",
    "İtere edilebilir nesneler özel bir metot olan `__iter__` metodu ile iteratör nesnesi oluşturur. Aynı zamanda iter() fonksiyonu ile de iteratör nesnesi oluşturulabilir.\n",
    "\n",
    "İteratörler ise özel bir metot olan `__next__` metodu ile bir sonraki elemanı döndürür. Aynı zamanda next() fonksiyonu ile de bir sonraki elemanı döndürebilir.\n",
    "\n",
    "> `next()` fonksiyonu eğer bir sonraki eleman yoksa `StopIteration` hatası fırlatır.\n",
    "\n",
    "&nbsp;"
   ]
  },
  {
   "cell_type": "code",
   "execution_count": 69,
   "metadata": {},
   "outputs": [
    {
     "name": "stdout",
     "output_type": "stream",
     "text": [
      "1\n"
     ]
    }
   ],
   "source": [
    "# İterasyon Örneği\n",
    "liste = [1,2,3,4,5]\n",
    "iterator = iter(liste)\n",
    "ilk_eleman = next(iterator)\n",
    "print(ilk_eleman)"
   ]
  },
  {
   "attachments": {},
   "cell_type": "markdown",
   "metadata": {},
   "source": [
    "&nbsp;\n",
    "## For Döngüsü Bir İterasyon Yapısıdır\n",
    "\n",
    "For döngüsü aslında bir iterasyon yapısıdır. Python for döngüsünü aşağıdaki şekilde gerçekleştirir."
   ]
  },
  {
   "cell_type": "code",
   "execution_count": 70,
   "metadata": {},
   "outputs": [
    {
     "name": "stdout",
     "output_type": "stream",
     "text": [
      "1\n",
      "2\n",
      "3\n"
     ]
    }
   ],
   "source": [
    "# For döngüsünün nasıl çalıştığını gösteren örnek\n",
    "l = [1,2,3]\n",
    "iterator = iter(l)\n",
    "try:    \n",
    "    while True:\n",
    "        print(next(iterator))\n",
    "except StopIteration:\n",
    "    pass"
   ]
  },
  {
   "cell_type": "code",
   "execution_count": 71,
   "metadata": {},
   "outputs": [
    {
     "name": "stdout",
     "output_type": "stream",
     "text": [
      "0\n",
      "1\n",
      "2\n"
     ]
    }
   ],
   "source": [
    "# Range fonksiyonu itere edilebilir bir nesnedir.\n",
    "r = range(3)\n",
    "iterator = iter(r)\n",
    "try:\n",
    "    while True:\n",
    "        print(next(iterator))\n",
    "except StopIteration:\n",
    "    pass"
   ]
  },
  {
   "attachments": {},
   "cell_type": "markdown",
   "metadata": {},
   "source": [
    "> İterasyon verileri hazır tutmaz. Her istekte bir eleman üretir bu yüzden bellek kullanımı azdır. Range fonksiyonu `100_000_000` sayısını bellekte tutmaz. Her istekte bir sayı üretir.\n",
    "\n",
    "&nbsp;"
   ]
  },
  {
   "attachments": {},
   "cell_type": "markdown",
   "metadata": {},
   "source": [
    "## Generatörler\n",
    "\n",
    "Daha önce compherension yapısını görmüştük. Liste, Sözlük ve set veri tipinde kullanarak veri yapısı oluşturmuştuk.\n",
    "Bu yapıyı demetler(tuple) üzerinde görmemiştik çünkü demetler değiştirilemez(immutable) veri tipleriydi.  \n",
    "\n",
    "Ayni yapıyı demetler üzerinde kullanırsanız `generatör` nesnesi oluşturmuş olursunuz.\n",
    "`generatör`ler iteratörlerdir. Yani `next()` fonksiyonu ile bir sonraki elemanı döndürürler."
   ]
  },
  {
   "cell_type": "code",
   "execution_count": 72,
   "metadata": {},
   "outputs": [
    {
     "name": "stdout",
     "output_type": "stream",
     "text": [
      "<class 'generator'>\n",
      "0\n",
      "1\n"
     ]
    }
   ],
   "source": [
    "# Generatör Oluşturma\n",
    "\n",
    "generator = (i for i in range(5))\n",
    "print(type(generator))\n",
    "print(next(generator))\n",
    "print(next(generator))"
   ]
  },
  {
   "attachments": {},
   "cell_type": "markdown",
   "metadata": {},
   "source": [
    "> Generatörler bellekte veri tutmazlar. Her istekte bir eleman üretirler. Bu yapıya `lazy evaluation` denir.\n",
    "Veri hazır bulunmaz, sadece ihtiyaç oldukça üretilir."
   ]
  },
  {
   "attachments": {},
   "cell_type": "markdown",
   "metadata": {},
   "source": [
    "### Neden Generatörler Kullanılır?\n",
    "\n",
    "- Bellek Verimliliği\n",
    "    - Örneğin büyük bir dosya okunup içindeki veriler işlenecekse dosyayı belleğe alırsak hem işlem uzun sürecektir, hemde bellek dolacaktır. Bunun yerine `generatör` kullanarak dosyayı satır satır okuyup işlem yaparak dosyanın sonuna kadar devam edebiliriz. Böylece bellek dolmamış olur.\n",
    "\n",
    "> Dosya Okumada Performans Kıyaslaması\n",
    "    Eğer size gereken birkaç satır dosyanın başında ise `generatörler` sayesinde tüm dosyanın okunması beklenmeden işlem tamamlanmış olacaktır.\n",
    "\n",
    "> `Generatörler` tek kullanımlıktır, tekrar tekrar aynı verilere ulaşmanız gerekecekse kullanılmamalıdır."
   ]
  },
  {
   "cell_type": "code",
   "execution_count": 73,
   "metadata": {},
   "outputs": [
    {
     "name": "stdout",
     "output_type": "stream",
     "text": [
      "Comphere: 269.205ms Generator: 0.003ms\n"
     ]
    }
   ],
   "source": [
    "# Generatör ve Compherension Hız Karşılaştırması\n",
    "from timeit import timeit\n",
    "\n",
    "compherension = timeit('[i for i in range(10_000_000)]', number=1)\n",
    "generator = timeit('(i for i in range(10_000_000))', number=1)\n",
    "print(f'Comphere: {(compherension * 1000):.3f}ms', f'Generator: {(generator * 1000):.3f}ms')"
   ]
  }
 ],
 "metadata": {
  "kernelspec": {
   "display_name": "hugoblog-D2SGIyIi",
   "language": "python",
   "name": "python3"
  },
  "language_info": {
   "codemirror_mode": {
    "name": "ipython",
    "version": 3
   },
   "file_extension": ".py",
   "mimetype": "text/x-python",
   "name": "python",
   "nbconvert_exporter": "python",
   "pygments_lexer": "ipython3",
   "version": "3.10.6"
  },
  "orig_nbformat": 4,
  "vscode": {
   "interpreter": {
    "hash": "ddd11dd1139ada3ac74a62149c9fbe7616d1cf65419526d06a090ac3acf3a2c5"
   }
  }
 },
 "nbformat": 4,
 "nbformat_minor": 2
}
