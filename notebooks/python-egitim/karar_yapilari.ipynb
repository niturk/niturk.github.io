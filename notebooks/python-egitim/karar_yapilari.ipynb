{
 "cells": [
  {
   "attachments": {},
   "cell_type": "markdown",
   "metadata": {},
   "source": [
    "# Karar Yapıları  \n",
    "\n",
    "Date: 2022-12-31T18:00:00+03:00\n",
    "Categories: python,temel-python-egitimi\n",
    "Tags: python,\n",
    "draft: false\n",
    "<!--eofm-->"
   ]
  },
  {
   "attachments": {},
   "cell_type": "markdown",
   "metadata": {},
   "source": [
    "Karar yapıları programlamanın temel yapı taşlarından birisidir. Yazdığımız kodlarda bazen duruma göre sonuç üretmemiz gerekebiliyor. İşte bu anlarda kullanacağımız yapı karar yapılarıdır. Örneğin yazacağımız uygulamamızda üyelere özel bir alan olsun. Bu alana kimlerin erişip kimlerin erişemeyeceğine karar vermemiz gerekecektir bu noktada bu yapıyı kullanabiliyoruz. Neredeyse tüm programlama dillerinde `if` `else` `elif` şeklindedir bu yapılar.\n",
    "\n",
    "- `if` kullanıcı doğru bilgileri girdiyse\n",
    "    - sisteme girmesine izin ver\n",
    "- `else` bilgilerde yanlışlık varsa\n",
    "    - sisteme girmesine izin verme ve hata mesajı göster.\n",
    "\n",
    "en basit şekliyle kullanımı bu şekildedir. Gerçek hayattan bir örnekte vermek gerekirse hepimiz atmlerden para çekmişizdir. Atmye eğer bakiyenizden daha düşük bir miktar para çekeceğinizi söylerseniz size bu parayı verir ancak bakiyenizden veya günlük para çekme limitinden daha fazla bir miktar tuşlarsanız size bu parayı vermez ve neden vermeyeceğini hata mesajıyla ekranda yazar."
   ]
  },
  {
   "attachments": {},
   "cell_type": "markdown",
   "metadata": {},
   "source": [
    "## If / Else Karar Yapısı\n",
    "\n",
    "### If Koşulu\n",
    "\n",
    "```python\n",
    "if (koşul):\n",
    "    (koşulun sağlanması durumunda çalışacak kod bloğu)\n",
    "    ...\n",
    "```\n",
    "\n",
    "Python dilinde kod blokları boşluk ile oluşturulur. Diğer yazılım dillerine aşinaysanız satır sonlarında kullanılan `;` ve kod bloklarının `{}` sembolleri ile başladığını biliyorsunuzdur. Python'da bu tarz semboller kullanılmaz. Bir kod parçası yukarıdaki şekilde `if` koşuluna bağlı olarak çalışacaksa daha önceden belirlenmiş sayıdaki boşluk ile içerden yazılır. Böylece koda bakıldığında hangi satırların `if` koşuluna bağlı olarak çalışacağı görülür.Koşul sonucunun `True` olması gerekmektedir aksi halde bu kod satırları pas geçilir. Boşluk sayısı genelde 4 veya 8 olmaktadır. Her satır için 4 boşluk verdiğiniz sürece çalışacaktır. Eğer boşluk sayısını bir satır için bile farklı verecek olsanız kodunuz hata verecektir. Unutulmaması gereken bir diğer nokta `if` koşul yapısında koşuldan sonra `:` iki nokta koyularak kod bloğunun başlatılmasıdır. Python için bundan sonra göreceğimiz tüm özel yapılarda `:` iki nokta sembolü kullanılmaktadır. Nesne, fonksiyon, koşullar ve döngüler bunlardan bazılarıdır."
   ]
  },
  {
   "cell_type": "code",
   "execution_count": 1,
   "metadata": {},
   "outputs": [
    {
     "name": "stdout",
     "output_type": "stream",
     "text": [
      "Paranız hazırlanıyor, lütfen bekleyiniz.\n"
     ]
    }
   ],
   "source": [
    "# Örnek\n",
    "cekilecek_miktar = 300\n",
    "bakiye = 400\n",
    "\n",
    "if cekilecek_miktar <= bakiye:\n",
    "    print('Paranız hazırlanıyor, lütfen bekleyiniz.')"
   ]
  },
  {
   "attachments": {},
   "cell_type": "markdown",
   "metadata": {},
   "source": [
    "Birkaç deneme yaparak hızlıca kavrayabilirsiniz. Çekilecek miktar bakiyeden fazla olursa `if` koşuluna bağlanan `Paranız hazırlanıyor...` mesajı ekranda görünmeyecektir. Python koşul sağlanmadığı için bu kod bloğunu dikkate almayacaktır."
   ]
  },
  {
   "attachments": {},
   "cell_type": "markdown",
   "metadata": {},
   "source": [
    "### Else Koşulu\n",
    "\n",
    "Bazı durumlarda koşulun yanlış olduğu zamanlar içinde farklı bir kod çalıştırmanız gerekiyor. 'else' yapısı 'if' olmadan tek başına kullanılamıyor. Anlam olarak değilse anlamı taşıyor. Yani bir koşulunuz var doğru olmadığında ne olacağını `else` bloğuna yazıyoruz.\n",
    "\n",
    "```python\n",
    "if (koşul) :\n",
    "    (koşul sağlanırsa çalışacak kod bloğu)\n",
    "else :\n",
    "    (koşul sağlanmazsa çalışacak kod bloğu)\n",
    "```\n",
    "\n",
    "Aslında hiç else olmadan koşul 2 defa kontrol edilerek sadece `if` kullanılarak yapabilirdik bunu. 2 tane `if` yazardık koşulu sağlaması durumda olması gereken kodları bir diğer `if` koşulun sağlanmaması durumu için olabilirdi ancak kod okunabilirliği ve düzeni için pek hoş olmazdı bu durum. Ayrıca koşul iki defa kontrol edilirdi ki buda verimsizlik anlamına gelirdi."
   ]
  },
  {
   "cell_type": "code",
   "execution_count": 2,
   "metadata": {},
   "outputs": [
    {
     "name": "stdout",
     "output_type": "stream",
     "text": [
      "Yetersiz bakiye!\n"
     ]
    }
   ],
   "source": [
    "bakiye = 300\n",
    "cekilecek_miktar = 400\n",
    "\n",
    "if cekilecek_miktar <= bakiye:\n",
    "    print('Paranız hazırlanıyor, lütfen bekleyiniz.')\n",
    "else:\n",
    "    print('Yetersiz bakiye!')"
   ]
  },
  {
   "attachments": {},
   "cell_type": "markdown",
   "metadata": {},
   "source": [
    "### İç İçe Karar Yapıları\n",
    "\n",
    "Öğrendiğimiz bu karar yapılarını sınırsız bir şekilde iç içe kullanabiliyoruz. Kural her zaman her blok için aynı olması gerekmektedir.\n",
    "\n",
    "> Kaliteli bir kod için en fazla 3 adet iç içe yapı kullanılmalıdır. Daha fazla iç içe yapı kullanmaya başladıysanız muhtemelen kötü bir kod yazmaya başladınız gözden geçirmekte fayda var."
   ]
  },
  {
   "cell_type": "code",
   "execution_count": 3,
   "metadata": {},
   "outputs": [
    {
     "name": "stdout",
     "output_type": "stream",
     "text": [
      "Paranız hazırlanıyor, lütfen bekleyiniz.\n",
      "Bakiyeniz 100 tl nin altina düştü!\n"
     ]
    }
   ],
   "source": [
    "hesap_durumu = True\n",
    "bakiye = 300\n",
    "cekilecek_miktar = 250\n",
    "\n",
    "if hesap_durumu == True and cekilecek_miktar <= bakiye:\n",
    "    print('Paranız hazırlanıyor, lütfen bekleyiniz.')\n",
    "\n",
    "    if bakiye - cekilecek_miktar <= 100:\n",
    "        print('Bakiyeniz 100 tl nin altina düştü!')\n",
    "else:\n",
    "    print('Hesap bloklanmış veya yetersiz bakiye!')"
   ]
  },
  {
   "attachments": {},
   "cell_type": "markdown",
   "metadata": {},
   "source": [
    "Örneğimizde iki `if` yapısını iç içe kullandık. Para çekilmesi ve bakiyenin 100 tl altına düşmesi durumunda extra bir kod bloğu ekledik. Bu içe içe yapıları python programlama dilinde bulunan tüm yapılarda kullanabilirsiniz. Aynı şekilde `else` kod bloğunada bazı eklemeler yapabilirdik örneğin bakiye yetersiz olsada avans isteyerek müşterimizin para çekmesini sağlayabilirdik.\n",
    "\n",
    "> Bu tarz karar yapılarının kodlarını yazarken kafanızda kod olarak düşünmeyin. Gerçek hayatta o atm de siz olsaydınız işlemleri hangi aşamada yapardınız? Bu senaryoyu kafanızda kurun ve koda daha sonra dökün. Karmaşık karar yapılarında direk kod üzerinde çalışmak bir çok hataya sebep olmaktadır."
   ]
  },
  {
   "attachments": {},
   "cell_type": "markdown",
   "metadata": {},
   "source": [
    "### Elif Koşulu\n",
    "\n",
    "Bazen koşulumuzun birden fazla durumu olabilir. Alt alta birçok `if` ve `else` kullanmaktansa `elif` yapısını kullanırız.\n",
    "Aşağıdaki kod parçasında koşullardan ilk doğru olanın kod parçası çalışır eğer hiçbiri doğru değilse `else` bloğu çalışır.\n",
    "Bu yapıdaki `elif` koşulu sınırsız şekilde eklenebilir.\n",
    "```python\n",
    "if (koşul):\n",
    "    (koşul doğruysa bu kod parçası çalışır)\n",
    "elif (diğer koşul):\n",
    "    (diğer koşul doğruysa bu kod parçası çalışır)\n",
    "elif ( ...):\n",
    "    (...)\n",
    "else:\n",
    "    (hiçbir koşul sağlanmıyorsa bu kod parçası çalışır.)\n",
    "```"
   ]
  },
  {
   "cell_type": "code",
   "execution_count": 4,
   "metadata": {},
   "outputs": [
    {
     "name": "stdout",
     "output_type": "stream",
     "text": [
      "Notunuz A\n"
     ]
    }
   ],
   "source": [
    "#Örnek\n",
    "sinav_notu = 90\n",
    "\n",
    "if sinav_notu >= 90:\n",
    "    print('Notunuz A')\n",
    "elif sinav_notu >= 80:\n",
    "    print('Notunuz B')\n",
    "elif sinav_notu >= 70:\n",
    "    print('Notunuz C')\n",
    "else:\n",
    "    print('Dersten kaldiniz!')"
   ]
  },
  {
   "attachments": {},
   "cell_type": "markdown",
   "metadata": {},
   "source": [
    "Artık `elif` yapısını bildiğimize göre atm uygulamasını tekrar daha güzel şekilde yazabiliriz."
   ]
  },
  {
   "cell_type": "code",
   "execution_count": 5,
   "metadata": {},
   "outputs": [
    {
     "name": "stdout",
     "output_type": "stream",
     "text": [
      "Paranız hazırlanıyor, lütfen bekleyiniz.\n",
      "Bakiyeniz 100 tl nin altına düştü!\n"
     ]
    }
   ],
   "source": [
    "hesap_durumu = True\n",
    "bakiye = 300\n",
    "cekilecek_miktar = 250\n",
    "\n",
    "if hesap_durumu == False:\n",
    "    print('Hesabınız bloke edilmiştir, lütfen bankanız ile iletişime geçiniz!')\n",
    "\n",
    "elif cekilecek_miktar <= bakiye:\n",
    "    print('Paranız hazırlanıyor, lütfen bekleyiniz.')\n",
    "\n",
    "    if bakiye - cekilecek_miktar <= 100:\n",
    "        print('Bakiyeniz 100 tl nin altına düştü!')\n",
    "else:\n",
    "    print('Yetersiz bakiye!')\n",
    "\n"
   ]
  },
  {
   "attachments": {},
   "cell_type": "markdown",
   "metadata": {},
   "source": [
    "### Üçlü Koşul Operatörü\n",
    "\n",
    "Standart `if/else` koşul yapısından daha kısa bir şekilde üçlü koşul yapısı kullanılabilir. Her durum için geçerli olmaya bile değer atama koşulları için kullanılabilir.\n",
    "\n",
    "```python\n",
    "deger1 if koşul else deger2\n",
    "```\n",
    "\n",
    "Bu yapıda eğer koşul doğruysa deger1 değeri yanlışsa deger2 değeri döndürülür.\n",
    "\n",
    "Bir örnek yapalım, aşağıda bedel değişkenine göre hacim değişkenine değer atayan bir kod parçası mevcut.\n",
    "\n",
    "```python\n",
    "bedel = 100\n",
    "if bedel < 100:\n",
    "    hacim = 10\n",
    "else:\n",
    "    hacim = 1\n",
    "```\n",
    "\n",
    "Bu kod parçasını üçlü koşul operatörü ile daha kısa bir şekilde yazabiliriz.\n",
    "\n",
    "```python\n",
    "hacim = 10 if bedel < 100 else 1\n",
    "```\n",
    "\n",
    "Diğer bir örnek;"
   ]
  },
  {
   "cell_type": "code",
   "execution_count": 6,
   "metadata": {},
   "outputs": [
    {
     "name": "stdout",
     "output_type": "stream",
     "text": [
      "2.0\n"
     ]
    }
   ],
   "source": [
    "# a/b bölme işlemi yapan kod parçası\n",
    "a = 10\n",
    "b = 5\n",
    "sonuc = a / b if b != 0 else 'Hata'\n",
    "print(sonuc)"
   ]
  }
 ],
 "metadata": {
  "kernelspec": {
   "display_name": "hugoblog-D2SGIyIi",
   "language": "python",
   "name": "python3"
  },
  "language_info": {
   "codemirror_mode": {
    "name": "ipython",
    "version": 3
   },
   "file_extension": ".py",
   "mimetype": "text/x-python",
   "name": "python",
   "nbconvert_exporter": "python",
   "pygments_lexer": "ipython3",
   "version": "3.10.6 (main, Nov 14 2022, 16:10:14) [GCC 11.3.0]"
  },
  "orig_nbformat": 4,
  "vscode": {
   "interpreter": {
    "hash": "ddd11dd1139ada3ac74a62149c9fbe7616d1cf65419526d06a090ac3acf3a2c5"
   }
  }
 },
 "nbformat": 4,
 "nbformat_minor": 2
}
