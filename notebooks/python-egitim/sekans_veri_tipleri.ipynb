{
 "cells": [
  {
   "attachments": {},
   "cell_type": "markdown",
   "metadata": {},
   "source": [
    "# Sekans Veri Tipleri - 1\n",
    "\n",
    "Date: 2023-01-01T18:00:00+03:00\n",
    "Categories: python,temel-python-egitimi\n",
    "Tags: python,\n",
    "draft: false\n",
    "<!--eofm-->"
   ]
  },
  {
   "attachments": {},
   "cell_type": "markdown",
   "metadata": {},
   "source": [
    "Sekanslar sıralı obje koleksiyonlarıdır. Birden fazla birbiri ile bağlantılı verileri sıralı olarak tutmaya ihtiyaç duyarız. Bu verilerin sıralanmaya ihtiyacı vardır. Bu sıraya `index` adı verilir. Pythonda index `0` dan sayılmaya başlar.\n",
    "\n",
    "Bu durumda `n` elemanlı bir sekans için;\n",
    "\n",
    "- ilk eleman `0` indexine sahiptir.\n",
    "- ikinci eleman `1` indexine sahiptir.\n",
    "- son eleman `n-1` indexine sahiptir.\n",
    "\n",
    "Bu sekans veri tipleri homojen veya heterojen yapıda olabilir. Homojen yapıda olması için aynı veri tiplerinden bir sekans oluşturulmalıdır. Heterojen yapıda olması için farklı veri tiplerinden bir sekans oluşturulmalıdır.\n",
    "\n",
    "Sekans veri tipleri;\n",
    "- Lists (Listeler) -> değişebilir heterojen sekans veri tipi\n",
    "- Tuples (Demetler) -> değişmez heterojen sekans veri tipi\n",
    "- Strings (Stringler) -> değişmez homojen sekans veri tipi\n",
    "\n",
    "&nbsp;"
   ]
  },
  {
   "attachments": {},
   "cell_type": "markdown",
   "metadata": {},
   "source": [
    "## Listeler (Lists)\n",
    "\n",
    "- Listeleri veri tutan bir konteyner gibi düşünebilirsiniz.\n",
    "- Listeler içerisinde farklı veri tipleri barındırabilir.\n",
    "- Listeler içerisindeki verileri değiştirebiliriz.\n",
    "- Listeler içerisindeki verileri sıralı olarak tutarlar. Bu yüzden indexleri vardır.\n",
    "- Listeleri `[]` parantezlerini kullanarak oluşturabiliriz.\n",
    "- Listeleri `list()` fonksiyonu ile de oluşturabiliriz.\n",
    "- Listeler veri tipi bir objedir.\n",
    "- Listelerin metodları vardır. Bu metodları kullanarak listeler üzerinde işlemler yapabiliriz.\n"
   ]
  },
  {
   "cell_type": "code",
   "execution_count": 1,
   "metadata": {},
   "outputs": [
    {
     "name": "stdout",
     "output_type": "stream",
     "text": [
      "[1, 2, 3, 4, 5]\n",
      "Type: <class 'list'>\n"
     ]
    }
   ],
   "source": [
    "# Listeleri [] parantezlerini kullanarak oluşturabiliriz.\n",
    "liste = [1, 2, 3, 4, 5]\n",
    "print(liste)\n",
    "print(\"Type:\", type(liste))"
   ]
  },
  {
   "cell_type": "code",
   "execution_count": 2,
   "metadata": {},
   "outputs": [
    {
     "name": "stdout",
     "output_type": "stream",
     "text": [
      "[1, 2, 3.14, True]\n"
     ]
    }
   ],
   "source": [
    "# Listeler farklı tipte elemanlarda tutabilir.\n",
    "liste = [1, 2, 3.14, True]\n",
    "print(liste)"
   ]
  },
  {
   "cell_type": "code",
   "execution_count": 3,
   "metadata": {},
   "outputs": [
    {
     "name": "stdout",
     "output_type": "stream",
     "text": [
      "[1, 2, 3, [4, 5, 6]]\n"
     ]
    }
   ],
   "source": [
    "# Listeler içerisinde bile liste olabilir.\n",
    "liste = [1, 2, 3, [4, 5, 6]]\n",
    "print(liste)"
   ]
  },
  {
   "cell_type": "code",
   "execution_count": 4,
   "metadata": {},
   "outputs": [
    {
     "name": "stdout",
     "output_type": "stream",
     "text": [
      "1\n",
      "2\n"
     ]
    }
   ],
   "source": [
    "# Listedeki elemanlara index ile ulaşabiliriz.\n",
    "liste = [1, 2, 3, 4, 5]\n",
    "print(liste[0])\n",
    "print(liste[1])"
   ]
  },
  {
   "cell_type": "code",
   "execution_count": 5,
   "metadata": {},
   "outputs": [
    {
     "name": "stdout",
     "output_type": "stream",
     "text": [
      "5\n",
      "4\n"
     ]
    }
   ],
   "source": [
    "# Index negatif değerler alabilir. Bu durumda sondan başlanır.\n",
    "liste = [1, 2, 3, 4, 5]\n",
    "print(liste[-1])\n",
    "print(liste[-2])"
   ]
  },
  {
   "attachments": {},
   "cell_type": "markdown",
   "metadata": {},
   "source": [
    "> Listedeki bir elemana ulaşırken eleman sayısından daha büyük bir index kullanırsak `IndexError` hatası alırız."
   ]
  },
  {
   "cell_type": "code",
   "execution_count": 6,
   "metadata": {},
   "outputs": [
    {
     "name": "stdout",
     "output_type": "stream",
     "text": [
      "5\n"
     ]
    }
   ],
   "source": [
    "# `len` fonksiyonunu kullanarak listedeki eleman sayısına ulaşabiliriz.\n",
    "liste = [1, 2, 3, 4, 5]\n",
    "print(len(liste))"
   ]
  },
  {
   "attachments": {},
   "cell_type": "markdown",
   "metadata": {},
   "source": [
    "### Boş Liste Oluşturmak\n",
    "\n",
    "Bazen örnek kodları incelerken boş listelerin oluşturulduğunu göreceğiz. Bu boş listeleri `[]` ile oluşturabiliriz. Ama `list()` fonksiyonunu kullanarak da boş bir liste oluşturabiliriz. Bunun sebebi daha sonra bu listeye eleman ekleneceğidir. Doğru bir kullanım şeklidir. Bu listenin eleman sayısı `0` olacaktır.\n",
    "\n",
    "### Liste Elemanlarını Değiştirmek\n",
    "\n",
    "Bir önceki konuda liste elemanlarına index numaralarından ulaşabildiğimizden bahsetmiştik. Aynı şekilde bu elemanları değiştirebiliriz."
   ]
  },
  {
   "cell_type": "code",
   "execution_count": 7,
   "metadata": {},
   "outputs": [
    {
     "name": "stdout",
     "output_type": "stream",
     "text": [
      "[10, 2, 3, 4, 5]\n"
     ]
    }
   ],
   "source": [
    "# Liste elemanlarını değiştirebiliriz.\n",
    "liste = [1, 2, 3, 4, 5]\n",
    "liste[0] = 10\n",
    "print(liste)"
   ]
  },
  {
   "attachments": {},
   "cell_type": "markdown",
   "metadata": {},
   "source": [
    "&nbsp;\n",
    "## Demetler (Tuples)\n",
    "\n",
    "Tuple `list` veri tipine çok benzer.\n",
    "\n",
    "- Tuple bir konteynerdır.\n",
    "- Tuple içerisinde farklı veri tipleri barındırabilir.\n",
    "- Tuple içerisindeki verileri değiştiremezsiniz.\n",
    "- Tuple içerisindeki verileri sıralı olarak tutarlar. Bu yüzden indexleri vardır.\n",
    "- Tuple `()` parantezlerini kullanarak oluşturabiliriz.\n",
    "- Tuple `tuple()` fonksiyonu ile de oluşturabiliriz.\n",
    "- Tuple veri tipi bir objedir.\n",
    "- Tuple, listelerden farklı olarak bir defa yaratılır ve değiştirilemez.\n"
   ]
  },
  {
   "cell_type": "code",
   "execution_count": 8,
   "metadata": {},
   "outputs": [
    {
     "name": "stdout",
     "output_type": "stream",
     "text": [
      "(1, 2, 3, 4, 5)\n",
      "Type: <class 'tuple'>\n"
     ]
    }
   ],
   "source": [
    "# Tuple'ları () parantezlerini kullanarak oluşturabiliriz.\n",
    "t = (1, 2, 3, 4, 5)\n",
    "print(t)\n",
    "print(\"Type:\", type(t))"
   ]
  },
  {
   "cell_type": "code",
   "execution_count": 9,
   "metadata": {},
   "outputs": [
    {
     "name": "stdout",
     "output_type": "stream",
     "text": [
      "(1, 2, 3, 4, 5)\n",
      "Type: <class 'tuple'>\n"
     ]
    }
   ],
   "source": [
    "# Tuple olustururken parantez kullanmak zorunda değiliz. Sadece virgül kullanarak da oluşturabiliriz.\n",
    "t = 1, 2, 3, 4, 5\n",
    "print(t)\n",
    "print(\"Type:\", type(t))"
   ]
  },
  {
   "cell_type": "code",
   "execution_count": 10,
   "metadata": {},
   "outputs": [
    {
     "name": "stdout",
     "output_type": "stream",
     "text": [
      "(1, 2, 3.14, True)\n"
     ]
    }
   ],
   "source": [
    "# Tuple'lar farklı tipte elemanlarda tutabilir.\n",
    "t = (1, 2, 3.14, True)\n",
    "print(t)"
   ]
  },
  {
   "cell_type": "code",
   "execution_count": 11,
   "metadata": {},
   "outputs": [
    {
     "name": "stdout",
     "output_type": "stream",
     "text": [
      "(1, 2, 3, (4, 5, 6))\n"
     ]
    }
   ],
   "source": [
    "# Tuple'lar içerisinde bile tuple olabilir.\n",
    "t = (1, 2, 3, (4, 5, 6))\n",
    "print(t)"
   ]
  },
  {
   "cell_type": "code",
   "execution_count": 12,
   "metadata": {},
   "outputs": [
    {
     "name": "stdout",
     "output_type": "stream",
     "text": [
      "1\n",
      "2\n"
     ]
    }
   ],
   "source": [
    "# Tuple'ların elemanlarına index ile ulaşabiliriz.\n",
    "t = (1, 2, 3, 4, 5)\n",
    "print(t[0])\n",
    "print(t[1])"
   ]
  },
  {
   "cell_type": "code",
   "execution_count": 13,
   "metadata": {},
   "outputs": [
    {
     "name": "stdout",
     "output_type": "stream",
     "text": [
      "5\n"
     ]
    }
   ],
   "source": [
    "# `len` fonksiyonunu kullanarak tuple'ların eleman sayısına ulaşabiliriz.\n",
    "t = (1, 2, 3, 4, 5)\n",
    "print(len(t))"
   ]
  },
  {
   "attachments": {},
   "cell_type": "markdown",
   "metadata": {},
   "source": [
    "> Tuple içerisindeki bir elemana ulaşırken eleman sayısından daha büyük bir index kullanırsak `IndexError` hatası alırız.\n",
    "\n",
    "> Tuple içerisindeki bir elemanı değiştirmeye çalışırsak `TypeError` hatası alırız. Listeler gibi değiştirilemezler yeniden oluşturmak gereklidir.  \n",
    "`t[0] = 1` kodu çalıştırıldığında `TypeError` hatası alırız."
   ]
  },
  {
   "cell_type": "code",
   "execution_count": 14,
   "metadata": {},
   "outputs": [
    {
     "name": "stdout",
     "output_type": "stream",
     "text": [
      "(1, 2, 3, [10, 5, 6])\n"
     ]
    }
   ],
   "source": [
    "# Ancak tuple içerisinde list varsa list değiştirilebilir olduğu için listin elemanları değiştirilebilir.\n",
    "t = (1, 2, 3, [4, 5, 6])\n",
    "t[3][0] = 10\n",
    "print(t)"
   ]
  },
  {
   "attachments": {},
   "cell_type": "markdown",
   "metadata": {},
   "source": [
    "> Boş bir tuple oluşturulması pek kullanışlı değildir. Çünkü tuple içerisindeki elemanları değiştiremeyeceğimizden dolayı boş bir tuple oluşturmak pek mantıklı değildir."
   ]
  },
  {
   "cell_type": "code",
   "execution_count": 15,
   "metadata": {},
   "outputs": [
    {
     "name": "stdout",
     "output_type": "stream",
     "text": [
      "(1, 2, 3, 4, 5)\n"
     ]
    }
   ],
   "source": [
    "# Bir listeyi tuple'a çevirebiliriz.\n",
    "liste = [1, 2, 3, 4, 5]\n",
    "t = tuple(liste)\n",
    "print(t)"
   ]
  },
  {
   "cell_type": "code",
   "execution_count": 16,
   "metadata": {},
   "outputs": [
    {
     "name": "stdout",
     "output_type": "stream",
     "text": [
      "[1, 2, 3, 4, 5]\n"
     ]
    }
   ],
   "source": [
    "# Aynı şekilde bir tupleyi bir listeye çevirebiliriz.\n",
    "t = (1, 2, 3, 4, 5)\n",
    "liste = list(t)\n",
    "print(liste)"
   ]
  },
  {
   "attachments": {},
   "cell_type": "markdown",
   "metadata": {},
   "source": [
    "&nbsp;\n",
    "## Stringler (Strings)\n",
    "\n",
    "- Stringler karakter dizileridir.\n",
    "- Stringler içerisinde sadece karakterler barındırabilir.\n",
    "- Stringler içerisindeki karakterleri değiştiremezsiniz.\n",
    "- Stringler içerisindeki karakterleri sıralı olarak tutarlar. Bu yüzden indexleri vardır.\n",
    "- Stringler `''` veya `\"\"` tırnak işaretleri kullanarak oluşturabiliriz.\n",
    "- Stringler `str()` fonksiyonu ile de oluşturabiliriz.\n",
    "- String veri tipi bir objedir."
   ]
  },
  {
   "cell_type": "code",
   "execution_count": 17,
   "metadata": {},
   "outputs": [
    {
     "name": "stdout",
     "output_type": "stream",
     "text": [
      "Python\n"
     ]
    }
   ],
   "source": [
    "# Stringleri '' veya \"\" parantezlerini kullanarak oluşturabiliriz.\n",
    "s = \"Python\"\n",
    "print(s)"
   ]
  },
  {
   "attachments": {},
   "cell_type": "markdown",
   "metadata": {},
   "source": [
    "> Kodunuzun özenli olması açısından her zaman aynı tırnak işaretlerini kullanmalısınız. Örneğin `''` tırnak işaretlerini kullanıyorsanız tüm stringleri `''` tırnak işaretleri ile oluşturmalısınız. Aksi takdirde kodunuzun okunabilirliği azalacaktır.  \n",
    "Boş bir string oluşturmak için `''` veya `\"\"` kullanabilirsiniz."
   ]
  },
  {
   "cell_type": "code",
   "execution_count": 18,
   "metadata": {},
   "outputs": [
    {
     "name": "stdout",
     "output_type": "stream",
     "text": [
      "Python'da stringler çok kullanışlıdır.\n"
     ]
    }
   ],
   "source": [
    "# String içerisinde tek tırnak kullanmak istiyorsanız çift tırnak ile string oluşturabilirsiniz.\n",
    "s = \"Python'da stringler çok kullanışlıdır.\"\n",
    "print(s)"
   ]
  },
  {
   "cell_type": "code",
   "execution_count": 19,
   "metadata": {},
   "outputs": [
    {
     "name": "stdout",
     "output_type": "stream",
     "text": [
      "Python'da stringler çok kullanışlıdır.\n"
     ]
    }
   ],
   "source": [
    "# Aynı şeyi kaçış karakteri ile de yapabiliriz. Bu durumda stringi oluşturmak için tek tırnak kullanabiliriz.\n",
    "s = 'Python\\'da stringler çok kullanışlıdır.'\n",
    "print(s)"
   ]
  },
  {
   "cell_type": "code",
   "execution_count": 20,
   "metadata": {},
   "outputs": [
    {
     "name": "stdout",
     "output_type": "stream",
     "text": [
      "6\n"
     ]
    }
   ],
   "source": [
    "# String eleman sayısına `len` fonksiyonu ile ulaşabiliriz.\n",
    "s = \"Python\"\n",
    "print(len(s))"
   ]
  },
  {
   "cell_type": "code",
   "execution_count": 21,
   "metadata": {},
   "outputs": [
    {
     "name": "stdout",
     "output_type": "stream",
     "text": [
      "P\n",
      "y\n"
     ]
    }
   ],
   "source": [
    "# Stringlerdeki karakterlere index ile ulaşabiliriz.\n",
    "s = \"Python\"\n",
    "print(s[0])\n",
    "print(s[1])"
   ]
  },
  {
   "attachments": {},
   "cell_type": "markdown",
   "metadata": {},
   "source": [
    "> Listeler ve demetlerde olduğu gibi stringlerde de bir elemana ulaşırken eleman sayısından daha büyük bir index kullanırsak `IndexError` hatası alırız."
   ]
  },
  {
   "cell_type": "code",
   "execution_count": 22,
   "metadata": {},
   "outputs": [
    {
     "name": "stdout",
     "output_type": "stream",
     "text": [
      "['P', 'y', 't', 'h', 'o', 'n']\n"
     ]
    }
   ],
   "source": [
    "# Stringleri liste veya tuple'a çevirebiliriz.\n",
    "s = \"Python\"\n",
    "liste = list(s)\n",
    "print(liste)"
   ]
  },
  {
   "cell_type": "code",
   "execution_count": 23,
   "metadata": {},
   "outputs": [
    {
     "name": "stdout",
     "output_type": "stream",
     "text": [
      "Python Python Python Python Python \n"
     ]
    }
   ],
   "source": [
    "# String oluştururken bir karakteri tekrarlamak için * operatörünü kullanabiliriz.\n",
    "s = \"Python \" * 5\n",
    "print(s)"
   ]
  }
 ],
 "metadata": {
  "kernelspec": {
   "display_name": "hugoblog-D2SGIyIi",
   "language": "python",
   "name": "python3"
  },
  "language_info": {
   "codemirror_mode": {
    "name": "ipython",
    "version": 3
   },
   "file_extension": ".py",
   "mimetype": "text/x-python",
   "name": "python",
   "nbconvert_exporter": "python",
   "pygments_lexer": "ipython3",
   "version": "3.10.6 (main, Nov 14 2022, 16:10:14) [GCC 11.3.0]"
  },
  "orig_nbformat": 4,
  "vscode": {
   "interpreter": {
    "hash": "ddd11dd1139ada3ac74a62149c9fbe7616d1cf65419526d06a090ac3acf3a2c5"
   }
  }
 },
 "nbformat": 4,
 "nbformat_minor": 2
}
