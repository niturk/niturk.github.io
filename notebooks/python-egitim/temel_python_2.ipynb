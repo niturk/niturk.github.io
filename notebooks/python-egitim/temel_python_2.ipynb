{
 "cells": [
  {
   "attachments": {},
   "cell_type": "markdown",
   "metadata": {},
   "source": [
    "# Temel Python'a Giriş - 2\n",
    "\n",
    "Date: 2022-12-29T18:00:00+03:00\n",
    "Categories: python,temel-python-egitimi\n",
    "Tags: python,\n",
    "draft: false\n",
    "<!--eofm-->"
   ]
  },
  {
   "attachments": {},
   "cell_type": "markdown",
   "metadata": {},
   "source": [
    "## Değişkenler\n",
    "\n",
    "Oluşturduğumuz nesneleri ne için kullandığımızı anlamak için değişkenlere ihtiyacımız vardır.\n",
    "Örneğin `bir_sayi` değişkenine bir sayı atamak için `=` operatörünü kullanırız.\n",
    "```python\n",
    "bir_sayi = 5\n",
    "hesap_bakiyem = 1000.50\n",
    "```\n",
    "Artık `bir_sayi` etiketine sahip bir `int` nesnesine sahip olduk ve 5 değerini verdik. Bu nesneyi kullanmak için `bir_sayi` etiketini kullanabiliriz. Ekrana yazdıralım.\n",
    "```python\n",
    "print(bir_sayi)\n",
    "\n",
    "5\n",
    "```\n",
    "Atadığımız bu etiketleri aslında nesnenin kendisi değildir, nesneyi bulmamızı sağlayan referans numarasıdır. Nesnenin kendisi bellekteki bir yerde saklanır.\n",
    "\n",
    "    # Değişkenler tüm veri tiplerini tutabilir\n",
    "    bir_sayi = 5\n",
    "    bir_ondalikli_sayi = 5.5\n",
    "    bir_metin = \"Merhaba\"\n",
    "    bir_boolean = True\n",
    "    bir_sayi = 10  # değişkeni yeniden tanımladık. Artık 5 e ulaşılamaz.\n",
    "\n",
    "Peki nasıl bir değişken yaratıyoruz. Python her zaman önce eşitliğin sağ kısmını hesaplar ve sol kısmına atar.\n",
    "\n",
    "&nbsp;"
   ]
  },
  {
   "attachments": {},
   "cell_type": "markdown",
   "metadata": {},
   "source": [
    "### Değişkenlerin Kullanımı\n",
    "\n",
    "Değişkenleri tanımladıktan sonra istediğimiz gibi işlemlere dahil edebiliriz. Örneğin,"
   ]
  },
  {
   "cell_type": "code",
   "execution_count": 1,
   "metadata": {},
   "outputs": [
    {
     "name": "stdout",
     "output_type": "stream",
     "text": [
      "78.5\n"
     ]
    }
   ],
   "source": [
    "yaricap = 5\n",
    "pi = 3.14\n",
    "alan = pi * yaricap * yaricap\n",
    "print(alan)"
   ]
  },
  {
   "cell_type": "code",
   "execution_count": 2,
   "metadata": {},
   "outputs": [
    {
     "name": "stdout",
     "output_type": "stream",
     "text": [
      "8\n"
     ]
    }
   ],
   "source": [
    "# Değişkenleri işlemler sırasında kullanabiliriz.\n",
    "sayi1 = 5\n",
    "sayi2 = 3\n",
    "sayi3 = sayi1 + sayi2\n",
    "print(sayi3)"
   ]
  },
  {
   "attachments": {},
   "cell_type": "markdown",
   "metadata": {},
   "source": [
    "&nbsp;\n",
    "### Değişkenlerin İsimlendirilmesi\n",
    "\n",
    "Değişkenlerin isimlendirilmesinde bazı kurallar vardır. Bunlar:\n",
    "- Büyük küçük harf duyarlıdır `sayi` ve `Sayi` farklı değişkenlerdir.\n",
    "- Değişken isimleri `_` veya `harf` ile başlamalıdır. Ardından istenildiği kadar `harf`, `sayı` veya `_` kullanılabilir.\n",
    "    Bu kuralaya uyan birkaç değişken adı;\n",
    "    `var`, `var_`, `var1`, `var_1`, `_var`, `_var_1`, `_1_var`, `__add__`\n",
    "- Bazı özel rezerve kelimeler kullanılamaz. Bunlar `and`, `True`, `return` vb. Merak etmeyin vscode sizi bu kelimeler için uyaracaktır.\n"
   ]
  },
  {
   "cell_type": "code",
   "execution_count": 3,
   "metadata": {},
   "outputs": [
    {
     "ename": "SyntaxError",
     "evalue": "cannot assign to True (3294643933.py, line 1)",
     "output_type": "error",
     "traceback": [
      "\u001b[0;36m  Cell \u001b[0;32mIn[3], line 1\u001b[0;36m\u001b[0m\n\u001b[0;31m    True = 5\u001b[0m\n\u001b[0m    ^\u001b[0m\n\u001b[0;31mSyntaxError\u001b[0m\u001b[0;31m:\u001b[0m cannot assign to True\n"
     ]
    }
   ],
   "source": [
    "True = 5\n",
    "# Gördüğünüz gibi özel anahtar kelimeleri değişken olarak kullanamayız."
   ]
  },
  {
   "attachments": {},
   "cell_type": "markdown",
   "metadata": {},
   "source": [
    "Bu kurallar zorunlu kurallardı. Bazı kurallar da tavsiye niteliğindedir. Her zaman yalnız çalışmayacağız. Çoğu zaman başkalarının kodlarını okuyacağız, başkalarıda bizim kodlarımızı okuyacak. O zaman bir standart olması gerekmektedir, aksi halde birbirimizin kodunu anlamak için çok fazla zaman harcamak zorunda kalırız. Bu problemin ortadan kaldırılması için bazı standartlar belirlenmiştir. `PEP8` standartları bunları kapsamaktadır.\n",
    "\n",
    "[PEP8](https://peps.python.org/pep-0008/) standartları tam olarak bu tarz kuralları kapsamaktadır.\n",
    "\n",
    "> İyi bir yazılımcı olmak istiyorsanız PEP8 standartlarını mutlaka uyarak kod yazmalısınız. Daha önceki yazılarımızda vscode editörüne eklediğimiz\n",
    "> `flake8`, `black`, `isort` gibi eklentiler bu standartları uygulamamızı sağlar.\n",
    "\n",
    "Birden çok kelime içeren değişkenler isimlendirilirken iki metod kullanılır. Birincisi `camelCase` diğeri ise `snake_case`. Bu iki metodun farkı ise `camelCase` değişkenlerde ilk kelimenin baş harfi küçük, diğer kelimelerin baş harfleri büyük olurken `snake_case` değişkenlerde tüm kelimelerin baş harfleri küçük ve her kelime arasında `_` vardır.  \n",
    "Bazı diller `camelCase` kullanırken, python `snake_case` kullanmaktadır.\n",
    "\n",
    "Yani; pythonda bir değişken tanımlarken `bir_sayi`, `banka_hesabi` şeklinde tanımlamalısınız.  \n",
    "\n",
    "Bazen bu kuralları bozmak zorunda kalabilirsiniz. Bunun için iyi bir sebebinizin olması yeterlidir. Örneğin `PySide2` paketi ile çalışarak bir gui yapmak istiyorsanız `camelCase` kullanmak zorundasınız. Çünkü `PySide2` paketi c++ ile yazıldığı için `camelCase` kullanmaktadır. Bu durumda `snake_case` kullanmak yerine `camelCase` kullanmak zorundasınız. `PySide6` paketinde ise `snake_case` kullanılabilmektedir. Eğer bir gün `PySide6` kullanmak isterseniz `snake_case` kullanmanız daha mantıklı olacaktır.\n",
    "\n",
    "> Değişkenleri isimlendirirken amacına uygun şekilde isimlendirmeniz, uzun zaman sonra kodunuza tekrar baktığınızda ne yaptığınızı anlamaya yardımcı olacaktır. `x`, `y`, `z` gibi değişken isimleri yerine `x_konum`, `y_konum`, `z_konum` gibi değişken isimleri kullanmanız daha mantıklı olacaktır.\n",
    "\n",
    "&nbsp;"
   ]
  },
  {
   "attachments": {},
   "cell_type": "markdown",
   "metadata": {},
   "source": [
    "## Aritmetik İşlemler\n",
    "\n",
    "\n",
    "#### Tekil(Unary İşlemler)\n",
    "- `-` (Negatif) sayıyı negatif yapar. `-10` gibi.\n",
    "- `+` (Pozitif) sayıyı pozitif yapar. `+10` gibi.\n",
    "\n",
    "\n",
    "#### İkili(Binary İşlemler)\n",
    "- `+` (Toplama) iki sayıyı toplar. `10 + 20` gibi.\n",
    "- `-` (Çıkarma) birinci sayıdan ikinci sayıyı çıkarır. `10 - 20` gibi.\n",
    "- `*` (Çarpma) iki sayıyı çarpar. `10 * 20` gibi.\n",
    "- `/` (Bölme) birinci sayıyı ikinci sayıya böler. `10 / 20` gibi.\n",
    "- `**` (Üs Alma) birinci sayının ikinci sayıda ki üssü alınır. `10 ** 20` gibi.\n",
    "\n",
    "> İşlem önceliği matematikte olduğu gibi geçerlidir. Öncelik tanımak için matematikteki gibi parantez kullanabilirsiniz. \n",
    "\n",
    "\n",
    "Bu aritmetik işlemleri sayılar veri tiplerinin hepsinde geçerlidir : `int`, `float` tüm bu işlemleri destekler.\n",
    "Sayısal veri tipleriyle karışık işlemler yapabilirsiniz.\n",
    "- `2 + 2` sonucu tam sayı yani `int` veri tipinde olacaktır.\n",
    "- `2 + 2.0` sonucu ondalıklı sayı yani `float` veri tipinde olacaktır.\n",
    "- `5.5 * 2` sonucu ondalıklı sayı yani `float` veri tipinde olacaktır.\n",
    "- `4 / 2` sonucu her zaman `float` olacaktır.\n",
    "\n",
    "> Python'da bölme işlemi sonucu tam sayı bile olsa `float` veri tipinde olacaktır.\n",
    "> `1 / (2 * 5)` gibi. \n",
    "\n",
    "&nbsp;\n",
    "\n",
    "### Python Aritmetik İşlemleri Nasıl Yapar?\n",
    "\n",
    "Sayılar objedir. Objelerinde durum ve metodları vardı. Pythonda sayı objeleri için `dunder` metod adı verilen metodlar vardır. `__add__` bu\n",
    "metodlara örnektir. İki sayı toplamak istediğimizde python bu metodun kullanılması gerektiğini anlar ve sayıları bu metoda gönderir. Aşağıda bu işlemin nasıl gerçekleştiğini görebilirsiniz ancak pek okunabilir ve anlaşlabilir değil. Bu yüzden `+` operatörünü kullanıyoruz.\n"
   ]
  },
  {
   "cell_type": "code",
   "execution_count": null,
   "metadata": {},
   "outputs": [
    {
     "name": "stdout",
     "output_type": "stream",
     "text": [
      "8\n"
     ]
    }
   ],
   "source": [
    "a = 5\n",
    "b = 3\n",
    "c = a.__add__(b)\n",
    "print(c)"
   ]
  },
  {
   "attachments": {},
   "cell_type": "markdown",
   "metadata": {},
   "source": [
    "Peki burada şu soru aklımıza gelebilir. Biz kendi nesnelerimizi oluşturabiliyorduk. Örneğin `bina` nesnesi. Peki iki binayı toplarsak ne olur.\n",
    "İşte python yine `+` operatörünü kullanırsanız. Nesnenin `__add__` metodunu çağırır. Eğer bu metod yoksa hata verir. Metodu iki binayı toplayarak bir site yapmak istediğinizi kodlarsanız toplamanın sonucu olarak bir bina sitesi elde edersiniz. Nesneler konusunda bunu nasıl yapacağımızı göreceğiz."
   ]
  },
  {
   "attachments": {},
   "cell_type": "markdown",
   "metadata": {},
   "source": [
    "&nbsp;\n",
    "### Operatörlerin İşlem Öncelikleri\n",
    "\n",
    "Matematikte olduğu gibi pythonda da işlem önceliği vardır. Önceliği düşükten yükseğe doğru sıralarsak;\n",
    "- `+`, `-` (Toplama, Çıkarma)\n",
    "- `*`, `/`, `//`, `%` (Çarpma, Bölme, Tam Bölme, Mod Alma)\n",
    "- `-` (Tekil Unary Negatif)\n",
    "- `**` (Üs Alma)\n",
    "- `()` (Parantez) Önceliği değiştirir. Parantezler her zaman önce işlenir.\n",
    "\n",
    "> Bir öneri operatör incelikleri bazen hatalara sebep olabiliyor. Bu yüzden karmaşık işlemlerde kesinlikle önceliği kendimiz ayarlamak için `()` kullanıyoruz. Basit işlemlerde buna gerek olmayabilir.\n",
    "> `2 * 10 + 5` bu şekilde yazmak yerine `(2 * 10) + 5` şeklinde yazmak daha mantıklı olacaktır."
   ]
  },
  {
   "cell_type": "code",
   "execution_count": null,
   "metadata": {},
   "outputs": [
    {
     "name": "stdout",
     "output_type": "stream",
     "text": [
      "72682.54992160187\n"
     ]
    }
   ],
   "source": [
    "# Bankamizda 10_000 TL mevcut bakiye var. Yillik %20 faiz oraniyla 10 yil vadeli bir hesap aciyoruz.\n",
    "# Hesap sonunda ne kadar para olacagini parantezlerle doğru öncelikleri vererek hesaplayalım.\n",
    "mevcut_bakiye = 10_000\n",
    "faiz = 0.2\n",
    "yil = 10\n",
    "\n",
    "gelecekteki_bakiye = mevcut_bakiye * ((1 + faiz/12) ** (yil * 12))\n",
    "print(gelecekteki_bakiye)"
   ]
  },
  {
   "attachments": {},
   "cell_type": "markdown",
   "metadata": {},
   "source": [
    "&nbsp;\n",
    "### Tam Sayı Bölmesi ve Mod Alma\n",
    "\n",
    "- `//` işareti ile bölümün tam kısmı alınır. `10 // 3` sonucu `3` olur.\n",
    "- `%` işareti ile mod alınır. `10 % 3` sonucu `1` olur."
   ]
  }
 ],
 "metadata": {
  "kernelspec": {
   "display_name": "hugoblog-D2SGIyIi",
   "language": "python",
   "name": "python3"
  },
  "language_info": {
   "codemirror_mode": {
    "name": "ipython",
    "version": 3
   },
   "file_extension": ".py",
   "mimetype": "text/x-python",
   "name": "python",
   "nbconvert_exporter": "python",
   "pygments_lexer": "ipython3",
   "version": "3.10.6"
  },
  "orig_nbformat": 4,
  "vscode": {
   "interpreter": {
    "hash": "ddd11dd1139ada3ac74a62149c9fbe7616d1cf65419526d06a090ac3acf3a2c5"
   }
  }
 },
 "nbformat": 4,
 "nbformat_minor": 2
}
