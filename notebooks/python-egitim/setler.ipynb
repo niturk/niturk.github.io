{
 "cells": [
  {
   "attachments": {},
   "cell_type": "markdown",
   "metadata": {},
   "source": [
    "# Setler\n",
    "\n",
    "Date: 2023-01-21T18:00:00+03:00\n",
    "Categories: python,temel-python-egitimi\n",
    "Tags: python,\n",
    "draft: false\n",
    "<!--eofm-->"
   ]
  },
  {
   "attachments": {},
   "cell_type": "markdown",
   "metadata": {},
   "source": [
    "- Setler, matematikteki kümelere benzerdirler. \n",
    "- Sekans veri tipleri gibi veri koleksiyonları tutarlar.\n",
    "- Setlerde sıralama yoktur.\n",
    "- Setlerde tekrar eden elemanlar olmaz. Her eleman benzersizdir.\n",
    "- Setler döngülerde kullanılabilir. Ancak sıralama olmadığı için sırasızdır.\n",
    "- Setlerin tipi `set`'dir.\n",
    "- Setlerin içindeki elemanlar hashlenebilir olmalıdır.\n",
    "- Setler değiştirilebilirdir (mutable). Dolayısıyla setlerin kendisi hashlenemezler.\n"
   ]
  },
  {
   "attachments": {},
   "cell_type": "markdown",
   "metadata": {},
   "source": [
    "> Setlerin içinde set kullanılmak isteniyorsa `frozenset` kullanılmalıdır. Çünkü `frozenset` hashlenebilir bir veri tipidir.\n",
    "Konumuz değil ancak isterseniz araştırabilirsiniz."
   ]
  },
  {
   "attachments": {},
   "cell_type": "markdown",
   "metadata": {},
   "source": [
    "Setler, matematikteki kümelerin fonksiyonlarına sahiptirler. Bunlar:\n",
    "\n",
    "- Birleşim (union)\n",
    "- Kesişim (intersection)\n",
    "- Fark (difference)\n",
    "- Üyelik (membership) testi (in, not in)\n",
    "- Alt küme (subset) testi (issubset)"
   ]
  },
  {
   "attachments": {},
   "cell_type": "markdown",
   "metadata": {},
   "source": [
    "Python imlementasyonu açısından `setleri` sözlükler gibi ama değeri olmayan sadece anahtarları olan bir veri yapısı olarak düşünebiliriz.\n",
    "Dolayısıyla sözlüklerin anahtar verileri için geçerli olan kurallar `setler` için de geçerlidir.\n",
    "\n",
    "&nbsp;"
   ]
  },
  {
   "attachments": {},
   "cell_type": "markdown",
   "metadata": {},
   "source": [
    "## Set Oluşturma\n",
    "\n",
    "Setlerin oluşturulması için `set()` fonksiyonu veya `{}` sözdizimi kullanılabilir."
   ]
  },
  {
   "cell_type": "code",
   "execution_count": 1,
   "metadata": {},
   "outputs": [
    {
     "name": "stdout",
     "output_type": "stream",
     "text": [
      "{1, 2, 3} {1, 2, 3}\n"
     ]
    }
   ],
   "source": [
    "# Set oluşturma\n",
    "set1 = set([1,2,3])\n",
    "set2 = {1,2,3}\n",
    "print(set1, set2)"
   ]
  },
  {
   "attachments": {},
   "cell_type": "markdown",
   "metadata": {},
   "source": [
    "> boş set oluşturmak için `set()` fonksiyonu kullanılmalıdır. `{}` sözdizimi boş sözlük oluşturur."
   ]
  },
  {
   "attachments": {},
   "cell_type": "markdown",
   "metadata": {},
   "source": [
    "Başka bir sekans veri tipinden set oluşturulabilir. Örneğin bir listeyi sete çevirebiliriz."
   ]
  },
  {
   "cell_type": "code",
   "execution_count": 2,
   "metadata": {},
   "outputs": [
    {
     "name": "stdout",
     "output_type": "stream",
     "text": [
      "{1, 2, 3, 4, 5, 6, 7, 8, 9, 10}\n"
     ]
    }
   ],
   "source": [
    "# Listeyi set e çevirme\n",
    "liste = [1,2,3,4,5,6,7,8,9,10]\n",
    "set3 = set(liste)\n",
    "print(set3)"
   ]
  },
  {
   "cell_type": "code",
   "execution_count": 3,
   "metadata": {},
   "outputs": [
    {
     "name": "stdout",
     "output_type": "stream",
     "text": [
      "{1, 2, 3, 4, 5, 6, 7, 8, 9, 10}\n"
     ]
    }
   ],
   "source": [
    "# Tekrarlı eleman olan bir listeyi sete çevirelim\n",
    "liste = [1,2,3,4,5,6,7,8,9,10,1,2,3,4,5,6,7,8,9,10]\n",
    "set4 = set(liste)\n",
    "print(set4)"
   ]
  },
  {
   "attachments": {},
   "cell_type": "markdown",
   "metadata": {},
   "source": [
    "> setlerde bir eleman birden fazla kez olmaz. Bu yüzden eğer bir listedeki birden fazla elemanı silmek ve sadece tekil kalmasını istiyorsanız o listeyi sete çevirip tekrar listeye çevirebilirsiniz."
   ]
  },
  {
   "cell_type": "code",
   "execution_count": 4,
   "metadata": {},
   "outputs": [
    {
     "name": "stdout",
     "output_type": "stream",
     "text": [
      "{'P', 'n', 't', 'o', 'y', 'h'}\n"
     ]
    }
   ],
   "source": [
    "# Stringler sete çevrilebilir. Sekans veri tipiydi.\n",
    "string = \"Python\"\n",
    "set5 = set(string)\n",
    "print(set5)"
   ]
  },
  {
   "attachments": {},
   "cell_type": "markdown",
   "metadata": {},
   "source": [
    "> Bir elemanın sette olup olmadığını aramak liste ve demetlere göre çok daha hızlıdır. Çünkü setlerde arama işlemi `hash` tablosu kullanılarak yapılır. Hız ihtiyacınız varsa arama yapmadan önce listenizi sete çevirin ve sonra sette arama yapın.\n",
    "\n",
    "&nbsp;"
   ]
  },
  {
   "attachments": {},
   "cell_type": "markdown",
   "metadata": {},
   "source": [
    "## Set İle Kullanılan Fonksiyonlar\n",
    "\n",
    "- Döngüler için `for` döngüsü kullanılabilir.\n",
    "- Bir elemanın sette olup olmadığını `in` operatörü ile kontrol edilebilir.\n",
    "- `len()` fonksiyonu ile setin eleman sayısını bulabiliriz.\n",
    "- `set1.clear()` fonksiyonu ile setin içindeki tüm elemanları siler.\n",
    "- `set1.copy()` fonksiyonu ile setin bir kopyasını oluşturur. Yüzeysel kopya (shallow copy) oluşturur.\n",
    "- Derin kopya (deep copy) oluşturmak için `copy.deepcopy()` fonksiyonu kullanılabilir.\n",
    "\n",
    "&nbsp;"
   ]
  },
  {
   "attachments": {},
   "cell_type": "markdown",
   "metadata": {},
   "source": [
    "## Sık Kullanılan Set Fonksiyonları\n",
    "\n",
    "### Ayrık (disjointness) Fonksiyonu\n",
    "\n",
    "Eğer iki setin kesişimi boş küme ise bu iki set ayrık kümedir. Bu durumda hiç ortak elemanları yok demektir.\n",
    "\n"
   ]
  },
  {
   "cell_type": "code",
   "execution_count": 5,
   "metadata": {},
   "outputs": [
    {
     "name": "stdout",
     "output_type": "stream",
     "text": [
      "True\n"
     ]
    }
   ],
   "source": [
    "# Setlerde disjointness kontrolü. Ortak eleman yoksa True döner.\n",
    "# Bir veya birden fazla ortak eleman varsa False döner.\n",
    "set1 = {1,2,3,4,5}\n",
    "set2 = {6,7,8,9,10}\n",
    "print(set1.isdisjoint(set2))"
   ]
  },
  {
   "attachments": {},
   "cell_type": "markdown",
   "metadata": {},
   "source": [
    "&nbsp;\n",
    "### Setlerde Eleman Ekleme ve Çıkarma\n",
    "\n",
    "Setlerde eleman ekleme ve çıkarma işlemleri yapılabilir. Bunun için `add()` ve `remove()` fonksiyonları kullanılır."
   ]
  },
  {
   "cell_type": "code",
   "execution_count": 6,
   "metadata": {},
   "outputs": [
    {
     "name": "stdout",
     "output_type": "stream",
     "text": [
      "{1, 2, 3, 4, 5, 6}\n"
     ]
    }
   ],
   "source": [
    "# Bir sete eleman eklemek\n",
    "set1 = {1,2,3,4,5}\n",
    "set1.add(6)\n",
    "print(set1)"
   ]
  },
  {
   "cell_type": "code",
   "execution_count": 7,
   "metadata": {},
   "outputs": [
    {
     "name": "stdout",
     "output_type": "stream",
     "text": [
      "{1, 2, 3, 4}\n"
     ]
    }
   ],
   "source": [
    "# Bir setten eleman silmek\n",
    "set1 = {1,2,3,4,5}\n",
    "set1.remove(5)\n",
    "print(set1)"
   ]
  },
  {
   "attachments": {},
   "cell_type": "markdown",
   "metadata": {},
   "source": [
    "> Sette olmayan bir eleman silmeye çalışırsanız `KeyError` hatası alırsınız. Bu yüzden `discard()` fonksiyonunu kullanmalısınız. `discard()` fonksiyonu sette olmayan bir elemanı silmeye çalışırsa hata vermez."
   ]
  },
  {
   "cell_type": "code",
   "execution_count": 8,
   "metadata": {},
   "outputs": [
    {
     "name": "stdout",
     "output_type": "stream",
     "text": [
      "{1, 2, 3, 4}\n"
     ]
    }
   ],
   "source": [
    "# Discard ile eleman silmek\n",
    "set1 = {1,2,3,4,5}\n",
    "set1.discard(5)\n",
    "set1.discard(6)\n",
    "print(set1)"
   ]
  },
  {
   "attachments": {},
   "cell_type": "markdown",
   "metadata": {},
   "source": [
    "&nbsp;\n",
    "### Alt Küme (Subset) Testi\n",
    "\n",
    "Karşılaştırma operatörleri ile setlerin alt küme olup olmadığı test edilebilir.\n",
    "\n",
    "- `s1 < s2` eğer `s1` `s2`'nin alt kümesi ise `True` değerini döndürür.\n",
    "- `s1 <= s2` eğer `s1` `s2`'nin alt kümesi veya `s1` ve `s2` eşit ise `True` değerini döndürür.\n",
    "- `s1 > s2` eğer `s1` `s2`'nin üst kümesi ise `True` değerini döndürür.\n",
    "- `s1 >= s2` eğer `s1` `s2`'nin üst kümesi veya `s1` ve `s2` eşit ise `True` değerini döndürür."
   ]
  },
  {
   "cell_type": "code",
   "execution_count": 9,
   "metadata": {},
   "outputs": [
    {
     "data": {
      "text/plain": [
       "True"
      ]
     },
     "execution_count": 9,
     "metadata": {},
     "output_type": "execute_result"
    }
   ],
   "source": [
    "# Setlerde alt küme karşılaştırması\n",
    "{1, 2} < {1, 2, 3}"
   ]
  },
  {
   "cell_type": "code",
   "execution_count": 10,
   "metadata": {},
   "outputs": [
    {
     "data": {
      "text/plain": [
       "True"
      ]
     },
     "execution_count": 10,
     "metadata": {},
     "output_type": "execute_result"
    }
   ],
   "source": [
    "# Setlerde alt küme karşılaştırması 2\n",
    "{1, 2} <= {1, 2, 3}"
   ]
  },
  {
   "attachments": {},
   "cell_type": "markdown",
   "metadata": {},
   "source": [
    "&nbsp;\n",
    "### Birleşim (Union) ve Kesişim (Intersection) Fonksiyonları\n",
    "\n",
    "- Birleşim fonksiyonu `s1.union(s2)` veya `s1 | s2` şeklinde kullanılır.\n",
    "- Kesişim fonksiyonu `s1.intersection(s2)` veya `s1 & s2` şeklinde kullanılır.\n",
    "\n",
    "![Setlerde Birleşim ve Kesişim](assets/sets/set-union-intersection.png)"
   ]
  },
  {
   "attachments": {},
   "cell_type": "markdown",
   "metadata": {},
   "source": [
    "&nbsp;\n",
    "### Fark (Difference) Fonksiyonu\n",
    "\n",
    "- Fark fonksiyonu `s1.difference(s2)` veya `s1 - s2` şeklinde kullanılır.\n",
    "- Fark fonksiyonu komütatif değildir değişim özelliği yoktur. `s1 - s2` ile `s2 - s1` farklı sonuçlar verebilir.\n",
    "\n",
    "![Setlerde Fark](assets/sets/set-difference.png)"
   ]
  },
  {
   "attachments": {},
   "cell_type": "markdown",
   "metadata": {},
   "source": []
  }
 ],
 "metadata": {
  "kernelspec": {
   "display_name": "hugoblog-D2SGIyIi",
   "language": "python",
   "name": "python3"
  },
  "language_info": {
   "codemirror_mode": {
    "name": "ipython",
    "version": 3
   },
   "file_extension": ".py",
   "mimetype": "text/x-python",
   "name": "python",
   "nbconvert_exporter": "python",
   "pygments_lexer": "ipython3",
   "version": "3.10.6"
  },
  "orig_nbformat": 4,
  "vscode": {
   "interpreter": {
    "hash": "ddd11dd1139ada3ac74a62149c9fbe7616d1cf65419526d06a090ac3acf3a2c5"
   }
  }
 },
 "nbformat": 4,
 "nbformat_minor": 2
}
