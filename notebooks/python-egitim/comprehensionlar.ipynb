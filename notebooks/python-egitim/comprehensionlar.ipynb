{
 "cells": [
  {
   "attachments": {},
   "cell_type": "markdown",
   "metadata": {},
   "source": [
    "# Comprehensionlar\n",
    "\n",
    "Date: 2023-01-22T18:00:00+03:00\n",
    "Categories: python,temel-python-egitimi\n",
    "Tags: python,\n",
    "draft: false\n",
    "<!--eofm-->"
   ]
  },
  {
   "attachments": {},
   "cell_type": "markdown",
   "metadata": {},
   "source": [
    "Comprehensionlar pythonda listeleri, sözlükleri ve setleri döngü kullanarak basitçe oluşturmak için kullanılan bir yöntemdir. Kullanımı döngü kullanımına çok benzer.\n",
    "\n",
    "> Basit veriler için çok kullanışlıdır ancak karmaşa arttıkça kodun okunabilirliği aniden azalır. Dikkatli olmak gerekir. Unutmayalım ki kısa kodlar yazmak her zaman iyi bir şey değildir. Kodumuzun okunabilirliği bizim için her zaman birinci sıradadır.\n",
    "\n",
    "&nbsp;"
   ]
  },
  {
   "attachments": {},
   "cell_type": "markdown",
   "metadata": {},
   "source": [
    "## Listelerde Comprehension\n",
    "\n",
    "Elimizde bir sayı demeti (tuple) olsun ve biz bu sayıların karelerinden oluşan bir liste oluşturmak istesek. Bunu iki yöntemle yapabiliriz.\n",
    "\n",
    "- 1. Yöntem şimdiye kadar öğrendiğimiz yöntemlerle yapabiliriz.\n"
   ]
  },
  {
   "cell_type": "code",
   "execution_count": 1,
   "metadata": {},
   "outputs": [
    {
     "name": "stdout",
     "output_type": "stream",
     "text": [
      "[1, 4, 9, 16, 25]\n"
     ]
    }
   ],
   "source": [
    "# Mevcut yöntemlerle tuple içindeki sayıların karesinin listesi\n",
    "sayilar = (1, 2, 3, 4, 5)\n",
    "liste = []\n",
    "for sayi in sayilar:\n",
    "    liste.append(sayi**2)\n",
    "print(liste)"
   ]
  },
  {
   "cell_type": "code",
   "execution_count": 2,
   "metadata": {},
   "outputs": [
    {
     "name": "stdout",
     "output_type": "stream",
     "text": [
      "[1, 4, 9, 16, 25]\n"
     ]
    }
   ],
   "source": [
    "# List Comprehension ile tuple içindeki sayıların karesinin listesi\n",
    "sayilar = (1, 2, 3, 4, 5)\n",
    "liste = [sayi**2 for sayi in sayilar]\n",
    "print(liste)"
   ]
  },
  {
   "attachments": {},
   "cell_type": "markdown",
   "metadata": {},
   "source": [
    "Aslında for döngüzü yazarak listeye eleman eklemiyoruzda bir listenin içerisine for döngüsüyle tek satırda eleman ekliyoruz. Bu yöntemde listeyi oluşturmak için önce bir boş liste oluşturuyoruz ve ardından for döngüsüyle bu listeye eleman ekliyoruz.\n",
    "\n",
    "`[deger for deger in demet]` şeklinde bir ifade yazıyoruz. Karar yapılarındaki üçlü koşul ifadesine benzer bir yapı var.\n",
    "\n",
    "Şimdi bu yönteme birde karar yapısı ekleyelim."
   ]
  },
  {
   "cell_type": "code",
   "execution_count": 3,
   "metadata": {},
   "outputs": [
    {
     "name": "stdout",
     "output_type": "stream",
     "text": [
      "[4, 16]\n"
     ]
    }
   ],
   "source": [
    "# 1. Yöntem: Sadece çift sayıların karesinin listesi mevcut yöntemlerle\n",
    "sayilar = (1, 2, 3, 4, 5)\n",
    "liste = []\n",
    "for sayi in sayilar:\n",
    "    if sayi % 2 == 0:\n",
    "        liste.append(sayi**2)\n",
    "print(liste)"
   ]
  },
  {
   "cell_type": "code",
   "execution_count": 4,
   "metadata": {},
   "outputs": [
    {
     "name": "stdout",
     "output_type": "stream",
     "text": [
      "[4, 16]\n"
     ]
    }
   ],
   "source": [
    "# 2. Yöntem: Sadece çift sayıların karesinin listesi list comprehension ile\n",
    "sayilar = (1, 2, 3, 4, 5)\n",
    "liste = [sayi**2 for sayi in sayilar if sayi % 2 == 0]\n",
    "print(liste)"
   ]
  },
  {
   "attachments": {},
   "cell_type": "markdown",
   "metadata": {},
   "source": [
    "> Her iki kod birbirinin tamamen aynısı. Yine aynı şekilde aslında for döngüsüyle ve if karar yapısıyla tek satırda eleman ekliyoruz.  \n",
    "`[deger for deger in demet if koşul]`\n",
    "\n",
    "> List comprehension, for döngüsü ile yazılan normal koda göre daha hızlıdır!\n",
    "\n",
    "&nbsp;"
   ]
  },
  {
   "attachments": {},
   "cell_type": "markdown",
   "metadata": {},
   "source": [
    "## Sözlüklerde ve Setlerde Comprehension\n",
    "\n",
    "Listeler için yaptığımız şeyleri sözlükler ve setler için de yapabiliriz. Sadece `[]` yerine `{}` kullanıyoruz.\n",
    "\n",
    "- Sözlükler için `{anahtar:deger for anahtar,deger in demet}`\n",
    "- Setler için `{deger for deger in demet}`"
   ]
  },
  {
   "cell_type": "code",
   "execution_count": 5,
   "metadata": {},
   "outputs": [
    {
     "name": "stdout",
     "output_type": "stream",
     "text": [
      "{'elma': 5, 'armut': 6, 'muz': 7}\n"
     ]
    }
   ],
   "source": [
    "# Bildiğimiz yöntemlerle bir sözlük oluşturalım.\n",
    "\n",
    "urunler = [\"elma\", \"armut\", \"muz\", \"kiraz\"]\n",
    "fiyatlar = [5, 6, 7, 0]\n",
    "sozluk = {}\n",
    "for i in range(len(urunler)):\n",
    "    if fiyatlar[i] > 0:\n",
    "        sozluk[urunler[i]] = fiyatlar[i]\n",
    "print(sozluk)"
   ]
  },
  {
   "cell_type": "code",
   "execution_count": 6,
   "metadata": {},
   "outputs": [
    {
     "name": "stdout",
     "output_type": "stream",
     "text": [
      "{'elma': 5, 'armut': 6, 'muz': 7}\n"
     ]
    }
   ],
   "source": [
    "# Comprehension ile aynı sözlüğü oluşturalım.\n",
    "urunler = [\"elma\", \"armut\", \"muz\", \"kiraz\"]\n",
    "fiyatlar = [5, 6, 7, 0]\n",
    "sozluk = {urunler[i]: fiyatlar[i] for i in range(len(urunler)) if fiyatlar[i] > 0}\n",
    "print(sozluk)"
   ]
  },
  {
   "cell_type": "code",
   "execution_count": 7,
   "metadata": {},
   "outputs": [
    {
     "name": "stdout",
     "output_type": "stream",
     "text": [
      "{2, 4, 6, 8, 10}\n"
     ]
    }
   ],
   "source": [
    "# Bildiğimiz yöntemlerle bir set oluşturalım.\n",
    "sayilar = [1, 2, 3, 4, 5, 6, 7, 8, 9, 10]\n",
    "ciftler = set()\n",
    "for sayi in sayilar:\n",
    "    if sayi % 2 == 0:\n",
    "        ciftler.add(sayi)\n",
    "print(ciftler)"
   ]
  },
  {
   "cell_type": "code",
   "execution_count": 8,
   "metadata": {},
   "outputs": [
    {
     "name": "stdout",
     "output_type": "stream",
     "text": [
      "{2, 4, 6, 8, 10}\n"
     ]
    }
   ],
   "source": [
    "# Comprehension ile aynı seti oluşturalım.\n",
    "sayilar = [1, 2, 3, 4, 5, 6, 7, 8, 9, 10]\n",
    "ciftler = {sayi for sayi in sayilar if sayi % 2 == 0}\n",
    "print(ciftler)"
   ]
  },
  {
   "cell_type": "code",
   "execution_count": 9,
   "metadata": {},
   "outputs": [
    {
     "name": "stdout",
     "output_type": "stream",
     "text": [
      "[2, 4, 6, 8, 10]\n"
     ]
    }
   ],
   "source": [
    "# Bir listedeki sayıların çift olanlarını bulalım ve listemizdeki elemanları benzersiz yapalım.\n",
    "sayilar = [1, 1, 2, 2, 3, 3, 4, 4, 5, 5, 6, 7, 8, 9, 10]\n",
    "ciftler = {sayi for sayi in sayilar if sayi % 2 == 0}\n",
    "sayilar2 = list(ciftler)\n",
    "print(sayilar2)"
   ]
  }
 ],
 "metadata": {
  "kernelspec": {
   "display_name": "hugoblog-D2SGIyIi",
   "language": "python",
   "name": "python3"
  },
  "language_info": {
   "codemirror_mode": {
    "name": "ipython",
    "version": 3
   },
   "file_extension": ".py",
   "mimetype": "text/x-python",
   "name": "python",
   "nbconvert_exporter": "python",
   "pygments_lexer": "ipython3",
   "version": "3.10.6"
  },
  "orig_nbformat": 4,
  "vscode": {
   "interpreter": {
    "hash": "ddd11dd1139ada3ac74a62149c9fbe7616d1cf65419526d06a090ac3acf3a2c5"
   }
  }
 },
 "nbformat": 4,
 "nbformat_minor": 2
}
