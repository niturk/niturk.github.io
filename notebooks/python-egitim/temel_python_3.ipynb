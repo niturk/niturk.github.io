{
 "cells": [
  {
   "attachments": {},
   "cell_type": "markdown",
   "metadata": {},
   "source": [
    "# Temel Python'a Giriş - 3\n",
    "\n",
    "Date: 2022-12-30T18:00:00+03:00\n",
    "Categories: python,temel-python-egitimi\n",
    "Tags: python,\n",
    "draft: false\n",
    "<!--eofm-->"
   ]
  },
  {
   "attachments": {},
   "cell_type": "markdown",
   "metadata": {},
   "source": [
    "## Karşılaştırma Operatörleri\n",
    "\n",
    "Eşitlik operatörü `==` iki nesneyi karşılaştırır ve eşitse `True` değilse `False` cevabını verir.\n",
    "İşlem sırasında python `__eq__` fonksiyonunu çağırır ve işlemi bu fonksiyonun sonucuna göre yapar.\n",
    "- `10 == 10`  >  `10.__eq__(10)` fonksiyonu çağırılır ve sonuç `True` döner.\n",
    "- `10 == 20` sonucu `False` olur.\n",
    "\n",
    "Eşit değil operatörü `!=` iki nesneyi karşılaştırır ve eşit değilse `True` eşitse `False` cevabını verir.\n",
    "İşlem sırasında python `__ne__` fonksiyonunu çağırır ve işlemi bu fonksiyonun sonucuna göre yapar.\n",
    "- `10 != 10` > `10.__ne__(10)` fonksiyonu çağırılır ve sonuç `False` döner.\n",
    "- `10 != 20` sonucu `True` olur.\n",
    "\n",
    "Diğer karşılaştırma operatörleri;\n",
    "- `>` (Büyüktür) `10 > 5` sonucu `True` olur.\n",
    "- `<` (Küçüktür) `10 < 20` sonucu `False` olur.\n",
    "- `>=` (Büyük Eşittir) `10 >= 10` sonucu `True` olur.\n",
    "- `<=` (Küçük Eşittir) `10 <= 20` sonucu `True` olur.\n",
    "- `is` (Nesne Eşitliği) `10` bir int nesnesi `10.0` bir float nesnesidir. `10 is 10.0` sonucu `False` olur. Çünkü bir int nesnesi bir float nesnesi değildir. Ancak `10 == 10.0` sonucu `True` olur. Çünkü değerleri aynıdır.\n",
    "\n",
    "İki karşılaştırma operatörünü özel olarak ele almak gerekiyor. `is` iki nesnenin aynı nesne olup olmadığına bakarken `==` sadece o nesnelerin değerlerini karşılaştırır. Örnek vermek gerekirse. İki kişininde adı `Ahmet` olabilir, ancak bu aynı kişi oldukları anlamına gelmez.\n",
    "Eğer aynı kişi olup olmadıklarını sorgulamak istiyorsak `is` kullanırız, eğer sadece adları aynı mı diye bakmak istiyorsak `==` kullanırız.\n",
    "\n",
    "\n",
    "> `float` ile ilgili özel durumu hatırlayalım;\n",
    "```python\n",
    "0.1 + 0.1 + 0.1 == 0.3 # True olması gerekirken False oluyordu. Dikkat edin.\n",
    "```\n",
    "\n",
    "Bir şey daha deneyelim;"
   ]
  },
  {
   "cell_type": "code",
   "execution_count": 24,
   "metadata": {},
   "outputs": [
    {
     "name": "stdout",
     "output_type": "stream",
     "text": [
      "True\n",
      "False\n"
     ]
    }
   ],
   "source": [
    "a = 256\n",
    "b = 256\n",
    "print(a is b) # True\n",
    "\n",
    "a = 257\n",
    "b = 257\n",
    "print(a is b) # False"
   ]
  },
  {
   "attachments": {},
   "cell_type": "markdown",
   "metadata": {},
   "source": [
    "Nasıl yani a ve b 256 iken `is` sorgusu `True` oluyor. Ama sayı değerleri 257 olduğunda `False` oluyor. Sanırım pythonda bir bug var!\n",
    "Aslında öyle değil. Python geliştiricileri 1-256 arasında olan sayılar sık kullanıldığı için python başlatıldığında bu sayıları belleğe yükler. Ve siz bu sayıları tanımladığınızda aslında yeni nesne oluşturmazsınız aynı nesneleri kullanırsınız. Hadi bu bellekteki adresleri karşılaştırarak bunun nasıl çalıştığını görelim.  \n",
    "\n",
    "Bellekteki nesnenin referans numarasını `id` fonksiyonu ile sorgularız."
   ]
  },
  {
   "cell_type": "code",
   "execution_count": 25,
   "metadata": {},
   "outputs": [
    {
     "name": "stdout",
     "output_type": "stream",
     "text": [
      "139870646313168 139870646313168\n",
      "139870580485200 139870580480368\n"
     ]
    }
   ],
   "source": [
    "a = 256\n",
    "b = 256\n",
    "print(id(a), id(b))\n",
    "\n",
    "a = 257\n",
    "b = 257\n",
    "print(id(a), id(b))"
   ]
  },
  {
   "attachments": {},
   "cell_type": "markdown",
   "metadata": {},
   "source": [
    "Gördüğünüz gibi ilk `print` sonucunda a ve b nin referans numarası aynı dolayısıyla `is` karşılaştırması `True` dönüyor. Fakat ikinci `print` sonucunda a ve b nin referans numarası farklı olduğu için `is` karşılaştırması `False` dönüyor.\n",
    "\n",
    "> Sayılar için `is` karşılaştırma operatörünün kullanılması önerilmemektedir. Hataya çok açıktır.\n",
    "\n",
    "&nbsp;"
   ]
  },
  {
   "attachments": {},
   "cell_type": "markdown",
   "metadata": {},
   "source": [
    "### Diğer Karşılaştırma Operatörleri\n",
    "\n",
    "Kullanabileceğimiz birkaç karşılaştırma operatörü daha mevcut. Bunlar;\n",
    "- `in` (İçeriyor mu) `10 in [10, 20, 30]` sonucu `True` olur.\n",
    "- `not in` (İçermiyor mu) `10 not in [10, 20, 30]` sonucu `False` olur.\n",
    "\n",
    "Pythonda verileri zaman zaman bir liste içinde tutarız ve aradığımız veri liste içerisinde mi sık sık sorgularız. Bu operatörler oldukça kullanışlıdır. Karşınıza çok çıkacaktır.\n",
    "\n",
    "## Boolean Operatörleri\n",
    "\n",
    "- Boolean'nın iki değeri vardı `True` ve `False`.\n",
    "- Bunlara ek olarak üç adet operatör daha mevcut. Bunlar;\n",
    "    - `and` (Ve) `True and True` sonucu `True` olur.\n",
    "    - `or` (Veya) `True or False` sonucu `True` olur.\n",
    "    - `not` (Değil) `not True` sonucu `False` olur.\n",
    "\n",
    "Bu operatörleri bir sonraki konumuz olan koşullu ifadelerde çok sık kullanırız. Bir den fazla karşılaştırma operatörünü birleştirmek için kullanırız. \n",
    "&nbsp;\n",
    "\n",
    "### and Operatörü\n",
    "\n",
    "Matematikteki mantıksal ve ile aynı işlevi görür. İki karşılaştırma operatörünün sonucu `True` ise `and` operatörünün sonucu `True` olur. Aksi halde `False` döner. Akılda kalıcı olması için çarpım işlemi yapıyor gibi düşünebilirsiniz(`False` yutan eleman.).\n",
    "\n",
    "| **A** | **B** |   | **A and B** |\n",
    "|:-----:|:-----:|:-:|:-----------:|\n",
    "|  True |  True |   |   **True**  |\n",
    "|  True | False |   |  **False**  |\n",
    "| False |  True |   |  **False**  |\n",
    "| False | False |   |  **False**  |\n",
    "\n",
    "```python\n",
    "10 < 20 and 20 < 30 # True\n",
    "10 < 20 and 20 > 30 # False\n",
    "```\n",
    "\n",
    "Sadece sayılarda geçerli değil, Örneğin bir login sistemi tasarlıyorsunuz. Login olurken iki bilgiye ihtiyacınız var. `E-mail` ve `Şifre`. Aynı anda ikisininde doğru olması gerektiği için burada `and` operatörünü kullanabiliriz.\n",
    "&nbsp;\n",
    "\n",
    "### not Operatörü\n",
    "\n",
    "Matematikteki mantıksal değil ile aynı işlevi görür. Bir karşılaştırma operatörünün sonucu `True` ise `not` operatörünün sonucu `False` olur. Yani tam tersini yapar.\n",
    "\n",
    "| **A** |   | **not A** |\n",
    "|:-----:|:-:|:---------:|\n",
    "|  True |   | **False** |\n",
    "| False |   |  **True** |\n",
    "\n",
    "```python\n",
    "not 10 < 20 # False\n",
    "not 10 > 20 # True\n",
    "```\n",
    "&nbsp;\n",
    "\n",
    "### or Operatörü\n",
    "\n",
    "İki karşılaştırma operatöründen birisi `True` ise `or` operatörünün sonucu `True` olur. Aksi halde `False` döner. Akılda kalması için toplama yapıyormuş gibi düşünebilirsiniz. (`True` 1 `False` 0 olarak düşünün.)\n",
    "\n",
    "| **A** | **B** |   | **A or B** |\n",
    "|:-----:|:-----:|:-:|:----------:|\n",
    "|  True |  True |   |  **True**  |\n",
    "|  True | False |   |  **True**  |\n",
    "| False |  True |   |  **True**  |\n",
    "| False | False |   |  **False** |\n",
    "\n",
    "&nbsp;"
   ]
  },
  {
   "attachments": {},
   "cell_type": "markdown",
   "metadata": {},
   "source": [
    "### Kısa Yol Hesaplamaları\n",
    "\n",
    "Python `and` ve `or` operatörlerinin kısa yol hesaplamaları yapar.  \n",
    "\n",
    "- `and` operatöründe ilk değer `False` dönerse ikinci karşılaştırma hesaplanmaz ve sonuç otomatik olarak `False` döner.\n",
    "- `or` operatöründe ilk değer `True` dönerse ikinci karşılaştırma hesaplanmaz ve sonuç otomatik olarak `True` döner.\n",
    "\n",
    "```python\n",
    "10 > 20 and 20 < 30 # False (10 > 20 False olduğu için ikinci karşılaştırma hesaplanmaz.)\n",
    "10 < 20 or 20 > 30 # True (10 < 20 True olduğu için ikinci karşılaştırma hesaplanmaz.)\n",
    "```\n",
    "> Bu yüzden kod yazarken daha hızlı çalışmasını istiyorsanız öncelikli sorgulamayı bu operatörlerin sol tarafına yazmalısınız!\n",
    "\n",
    "Bir örnek yapalım."
   ]
  },
  {
   "cell_type": "code",
   "execution_count": 26,
   "metadata": {},
   "outputs": [
    {
     "ename": "ZeroDivisionError",
     "evalue": "division by zero",
     "output_type": "error",
     "traceback": [
      "\u001b[0;31m---------------------------------------------------------------------------\u001b[0m",
      "\u001b[0;31mZeroDivisionError\u001b[0m                         Traceback (most recent call last)",
      "Cell \u001b[0;32mIn[26], line 4\u001b[0m\n\u001b[1;32m      1\u001b[0m a \u001b[39m=\u001b[39m \u001b[39m20\u001b[39m\n\u001b[1;32m      2\u001b[0m b \u001b[39m=\u001b[39m \u001b[39m0\u001b[39m\n\u001b[0;32m----> 4\u001b[0m a \u001b[39m/\u001b[39;49m b \u001b[39m>\u001b[39m \u001b[39m1\u001b[39m \u001b[39m# karşılaştırması yapmak istiyorsunuz. \u001b[39;00m\n",
      "\u001b[0;31mZeroDivisionError\u001b[0m: division by zero"
     ]
    }
   ],
   "source": [
    "a = 20\n",
    "b = 0\n",
    "\n",
    "a / b > 1 # karşılaştırması yapmak istiyorsunuz. "
   ]
  },
  {
   "attachments": {},
   "cell_type": "markdown",
   "metadata": {},
   "source": [
    "sıfırla bölme hatası aldık. Unutmayın hiçbir sayı sıfıra bölünemez!\n",
    "&nbsp;\n",
    "\n",
    "Sıfıra bölme hatası almamak için ne yapabiliriz ?  \n",
    "Yukarıdaki kod yerine aşağıdaki şekilde yazabilirsiniz. `b!=0` sorgusu `False` dönerse ikinci karşılaştırma hesaplanmaz ve `ZeroDivisionError` hatası almayız."
   ]
  },
  {
   "cell_type": "code",
   "execution_count": null,
   "metadata": {},
   "outputs": [
    {
     "data": {
      "text/plain": [
       "False"
      ]
     },
     "execution_count": 8,
     "metadata": {},
     "output_type": "execute_result"
    }
   ],
   "source": [
    "a = 20\n",
    "b = 0\n",
    "b != 0 and a / b > 1"
   ]
  }
 ],
 "metadata": {
  "kernelspec": {
   "display_name": "hugoblog-D2SGIyIi",
   "language": "python",
   "name": "python3"
  },
  "language_info": {
   "codemirror_mode": {
    "name": "ipython",
    "version": 3
   },
   "file_extension": ".py",
   "mimetype": "text/x-python",
   "name": "python",
   "nbconvert_exporter": "python",
   "pygments_lexer": "ipython3",
   "version": "3.10.6 (main, Nov 14 2022, 16:10:14) [GCC 11.3.0]"
  },
  "orig_nbformat": 4,
  "vscode": {
   "interpreter": {
    "hash": "ddd11dd1139ada3ac74a62149c9fbe7616d1cf65419526d06a090ac3acf3a2c5"
   }
  }
 },
 "nbformat": 4,
 "nbformat_minor": 2
}
