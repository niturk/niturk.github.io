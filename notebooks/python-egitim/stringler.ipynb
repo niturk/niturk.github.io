{
 "cells": [
  {
   "attachments": {},
   "cell_type": "markdown",
   "metadata": {},
   "source": [
    "# Stringler\n",
    "\n",
    "Date: 2023-01-04T18:00:00+03:00\n",
    "Categories: python,temel-python-egitimi\n",
    "Tags: python,\n",
    "draft: false\n",
    "<!--eofm-->"
   ]
  },
  {
   "attachments": {},
   "cell_type": "markdown",
   "metadata": {},
   "source": [
    "Stringlerin sekans veri yapısı olduğunu görmüştük. Öncelikle stringler homojenik veri yapısına sahip yani stringlerin her bir elemanı bir karakterdir. Özel bir veri yapısı olduğu için özel metodları mevcuttur. Başlangıçta sadece ASCII karakterleri desteklenmekteydi. ASCII karakterleri 128 karakterden oluşmaktadır, bu karakterlerden 95 tanesi print edilebilir, 33 tanesi ise print edilemez. ASCII karakterlerinin hepsi 8 bitlik bir sayısal değere sahiptir. Bu sayısal değerlerin hepsi 0 ile 255 arasındadır. ASCII karakterlerinin sayısal değerlerini görmek için aşağıdaki tabloyu kullanabilirsiniz.\n",
    "\n",
    "![Ascii Table](assets/stringler/ascii-table.jpg)"
   ]
  },
  {
   "attachments": {},
   "cell_type": "markdown",
   "metadata": {},
   "source": [
    "## Unicode\n",
    "\n",
    "ASCII karakterleri sadece amerikan karakterlerini destekler. Bu yüzden Unicode karakterleri geliştirilmiştir. Python 3.0 sürümünden itibaren Unicode karakterleri desteklenmektedir.\n",
    "\n",
    "Unicode için birkaç standart bulunmaktadır, python varsayılan olarak `UTF-8` kullanmaktadır.\n",
    "\n",
    "`A` karakterini unicode için inceleyelim. Ascii kod karşılığı 65 olan karakterin unicode karşılığıda 65 tir.\n",
    "\n",
    "![Unicode A](assets/stringler/unicode-a.png)\n",
    "\n",
    "String içerisinde unicode kullanımının iki yöntemi vardır.\n",
    "- `\\u` ile unicode karakterlerini kullanabiliriz.\n",
    "- `\\N{Karakter Adı}` ile unicode karakterlerini kullanabiliriz."
   ]
  },
  {
   "cell_type": "code",
   "execution_count": 1,
   "metadata": {},
   "outputs": [
    {
     "name": "stdout",
     "output_type": "stream",
     "text": [
      "α\n"
     ]
    }
   ],
   "source": [
    "# unicode kullanarak Greek Small Letter Alpha karakterini yazdıralım.\n",
    "s = '\\u03b1'\n",
    "print(s)"
   ]
  },
  {
   "cell_type": "code",
   "execution_count": 2,
   "metadata": {},
   "outputs": [
    {
     "name": "stdout",
     "output_type": "stream",
     "text": [
      "🐍\n"
     ]
    }
   ],
   "source": [
    "# unicode kullanarak Snake karakterini yazdıralım.\n",
    "s = '\\N{snake}'\n",
    "print(s)"
   ]
  },
  {
   "attachments": {},
   "cell_type": "markdown",
   "metadata": {},
   "source": [
    "> https://www.compart.com/en/unicode/U+1F40D snake için bu sayfayı inceleyebilirsiniz. Dikkat edilmesi gereken snake 5 karakterden oluşmaktadır. `\\u` ile kullanırken 4 karakter yazılmalıdır. Daha büyük karakterli bir sembol yazdırmak için 8'e tamamlamalısınız. Snake için `\\U0001F40D` kullanmalısınız."
   ]
  },
  {
   "attachments": {},
   "cell_type": "markdown",
   "metadata": {},
   "source": [
    "> Ayrıca `ord` fonksiyonunu kullanarak tüm karakterleri temsil eden sayısal değerlerini de görebilirsiniz."
   ]
  },
  {
   "cell_type": "code",
   "execution_count": 3,
   "metadata": {},
   "outputs": [
    {
     "name": "stdout",
     "output_type": "stream",
     "text": [
      "128013\n"
     ]
    }
   ],
   "source": [
    "snake = ord('🐍')\n",
    "print(snake)"
   ]
  },
  {
   "attachments": {},
   "cell_type": "markdown",
   "metadata": {},
   "source": [
    "&nbsp;\n",
    "## String Metodları\n",
    "\n",
    "Stringler için tonlarca metod vardır. [Tüm metodları burada görebilirsiniz](https://docs.python.org/3/library/stdtypes.html#string-methods). Bu metodları kullanmak için stringlerin sonuna nokta koyup metodun adını yazmalısınız.\n",
    "\n",
    "En çok kullanılan ve üzerinde duracağımız metodlar;\n",
    "- Büyük küçük harf dönüşümleri\n",
    "- String içerisinden istenilen karakterleri çıkarma\n",
    "- Stringlerin birleştirilmesi\n",
    "- Stringlerin bölünmesi (split) veya birleştirme (join) işlemleri\n",
    "- String içerisinde arama işlemleri\n",
    "\n",
    "> Stringlerin değiştirilemez(immutable) olduğu unutulmamalıdır. Method çağrıları sonucunda oluşan çıktılar yeni stringler oluşturacaktır."
   ]
  },
  {
   "attachments": {},
   "cell_type": "markdown",
   "metadata": {},
   "source": [
    "### Büyük Küçük Harf Dönüşüm Metodları\n",
    "\n",
    "|  **Method**  |    **Method Kullanımı**    |   **Çıktı**   |\n",
    "|:------------:|:--------------------------:|:-------------:|\n",
    "|    lower()   |    'Hello World'.lower()   | 'hello world' |\n",
    "|    upper()   |    'Hello World'.upper()   | 'HELLO WORLD' |\n",
    "|    title()   |    'Hello World'.title()   | 'Hello World' |\n",
    "| capitalize() | 'hello world'.capitalize() | 'Hello world' |"
   ]
  },
  {
   "cell_type": "code",
   "execution_count": 4,
   "metadata": {},
   "outputs": [
    {
     "name": "stdout",
     "output_type": "stream",
     "text": [
      "True\n"
     ]
    }
   ],
   "source": [
    "# Stringleri büyük/küçük harf önemi olmadan karşılaştırma\n",
    "s1 = 'Python'\n",
    "s2 = 'PyThOn'\n",
    "# s1 ve s2 stringlerini karşılaştırıyoruz. \n",
    "# İşlemi direk yaparsak s1 ve s2 için python eşit olmadığını söyleyecektir.\n",
    "# bu durumlar için casefold methodunu kullanmamız gerekiyor.\n",
    "print(s1.casefold() == s2.casefold())"
   ]
  },
  {
   "attachments": {},
   "cell_type": "markdown",
   "metadata": {},
   "source": [
    "### Karakter Temizleme Metodları\n",
    "\n",
    "`strip` metodu Stringlerde başta ve sonda bulunan boşlukları temizler. `lstrip` ve `rstrip` ise sadece soldaki ve sağdaki boşlukları temizler.\n",
    "Eğer bir karakteri temizlemek istiyorsak `strip` metoduna parametre olarak temizlemek istediğimiz karakteri vermemiz yeterlidir. Varsayılan olarak üç metod sadece boşluk temizliği yapar."
   ]
  },
  {
   "cell_type": "code",
   "execution_count": 5,
   "metadata": {},
   "outputs": [
    {
     "name": "stdout",
     "output_type": "stream",
     "text": [
      "Python\n"
     ]
    }
   ],
   "source": [
    "# Strip yaparak boşluk temizleyelim.\n",
    "s = '   Python   '\n",
    "print(s.strip())"
   ]
  },
  {
   "attachments": {},
   "cell_type": "markdown",
   "metadata": {},
   "source": [
    "> Kullanışsız görünüyorsa çok kullanılan ve önemli bir methodtur. String verileri çoğu zaman kullanıcıdan ve internetten alıyoruz gereksiz boşluklar can sıkıcı olabiliyor. Bu methodlar sayesinde bu boşlukları temizleyebiliriz."
   ]
  },
  {
   "attachments": {},
   "cell_type": "markdown",
   "metadata": {},
   "source": [
    "### Stringlerin Birleştirilmesi\n",
    "\n",
    "`+` operatörü ile stringler birleştirilebilir. Bu işlemde iki string birleştirilir ve yeni bir string oluşturulur.\n"
   ]
  },
  {
   "cell_type": "code",
   "execution_count": 6,
   "metadata": {},
   "outputs": [
    {
     "name": "stdout",
     "output_type": "stream",
     "text": [
      "Python rocks!\n"
     ]
    }
   ],
   "source": [
    "# Stringleri birleştirme\n",
    "s1 = 'Python'\n",
    "s2 = ' '\n",
    "s3 = 'rocks!'\n",
    "\n",
    "s = s1 + s2 + s3\n",
    "print(s)"
   ]
  },
  {
   "attachments": {},
   "cell_type": "markdown",
   "metadata": {},
   "source": [
    "### Stringlerin Bölünmesi\n",
    "\n",
    "`split` metodu stringleri bölmenize yarar. Bu metodu kullanmak için parametre olarak bölme işlemini yapacağımız karakteri vermemiz gerekmektedir. Varsayılan olarak boşluk karakteri kullanılır."
   ]
  },
  {
   "cell_type": "code",
   "execution_count": 7,
   "metadata": {},
   "outputs": [
    {
     "name": "stdout",
     "output_type": "stream",
     "text": [
      "['Python', 'rocks!']\n"
     ]
    }
   ],
   "source": [
    "# Stringi split metodu ile bölelim. Sonucunda bir liste elde edeceğiz.\n",
    "s = 'Python rocks!'\n",
    "print(s.split())"
   ]
  },
  {
   "cell_type": "code",
   "execution_count": 8,
   "metadata": {},
   "outputs": [
    {
     "name": "stdout",
     "output_type": "stream",
     "text": [
      "['100', '200', '300', '400']\n"
     ]
    }
   ],
   "source": [
    "# Parametre ile split yapalım.\n",
    "s = '100, 200, 300, 400'\n",
    "print(s.split(', '))"
   ]
  },
  {
   "attachments": {},
   "cell_type": "markdown",
   "metadata": {},
   "source": [
    "### Stringlerin Join İle Birleştirilmesi\n",
    "\n",
    "`join` metodu stringlerin birleştirilmesine yarar. Bu metodu kullanmak için parametre olarak birleştirme işlemini yapacağımız karakteri vermemiz gerekmektedir. Varsayılan olarak boşluk karakteri kullanılır."
   ]
  },
  {
   "cell_type": "code",
   "execution_count": 9,
   "metadata": {},
   "outputs": [
    {
     "name": "stdout",
     "output_type": "stream",
     "text": [
      "100,200,300,400\n"
     ]
    }
   ],
   "source": [
    "# join metodu ile stringleri birleştirelim.\n",
    "liste = ['100', '200', '300', '400']\n",
    "print(','.join(liste))"
   ]
  },
  {
   "cell_type": "code",
   "execution_count": 10,
   "metadata": {},
   "outputs": [
    {
     "name": "stdout",
     "output_type": "stream",
     "text": [
      "P-y-t-h-o-n\n"
     ]
    }
   ],
   "source": [
    "# Stringde bir sekans veri tipiydi şimdide join metodu ile string birleştirelim.\n",
    "s = 'Python'\n",
    "print('-'.join(s))"
   ]
  },
  {
   "attachments": {},
   "cell_type": "markdown",
   "metadata": {},
   "source": [
    "### String İçerisinde Arama\n",
    "\n",
    "String içerisinde arama yapmak için `in` operatörü kullanılır. Bu operatör string içerisinde aranan karakteri bulursa `True` bulamazsa `False` döndürür."
   ]
  },
  {
   "cell_type": "code",
   "execution_count": 11,
   "metadata": {},
   "outputs": [
    {
     "name": "stdout",
     "output_type": "stream",
     "text": [
      "True\n"
     ]
    }
   ],
   "source": [
    "# String içerisinde in operatörüyle arama yapalım.\n",
    "s = 'Python rocks!'\n",
    "print('Python' in s)"
   ]
  },
  {
   "attachments": {},
   "cell_type": "markdown",
   "metadata": {},
   "source": [
    "#### String Başında ve Sonunda Arama\n",
    "\n",
    "`startswith` ve `endswith` metodları stringlerin başında ve sonunda arama yapmanıza yarar. Bu metodlara parametre olarak arama yapacağımız karakteri vermemiz gerekmektedir. Varsayılan olarak boşluk karakteri kullanılır."
   ]
  },
  {
   "cell_type": "code",
   "execution_count": 12,
   "metadata": {},
   "outputs": [
    {
     "name": "stdout",
     "output_type": "stream",
     "text": [
      "True\n"
     ]
    }
   ],
   "source": [
    "# Örneğin öğrenci mail adresi doğrulaması yapalım.\n",
    "# Öğrenci mailleri .edu ile bitiyor. Böylece basit bir şekilde doğrulama yapabiliriz.\n",
    "email = 'info@nikitaturkmen.edu'\n",
    "print(email.endswith('.edu'))"
   ]
  },
  {
   "attachments": {},
   "cell_type": "markdown",
   "metadata": {},
   "source": [
    "#### String İçerisinde Aranan Kelimenin İndexini Bulma\n",
    "\n",
    "`index` metodu string içerisinde aranan karakterin indexini bulmanıza yarar. Bu metodlara parametre olarak arama yapacağımız karakteri vermemiz gerekmektedir. Varsayılan olarak boşluk karakteri kullanılır."
   ]
  },
  {
   "cell_type": "code",
   "execution_count": 13,
   "metadata": {},
   "outputs": [
    {
     "name": "stdout",
     "output_type": "stream",
     "text": [
      "7\n"
     ]
    }
   ],
   "source": [
    "# index metodu ile index bulma.\n",
    "s = 'Python rocks!'\n",
    "print(s.index('rocks'))"
   ]
  },
  {
   "attachments": {},
   "cell_type": "markdown",
   "metadata": {},
   "source": [
    "> `index` methodu aranan karakteri bulamazsa hata verir. Bu yüzden `in` operatörünü kullanarak aranan karakterin string içerisinde olup olmadığını kontrol etmeniz önerilir veya `find` methodunu kullanabilirsiniz.  \n",
    "`find` methodu aranan karakteri bulamazsa `-1` döndürür.\n",
    "\n",
    "&nbsp;"
   ]
  },
  {
   "attachments": {},
   "cell_type": "markdown",
   "metadata": {},
   "source": [
    "## Stringlerin Formatlanarak Düzenlenmesi\n",
    "\n",
    "Şimdiye kadar iki string ile işlemler yaptık. Fakat daha fazla string ile işlem yapmak zorundayız. String birleştirmesini ele alırsak iki string için `+` operatörünü kullanıyoruz. Bazı durumlarda `+` operatörünü kullanamayacaksınız, örneğin bir string ile bir int veri tipinde kullanırsanız hata alırsınız. Bu durumlar için `format` metodu kullanılmaktadır."
   ]
  },
  {
   "cell_type": "code",
   "execution_count": 14,
   "metadata": {},
   "outputs": [
    {
     "name": "stdout",
     "output_type": "stream",
     "text": [
      "My name is John Doe and I am 25 years old.\n"
     ]
    }
   ],
   "source": [
    "# Format kullanmadan stringleri birleştirelim.\n",
    "name = 'John'\n",
    "surname = 'Doe'\n",
    "age = 25\n",
    "print('My name is ' + name + ' ' + surname + ' and I am ' + str(age) + ' years old.')"
   ]
  },
  {
   "attachments": {},
   "cell_type": "markdown",
   "metadata": {},
   "source": [
    "Örnek biraz karışık gözüküyor çok fazla `+` operatörü kullanıyoruz. Bu durumda `format` metodunu kullanarak daha düzenli bir hale getirebiliriz."
   ]
  },
  {
   "cell_type": "code",
   "execution_count": 15,
   "metadata": {},
   "outputs": [
    {
     "name": "stdout",
     "output_type": "stream",
     "text": [
      "My name is John Doe and I am 25 years old.\n"
     ]
    }
   ],
   "source": [
    "# Format kullanarak aynı stringleri birleştirelim.\n",
    "name = 'John'\n",
    "surname = 'Doe'\n",
    "age = 25\n",
    "print('My name is {} {} and I am {} years old.'.format(name, surname, age))"
   ]
  },
  {
   "cell_type": "code",
   "execution_count": 16,
   "metadata": {},
   "outputs": [
    {
     "name": "stdout",
     "output_type": "stream",
     "text": [
      "Pi sayısı: 3.14\n"
     ]
    }
   ],
   "source": [
    "# Formatlama sırasında sayılar için virgülden sonrası kaç basamak olacağını belirtebiliriz.\n",
    "pi = 3.141592653589793\n",
    "print('Pi sayısı: {:.2f}'.format(pi))"
   ]
  },
  {
   "attachments": {},
   "cell_type": "markdown",
   "metadata": {},
   "source": [
    "### F String Kullanımı\n",
    "\n",
    "Python 3.6 versiyonu ile birlikte hayatımıza `f-string` girdi `format` metodunun yerini aldı diyebiliriz. `format` methodunda string içerisinde boş `{}`ler kullanıp format içerisinde parametreler verirken, `f-string`  bu `{}`lerin içerisine direkt olarak değişken ismini veya kod parçamızı. Evet `f-string` ile direkt olarak kod parçalarınızı yazabilirsiniz.\n",
    "\n",
    "Hemen az önceki örneği `f-string` ile yapalım."
   ]
  },
  {
   "cell_type": "code",
   "execution_count": 17,
   "metadata": {},
   "outputs": [
    {
     "name": "stdout",
     "output_type": "stream",
     "text": [
      "My name is JOHN DOE and I am 25 years old.\n"
     ]
    }
   ],
   "source": [
    "# f string ile az önceki örneğin aynısını yapalım. \n",
    "# Ama bu sefer ad ve soyad stringlerini büyük harfe çevirelim.\n",
    "name = 'John'\n",
    "surname = 'Doe'\n",
    "age = 25\n",
    "print(f'My name is {name.upper()} {surname.upper()} and I am {age} years old.')"
   ]
  },
  {
   "cell_type": "code",
   "execution_count": 18,
   "metadata": {},
   "outputs": [
    {
     "name": "stdout",
     "output_type": "stream",
     "text": [
      "5 + 10 = 15\n"
     ]
    }
   ],
   "source": [
    "# f-string bununla sınırlı değil. {} içerisinde matematiksel işlemler yapabiliriz.\n",
    "a = 5\n",
    "b = 10\n",
    "print(f'{a} + {b} = {a + b}')"
   ]
  }
 ],
 "metadata": {
  "kernelspec": {
   "display_name": "hugoblog-D2SGIyIi",
   "language": "python",
   "name": "python3"
  },
  "language_info": {
   "codemirror_mode": {
    "name": "ipython",
    "version": 3
   },
   "file_extension": ".py",
   "mimetype": "text/x-python",
   "name": "python",
   "nbconvert_exporter": "python",
   "pygments_lexer": "ipython3",
   "version": "3.10.6"
  },
  "orig_nbformat": 4,
  "vscode": {
   "interpreter": {
    "hash": "ddd11dd1139ada3ac74a62149c9fbe7616d1cf65419526d06a090ac3acf3a2c5"
   }
  }
 },
 "nbformat": 4,
 "nbformat_minor": 2
}
