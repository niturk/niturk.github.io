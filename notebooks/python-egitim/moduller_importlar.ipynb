{
 "cells": [
  {
   "attachments": {},
   "cell_type": "markdown",
   "metadata": {},
   "source": [
    "# Modüller ve İmport\n",
    "\n",
    "Date: 2023-01-27T18:00:00+03:00\n",
    "Categories: python,temel-python-egitimi\n",
    "Tags: python,\n",
    "draft: false\n",
    "<!--eofm-->"
   ]
  },
  {
   "attachments": {},
   "cell_type": "markdown",
   "metadata": {},
   "source": [
    "Bazen bir dosyada çok fazla kod yazdığımızda aradığımız şeyi bulmakta ve yönetmekte zorlanırız.\n",
    "Bu durumlarda kodumuzu farklı dosyalara ayırarak daha düzenli bir şekilde yazabiliriz. Bu dosyalara modüller denir."
   ]
  },
  {
   "attachments": {},
   "cell_type": "markdown",
   "metadata": {},
   "source": [
    "# Built-in Objeler ve Fonksiyonlar\n",
    "\n",
    "Python'da hazır olarak gelen objeler ve fonksiyonlar vardır. Bu objeler ve fonksiyonlar `built-in` modülü içerisinde yer alır. Bu modülü import etmeden kullanabiliriz.\n",
    "\n",
    "`bool`, `int`, `float`, `str`, `list`, `tuple`, `dict`, `set`, `range`, `len`, `print`, `input`, `type`, `id`, `dir`, `help` gibi objeler ve fonksiyonlar `built-in` modülü içerisinde yer alır.\n",
    "\n",
    "Bu fonksiyonların listesine [buradan](https://docs.python.org/3/library/functions.html) ulaşabilirsiniz.\n",
    "\n",
    "&nbsp;"
   ]
  },
  {
   "attachments": {},
   "cell_type": "markdown",
   "metadata": {},
   "source": [
    "# Standart Kütüphaneler\n",
    "\n",
    "Python'da hazır olarak gelen modüller vardır. Bu modüller `standart library` içerisinde yer alır. Bu modüllerin listesine [buradan](https://docs.python.org/3/library/index.html) ulaşabilirsiniz.\n",
    "\n",
    "Bu modülleri kullanabilmek için import etmemiz gerekmektedir.\n",
    "\n",
    "```python\n",
    "import math\n",
    "math.sqrt(9)\n",
    "```"
   ]
  },
  {
   "attachments": {},
   "cell_type": "markdown",
   "metadata": {},
   "source": [
    "> Tüm modüller otomatik import edilmez çünkü bellekte yer kaplarlar. Bu yüzden sadece kullanacağımız modülleri import ederiz.\n",
    "\n",
    "&nbsp;"
   ]
  },
  {
   "attachments": {},
   "cell_type": "markdown",
   "metadata": {},
   "source": [
    "## İmport Ederken Etiket Kullanımı\n",
    "\n",
    "İmport etmek istediğimiz modül ismi uzun olabilir veya farklı bir isimde kullanmak istersek etiket kullanabiliriz.\n",
    "\n",
    "```python\n",
    "import math as m\n",
    "m.sqrt(9)\n",
    "```\n",
    "&nbsp;"
   ]
  },
  {
   "attachments": {},
   "cell_type": "markdown",
   "metadata": {},
   "source": [
    "# Üçüncü Parti Kütüphaneler\n",
    "\n",
    "Standart kütüphaneler bize bazen yeterli gelmemektedir. Standart kütüphaneler olabildiğince genel olmak zorundadır. Bu yüzden bazen daha özel amaçlar için üçüncü parti kütüphaneler kullanmak gerekebilir.\n",
    "Bu kütüphaneleri önce kurar sonra import ederiz.\n",
    "\n",
    "Bazı popüler üçüncü parti kütüphaneler:\n",
    "- [numpy](https://numpy.org/)\n",
    "- [pandas](https://pandas.pydata.org/)\n",
    "- [matplotlib](https://matplotlib.org/)\n",
    "- [scikit-learn](https://scikit-learn.org/stable/)\n",
    "- [tensorflow](https://www.tensorflow.org/)\n",
    "- [opencv](https://opencv.org/)\n",
    "\n",
    "Bu kütüphaneler PYPI (Python Package Index) üzerinden indirilebilir. PYPI'ya [buradan](https://pypi.org/) ulaşabilirsiniz. Bu paketleri indirmek için `pip` kullanılır."
   ]
  },
  {
   "attachments": {},
   "cell_type": "markdown",
   "metadata": {},
   "source": [
    "> Üçüncü parti kütüphane seçimi çok önemlidir. Bir kütüphaneyi kullanmaya karar verdiğimizde kontrol etmemiz gereken bazı adımlar vardır;\n",
    "> - Araştırma yapılarak kullanıcıların kütüphane hakkındaki görüşleri öğrenilmelidir.\n",
    "> - Geliştirilmeye devam edilip edilmediğine bakılmalıdır.\n",
    "> - Dökümantasyonunun iyi olup olmadığına bakılmalıdır.\n",
    "> - Kullanıcı kitlesinin geniş olup olmadığına bakılmalıdır.\n",
    "\n",
    "> Her zaman üçüncü parti kütüphanelere ihtiyaç duymayız. Eğer yukarıdaki adımlarda kütüphane bizi tatmin etmiyorsa kendimiz yazmalıyız. Aksi halde bizim için acı dolu bir yolculuk başlayacaktır."
   ]
  },
  {
   "attachments": {},
   "cell_type": "markdown",
   "metadata": {},
   "source": [
    "# Modül İçerisinden Fonksiyon ve Değişkenlerin İmport Edilmesi\n",
    "\n",
    "Modül içerisindeki fonksiyon ve değişkenlerin import edilmesi için `from` anahtar kelimesi kullanılır.\n",
    "\n",
    "```python\n",
    "from math import sqrt\n",
    "sqrt(9)\n",
    "```\n",
    "```python\n",
    "from math import sqrt, pi\n",
    "sqrt(9)\n",
    "print(pi)\n",
    "```"
   ]
  }
 ],
 "metadata": {
  "kernelspec": {
   "display_name": "hugoblog-D2SGIyIi",
   "language": "python",
   "name": "python3"
  },
  "language_info": {
   "name": "python",
   "version": "3.10.6"
  },
  "orig_nbformat": 4,
  "vscode": {
   "interpreter": {
    "hash": "ddd11dd1139ada3ac74a62149c9fbe7616d1cf65419526d06a090ac3acf3a2c5"
   }
  }
 },
 "nbformat": 4,
 "nbformat_minor": 2
}
