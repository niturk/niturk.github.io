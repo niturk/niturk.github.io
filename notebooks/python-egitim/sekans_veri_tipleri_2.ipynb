{
 "cells": [
  {
   "attachments": {},
   "cell_type": "markdown",
   "metadata": {},
   "source": [
    "# Sekans Veri Tipleri - 2\n",
    "\n",
    "Date: 2023-01-02T18:00:00+03:00\n",
    "Categories: python,temel-python-egitimi\n",
    "Tags: python,\n",
    "draft: false\n",
    "<!--eofm-->"
   ]
  },
  {
   "attachments": {},
   "cell_type": "markdown",
   "metadata": {},
   "source": [
    "## Slicing (Dilimleme)\n",
    "\n",
    "Slicing, sekans veri tiplerinden belli bir aralıktaki verileri almaya arar. Daha önce list, tuple ve stringlerden ve bu sekans veri tiplerinin elemanlarına index numarası ile erişebildiğimizden bahsetmiştik. Bu erişim tek bir eleman için geçerliydi. Slicing ile ise bir aralıkta bulunan elemanlara erişebiliriz. Slicing işleminde kullanılan ifadeyi dilimleme ifadesi olarak da adlandırabiliriz.\n",
    "\n",
    "- Slicing **başlangıç indexi dahil**, **bitiş indexi hariçtir**.\n",
    "- [başlangıç:bitiş] şeklinde kullanılır."
   ]
  },
  {
   "cell_type": "code",
   "execution_count": 41,
   "metadata": {},
   "outputs": [
    {
     "name": "stdout",
     "output_type": "stream",
     "text": [
      "[1, 2, 3]\n",
      "[4, 5, 6]\n"
     ]
    }
   ],
   "source": [
    "# Bir liste üzerinden örneklerle açıklayalım\n",
    "# Bir liste oluşturalım\n",
    "liste = [1, 2, 3, 4, 5, 6, 7, 8, 9, 10]\n",
    "# Listedeki bir elemana index ile erişebiliyorduk liste[0] gibi \n",
    "# slice işlemi ile de bir alt liste oluşturabiliriz\n",
    "\n",
    "# liste[0:3] 0. indexten başla 3. indexe kadar slice et demek\n",
    "print(liste[0:3])\n",
    "# liste[3:6] 3. indexten başla 6. indexe kadar slice et demek\n",
    "print(liste[3:6])"
   ]
  },
  {
   "cell_type": "code",
   "execution_count": 42,
   "metadata": {},
   "outputs": [
    {
     "name": "stdout",
     "output_type": "stream",
     "text": [
      "(1, 2, 3)\n",
      "(4, 5, 6)\n"
     ]
    }
   ],
   "source": [
    "# Aynı örnek tuple veri tipi için birebir geçerlidir.\n",
    "# tuple[0:3] 0. indexten başla 3. indexe kadar slice et demek\n",
    "t = (1, 2, 3, 4, 5, 6, 7, 8, 9, 10)\n",
    "print(t[0:3])\n",
    "# tuple[3:6] 3. indexten başla 6. indexe kadar slice et demek\n",
    "print(t[3:6])"
   ]
  },
  {
   "cell_type": "code",
   "execution_count": 43,
   "metadata": {},
   "outputs": [
    {
     "name": "stdout",
     "output_type": "stream",
     "text": [
      "Pyt\n"
     ]
    }
   ],
   "source": [
    "# Pekiştirmek için string veri tipi üzerinden de örnekler yapalım\n",
    "# string[0:3] 0. indexten başla 3. indexe kadar slice et demek\n",
    "s = \"Python\"\n",
    "print(s[0:3])"
   ]
  },
  {
   "attachments": {},
   "cell_type": "markdown",
   "metadata": {},
   "source": [
    "> Slicing işlemlerinde başlangıç ve bitiş sınırlarını yazmazsanız veya var olandan çok büyük yazarsanız python sadece başlangıçtan veya bitişe kadar olan elemanları alır.\n",
    "\n",
    "Bu durumda bir önceki string örneğinde slicingi s[0:100] yaparsanız hata vermeden çalışıp son indexe kadar olan elemanları alacaktır.\n"
   ]
  },
  {
   "attachments": {},
   "cell_type": "markdown",
   "metadata": {},
   "source": [
    "Dolayısıyla bitiş indexini aslında yazmak bile zorunda değiliz. Başlangıç indexini yazarak bitiş indexini boş bırakabiliriz. Python bu durumda bitiş indexini son elemana kadar otomatik alacaktır. Hemen bir örnek yapalım."
   ]
  },
  {
   "cell_type": "code",
   "execution_count": 44,
   "metadata": {},
   "outputs": [
    {
     "name": "stdout",
     "output_type": "stream",
     "text": [
      "[4, 5, 6, 7, 8, 9, 10]\n"
     ]
    }
   ],
   "source": [
    "# Bitiş indexi olmadan slicing\n",
    "liste = [1, 2, 3, 4, 5, 6, 7, 8, 9, 10]\n",
    "# liste[3:] 3. indexten başla sonuna kadar slice et demek\n",
    "print(liste[3:])"
   ]
  },
  {
   "cell_type": "code",
   "execution_count": 45,
   "metadata": {},
   "outputs": [
    {
     "name": "stdout",
     "output_type": "stream",
     "text": [
      "[1, 2, 3]\n"
     ]
    }
   ],
   "source": [
    "# Başlangıç indexi olmadan slicing aslında 0. indexten başlayarak slice et demektir.\n",
    "liste = [1, 2, 3, 4, 5, 6, 7, 8, 9, 10]\n",
    "# liste[:3] 0. indexten başla 3. indexe kadar slice et demek\n",
    "print(liste[:3])"
   ]
  },
  {
   "cell_type": "code",
   "execution_count": 46,
   "metadata": {},
   "outputs": [
    {
     "name": "stdout",
     "output_type": "stream",
     "text": [
      "[1, 2, 3, 4, 5, 6, 7, 8, 9, 10]\n"
     ]
    }
   ],
   "source": [
    "# Her iki indexide yazmazsak aslında tüm listeyi slice etmiş oluruz.\n",
    "liste = [1, 2, 3, 4, 5, 6, 7, 8, 9, 10]\n",
    "# liste[:] 0. indexten başla sonuna kadar slice et demek\n",
    "print(liste[:])"
   ]
  },
  {
   "attachments": {},
   "cell_type": "markdown",
   "metadata": {},
   "source": [
    "> Az önceki örnekte bir nevi yüzeysel kopyalama (shallow copy) yaptık yani mevcut listenin bir kopyasını oluşturduk. İlerleyen konularda daha detaylı inceleyeceğiz bu durumu. "
   ]
  },
  {
   "cell_type": "code",
   "execution_count": 47,
   "metadata": {},
   "outputs": [
    {
     "name": "stdout",
     "output_type": "stream",
     "text": [
      "[8, 9, 10]\n"
     ]
    }
   ],
   "source": [
    "# Negatif indexlerle slicing\n",
    "liste = [1, 2, 3, 4, 5, 6, 7, 8, 9, 10]\n",
    "# liste[-3:] sondan 3. indexten başla sonuna kadar slice et demek\n",
    "print(liste[-3:])"
   ]
  },
  {
   "attachments": {},
   "cell_type": "markdown",
   "metadata": {},
   "source": [
    "&nbsp;\n",
    "## Adımlayarak Dilimleme (Step Slicing)\n",
    "\n",
    "Adımlayarak dilimleme, slicing işleminde dilimleme ifadesinin sonuna bir adım değeri eklenerek kullanılır. Adım değeri, dilimleme işleminde kaçar kaçar eleman alınacağını belirtir. Adım değeri belirtilmezse varsayılan olarak 1 alınır. Adım değeri negatif olursa dilimleme işlemi sondan başa doğru gerçekleşir.\n",
    "\n",
    "`liste[başlangıç:bitiş:adım]` şeklinde kullanılır.\n",
    "\n",
    "`[2:10:2]` bu şekilde bir kullanımda 2. indexten başla 10. indexe kadar 2 adım atlayarak elemanları al demiş oluyorsunuz."
   ]
  },
  {
   "cell_type": "code",
   "execution_count": 48,
   "metadata": {},
   "outputs": [
    {
     "name": "stdout",
     "output_type": "stream",
     "text": [
      "[1, 3, 5, 7, 9]\n"
     ]
    }
   ],
   "source": [
    "# Adımlayarak slice işlemi yapalım\n",
    "liste = [1, 2, 3, 4, 5, 6, 7, 8, 9, 10]\n",
    "# liste[0:10:2] 0. indexten başla 10. indexe kadar 2şer 2şer slice et demek\n",
    "print(liste[0:10:2])"
   ]
  },
  {
   "attachments": {},
   "cell_type": "markdown",
   "metadata": {},
   "source": [
    "> Yukarıdaki örnekte adımlama kullanarak sadece tek sayıları alıp bir listesini oluşturduk."
   ]
  },
  {
   "attachments": {},
   "cell_type": "markdown",
   "metadata": {},
   "source": [
    "### Negatif Adım Değeri\n",
    "\n",
    "Negatif adım değeri ile sondan başa doğru dilimleme işlemi gerçekleştirilebilir. Bu durumda başlangıç ve bitiş indexleri değiştirilerek kullanılır.\n"
   ]
  },
  {
   "cell_type": "code",
   "execution_count": 49,
   "metadata": {},
   "outputs": [
    {
     "name": "stdout",
     "output_type": "stream",
     "text": [
      "[10, 9, 8]\n"
     ]
    }
   ],
   "source": [
    "# Negatif index ile slice işlemi\n",
    "liste = [1, 2, 3, 4, 5, 6, 7, 8, 9, 10]\n",
    "# liste[9:6:-1] adım değeri negatif olduğu için sondan başa doğru slice eder\n",
    "print(liste[9:6:-1])"
   ]
  },
  {
   "cell_type": "code",
   "execution_count": 50,
   "metadata": {},
   "outputs": [
    {
     "name": "stdout",
     "output_type": "stream",
     "text": [
      "[10, 9, 8]\n"
     ]
    }
   ],
   "source": [
    "# Başlangıç değeri olmadan negatif index ile slice işlemi\n",
    "liste = [1, 2, 3, 4, 5, 6, 7, 8, 9, 10]\n",
    "# liste[:6:-1] sondan başa doğru slice eder\n",
    "print(liste[:6:-1])"
   ]
  },
  {
   "cell_type": "code",
   "execution_count": 51,
   "metadata": {},
   "outputs": [
    {
     "name": "stdout",
     "output_type": "stream",
     "text": [
      "[10, 9, 8, 7, 6, 5, 4, 3, 2, 1]\n"
     ]
    }
   ],
   "source": [
    "# Bir listenin tam tersini almak için slice işlemi çok kullanışlıdır.\n",
    "liste = [1, 2, 3, 4, 5, 6, 7, 8, 9, 10]\n",
    "# liste[::-1] sondan başa doğru slice eder\n",
    "print(liste[::-1])"
   ]
  },
  {
   "attachments": {},
   "cell_type": "markdown",
   "metadata": {},
   "source": [
    "> Slicing işlemi öğrendiğimiz tüm sekans veri tipleri için geçerlidir ve çok kullanışlıdır. İyice oturtmak için epey bir örnek yapılması ve kodlama sırasında kullanılarak pratik yapılması gerekmektedir."
   ]
  }
 ],
 "metadata": {
  "kernelspec": {
   "display_name": "hugoblog-D2SGIyIi",
   "language": "python",
   "name": "python3"
  },
  "language_info": {
   "codemirror_mode": {
    "name": "ipython",
    "version": 3
   },
   "file_extension": ".py",
   "mimetype": "text/x-python",
   "name": "python",
   "nbconvert_exporter": "python",
   "pygments_lexer": "ipython3",
   "version": "3.10.6 (main, Nov 14 2022, 16:10:14) [GCC 11.3.0]"
  },
  "orig_nbformat": 4,
  "vscode": {
   "interpreter": {
    "hash": "ddd11dd1139ada3ac74a62149c9fbe7616d1cf65419526d06a090ac3acf3a2c5"
   }
  }
 },
 "nbformat": 4,
 "nbformat_minor": 2
}
