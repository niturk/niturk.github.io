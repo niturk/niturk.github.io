{
 "cells": [
  {
   "attachments": {},
   "cell_type": "markdown",
   "metadata": {},
   "source": [
    "# Temel Python'a Giriş - 1\n",
    "\n",
    "Date: 2022-12-28T18:00:00+03:00\n",
    "Categories: python,temel-python-egitimi\n",
    "Tags: python,\n",
    "draft: false\n",
    "<!--eofm-->"
   ]
  },
  {
   "attachments": {},
   "cell_type": "markdown",
   "metadata": {},
   "source": [
    "Bu bölümde temel python kod eğitimine başlıyoruz.  \n",
    "\n",
    "Bölüm kapsamında odaklanacağımız konular;\n",
    "- Temel python veri tipleri `int`, `float`, `boolean`\n",
    "- Nesne kavramına giriş\n",
    "- Temel operatörler ile işlemler `+`, `-`, `*`, `/`, `**`, `%`, `//`\n",
    "- Temel karşılaştırma operatörleri `==`, `!=`, `>`, `<`, `>=`, `<=`\n",
    "- Temel mantıksal operatörler `and`, `or`, `not`\n",
    "- Temel operatör öncelikleri\n",
    "\n",
    "> Bu eğitim mühendislik öğrencileri için hazırlanmaktadır. Temel seviyede bilgisayar bilimi bilgisi gerekmektedir!\n",
    "\n",
    "&nbsp;"
   ]
  },
  {
   "attachments": {},
   "cell_type": "markdown",
   "metadata": {},
   "source": [
    "## Temel Veri Tipleri\n",
    "\n",
    "Yazılım dillerinde verilerin her zaman bir tipi olmak zorundadır. Bu gercek hayatta da bu şekildedir.\n",
    "- Ahmet bir kişidir.\n",
    "- Fırın bir mağazadır.\n",
    "- Banka hesabım bir sayıdır.\n",
    "- Bir kitabın sayfa sayısı bir sayıdır.\n",
    "- `ders.pdf` dosyası bir pdf dosyasıdır.\n",
    "- Durum yapıları bir veri tipidir. `True`, `False` ile ifade edilir vardır yada yoktur.\n",
    "    - Pythonda biz bunlara `boolean` veri tipi diyoruz.\n",
    "    - İki değer alabiliyor `True` ve `False`.\n",
    "    - `Ben artık bir python geliştiricisiyim` ifadesi `True` değerini alır. Doğru çünkü artık bir python geliştiricisisiniz.\n",
    "    - `Köpeğim miyavlıyor` ifadesi `False` değerini alır. Yanlış çünkü köpekler miyavlamaz.\n",
    "\n",
    "bu örnekleri çoğaltmak mümkün.\n",
    "\n",
    "&nbsp;\n"
   ]
  },
  {
   "attachments": {},
   "cell_type": "markdown",
   "metadata": {},
   "source": [
    "### Integer (Tam Sayılar) Veri Tipi\n",
    "\n",
    "- `int` veri tipi tam sayıları ifade eder. `0`, `1`, `100`, `-100` gibi değerler alır.\n",
    "- Pythonda `int` veri tipi için herhangi bir büyüklük limiti yoktur. Limit sahip olduğunuz bellektir.\n",
    "- Pythonda sayıları direk tanımlayabilirsiniz, `100`, `-100` veya matematik işlemi sonucu elde edilebilir. `1 + 1`, `1 * 2` gibi.\n",
    "- Okunabilirliği artırmak için sayıları `_` ile ayırabiliriz. `100_000_000`, `1_000_000_000` gibi."
   ]
  },
  {
   "cell_type": "code",
   "execution_count": 1,
   "metadata": {},
   "outputs": [
    {
     "name": "stdout",
     "output_type": "stream",
     "text": [
      "8\n"
     ]
    }
   ],
   "source": [
    "# Int örnek \n",
    "a = 5      # int tanımlaması\n",
    "b = 3      # int tanımlaması\n",
    "c = a + b  # toplama işlemi\n",
    "print(c)   # ekrana yazdırma"
   ]
  },
  {
   "attachments": {},
   "cell_type": "markdown",
   "metadata": {},
   "source": [
    "&nbsp;\n",
    "### Float (Ondalıklı Sayılar) Veri Tipi\n",
    "\n",
    "- `float` veri tipi ondalıklı sayıları ifade eder. `3.14`, `-1.3` gibi değerler alır.\n",
    "- `int` veri tipiyle hemen hemen tüm özellikleri aynıdır. Ancak `float` ondalıklı sayılar oluşturmanıza olanak verir.\n",
    "- Okunabilirliği artırmak için sayıları `_` ile ayırabiliriz. `1_234.567_890` gibi.\n",
    "- Ancak dikkat edilmesi gerekir, sayılar için virgülden sonrası yazılırsa veriniz `float` olur. \n",
    "    - `1` -> `int` veri tipidir\n",
    "    - `1.0` -> `float` veri tipidir \n",
    "- Float her zaman tam olarak ifade edilemez. Bu yüzden bazı sayılar `float` olarak ifade edilemez. `0.1` gibi. Bunun sebebi bilgisayarların ikili sayı sistemi kullanmasıdır.\n",
    "    - `0.1 + 0.1 + 0.1 == 0.3` ifadesinin sonucu bu sebeple `false` dönecektir.\n",
    "    - `float` veri tipi için bu problem tüm yazılım dillerinde mevcuttur.\n",
    "    - Eğer ondalıklı sayılarla işlem yapacaksanız örneğin bir banka uygulaması yazacaksanız kullanmanız gereken veri tipi `decimal` veri tipidir.\n",
    "\n",
    "\n"
   ]
  },
  {
   "cell_type": "code",
   "execution_count": 2,
   "metadata": {},
   "outputs": [
    {
     "data": {
      "text/plain": [
       "'0.1000000000000000055511151'"
      ]
     },
     "execution_count": 2,
     "metadata": {},
     "output_type": "execute_result"
    }
   ],
   "source": [
    "# Format fonksiyonu ile 0.1 sayısını 25 basamaklı olarak yazdırma\n",
    "format(0.1, '.25f')"
   ]
  },
  {
   "attachments": {},
   "cell_type": "markdown",
   "metadata": {},
   "source": [
    "Gördüğünüz gibi 0.1 değerinin ikili sayı sisteminde ifade etmek için sonsuz sayıda basamak gerekmektedir. Hiçbir zaman tam olarak 0.1 i ifade edemeyiz. Ancak yakınsayabiliyoruz!\n",
    "\n",
    "![Float Representation](assets/temel_python/float_representation.png)"
   ]
  },
  {
   "cell_type": "code",
   "execution_count": 3,
   "metadata": {},
   "outputs": [
    {
     "data": {
      "text/plain": [
       "'0.1250000000000000000000000'"
      ]
     },
     "execution_count": 3,
     "metadata": {},
     "output_type": "execute_result"
    }
   ],
   "source": [
    "# Format fonksiyonu ile 0.125 sayısını 25 basamaklı olarak yazdırma\n",
    "format(0.125, '.25f') # Ondalık gösterimi 1/8 dir.  \n",
    "                      # Tam olarak bölünebilen sayılar ondalık gösterimde \n",
    "                      # sorun çıkarmaz."
   ]
  },
  {
   "attachments": {},
   "cell_type": "markdown",
   "metadata": {},
   "source": [
    "> Dolayısıyla `float` sayılarla işlem yaparken sonuçlar hatalı olabilmektedir. Bu yüzden `float` veri tipi kullanırken dikkatli olunmalıdır.\n",
    "\n",
    "&nbsp;"
   ]
  },
  {
   "cell_type": "code",
   "execution_count": 4,
   "metadata": {},
   "outputs": [
    {
     "data": {
      "text/plain": [
       "False"
      ]
     },
     "execution_count": 4,
     "metadata": {},
     "output_type": "execute_result"
    }
   ],
   "source": [
    "# 0.1 + 0.1 + 0.1 == 0.3 ifadesi bize False döndürür. Ancak beklenen sonuç True olmalıdır.\n",
    "0.1 + 0.1 + 0.1 == 0.3 # False"
   ]
  },
  {
   "attachments": {},
   "cell_type": "markdown",
   "metadata": {},
   "source": [
    "&nbsp;"
   ]
  },
  {
   "cell_type": "code",
   "execution_count": 5,
   "metadata": {},
   "outputs": [
    {
     "name": "stdout",
     "output_type": "stream",
     "text": [
      "0.3000000000000000444089210\n",
      "0.2999999999999999888977698\n"
     ]
    }
   ],
   "source": [
    "# Format fonksiyonu ile 0.1+0.1+0.1 sayısını ve 0.3 sayısını 25 basamaklı olarak yazdırma\n",
    "print(format(0.1 + 0.1 + 0.1, '.25f')) # 0.3000000000000000444089210\n",
    "print(format(0.3, '.25f')) # 0.2999999999999999888977698"
   ]
  },
  {
   "attachments": {},
   "cell_type": "markdown",
   "metadata": {},
   "source": [
    "&nbsp;\n",
    "## Nesne Kavramına Giriş\n",
    "\n",
    "Nesne kavramı python için çok önemlidir. Diğer dillerden farklı olarak pythonda tüm veri tipleri nesnelerdir. Bu nedenle pythonda her şey bir nesnedir.\n",
    "\n",
    "Nesnelerin iki özelliği bulunur;\n",
    "1. Durum (State) -> Nesnenin durumunu ifade eder. Örneğin bir kitabın sayfa sayısı, bir kişinin adı, bir banka hesabının bakiyesi gibi.\n",
    "2. Metodlar (Fonksiyonlar) -> Nesnenin yapabileceği işlemleri ifade eder. Örneğin bir kitabın sayfa sayısını arttırma, bir kişinin adını değiştirme, bir banka hesabının bakiyesini arttırma gibi.\n",
    "\n",
    "> Nesnelerin durumunu ve metodlarını bir arada tutmak için `kapsülleme(encapsulation)` kullanılır.\n",
    "\n",
    "Nesneleri yazılım alanında gerçek dünya nesnelerini tanımlamak için kullanırız. Siz bir inşaat uygulaması geliştirmek istiyorsanız. Temel nesneler yeterli olmayacaktır. Uygulamaya özgü nesneler oluşturmanız gerekiyor. Örneğin `Bina`, `Kat`, `Daire`, `Oda`, `Duvar`, `Pencere`, `Kapı` gibi. Bu nesnelerin durumları ve metodları olmalıdır. Örneğin `Bina` nesnesinin durumu `kat_sayisi`, `katlar`, `bina_adi` gibi. `Bina` nesnesinin metodları ise `kat_ekle`, `kat_sil`, `bina_adi_degistir` gibi."
   ]
  },
  {
   "attachments": {},
   "cell_type": "markdown",
   "metadata": {},
   "source": [
    "&nbsp;\n",
    "### Integer Bir Nesnedir\n",
    "\n",
    "`int` bir nesnedir. Sayıları tutar ama python için sayılarda bir nesnedir. Sayının değeri `durum` belirtir.\n",
    "Pythonda iki sayıyı topladığınızda ise metod çağrısı olur ve toplama işlemi gerçekleşir.  \n",
    "Python 10 + 100 için `__add__` metodunu çağrır ve 110 değerini döndürür."
   ]
  },
  {
   "cell_type": "code",
   "execution_count": 6,
   "metadata": {},
   "outputs": [
    {
     "data": {
      "text/plain": [
       "110"
      ]
     },
     "execution_count": 6,
     "metadata": {},
     "output_type": "execute_result"
    }
   ],
   "source": [
    "# bir örnek yapalım\n",
    "(10).__add__(100) # 10 + 100 için aslında `__add__` metodunu çağırılır."
   ]
  },
  {
   "attachments": {},
   "cell_type": "markdown",
   "metadata": {},
   "source": [
    "&nbsp;\n",
    "### Float Bir Nesnedir\n",
    "\n",
    "Aynı şekilde `float` da bir nesnedir. Sayının değeri `durum` belirtir. Metodlarda `int` veri tipiyle aynıdır.\n",
    "Bazı ek metodlar vardır. Örneğin `float` bir sayıyı matematiksel olarak kesirli olarak yazdırabiliriz. Bunun için `as_integer_ratio` metodunu kullanırız."
   ]
  },
  {
   "cell_type": "code",
   "execution_count": 7,
   "metadata": {},
   "outputs": [
    {
     "data": {
      "text/plain": [
       "(1, 8)"
      ]
     },
     "execution_count": 7,
     "metadata": {},
     "output_type": "execute_result"
    }
   ],
   "source": [
    "(0.125).as_integer_ratio() # 1/8 sayısının kesirli gösterimi"
   ]
  },
  {
   "attachments": {},
   "cell_type": "markdown",
   "metadata": {},
   "source": [
    "&nbsp;\n",
    "### Python'da Her Şey Bir Nesnedir\n",
    "\n",
    "> **Pythonda her şey bir nesnedir!** Bu cümleyi eğitim boyunca birkaç kez kullanacağız unutmayalım :)\n",
    "\n",
    "Nesnelerin durum ve metodları vardı biz bunlara nitelik(`attributes`) diyoruz. Peki bu niteliklere nasıl ulaşacağız.\n",
    "Sayıların sadece bir durumu vardı, `int` için sadece sayı değeri. Ancak gerçek dünya örneklerinde birden çok durum olabiliyor.\n",
    "Bir araba nesnesi için durumları `marka`, `model`, `yıl`, `renk` gibi. Bu durumları `nitelik` olarak tanımlarız. Bu niteliklere erişmek için `.` operatörünü kullanırız.  \n",
    "Örneğin `araba.marka` diyerek arabanın markasını alabiliriz.\n",
    "\n",
    "Metodlar için de aynı şekilde `.` operatörünü kullanırız.  \n",
    "Örneğin `araba.korna_cal()` diyerek arabanın markasını değiştirebiliriz. Dikkat edilmesi gereken nokta burada bir çağrı(`call`) yapmak için `()` kullanıyoruz. Eğer kullanmazsanız metod çalışmaz.\n",
    "\n",
    "&nbsp;"
   ]
  },
  {
   "attachments": {},
   "cell_type": "markdown",
   "metadata": {},
   "source": [
    "### Değişebilirlik(Mutability) ve Değişmezlik(Immutability) Kuramı\n",
    "\n",
    "Python'da nesnelerin değişebilirlik durumunu `mutability` diyoruz. Değişmezlik durumunu ise `immutability` diyoruz. Bu iki kavramı anlamak python kodu yazarken hata yapmamak için çok önemlidir. Bir nesnenin bir niteliği değişebilir ise `mutable` bir nesnedir. Değişmez ise `immutable` bir nesnedir.\n",
    "\n",
    "`İmmutable` veri tipleri:\n",
    "- `int`\n",
    "- `float`\n",
    "- `bool`\n",
    "- `str`\n",
    "- ...\n",
    "\n",
    "`Mutable` veri tipleri:\n",
    "- `list`\n",
    "- `dict`\n",
    "- `set`\n",
    "- ...\n",
    "\n",
    "&nbsp;\n",
    "Değiştirilemez demek aslında diğer yazılım dillerindeki `const` yapısı ile karıştırılmamalıdır. Python'da `const` yapısı yoktur. Ancak `immutable` veri tipleri değiştirilemez. Bu veri tipleri üzerinde değişiklik yapmak istediğinizde yeni bir nesne oluşturulur.\n",
    "\n",
    "> Bu konu ilerleyen derslerde daha ayrıntılı olarak ele alınacaktır."
   ]
  }
 ],
 "metadata": {
  "kernelspec": {
   "display_name": "hugoblog-D2SGIyIi",
   "language": "python",
   "name": "python3"
  },
  "language_info": {
   "codemirror_mode": {
    "name": "ipython",
    "version": 3
   },
   "file_extension": ".py",
   "mimetype": "text/x-python",
   "name": "python",
   "nbconvert_exporter": "python",
   "pygments_lexer": "ipython3",
   "version": "3.10.6 (main, Nov 14 2022, 16:10:14) [GCC 11.3.0]"
  },
  "orig_nbformat": 4,
  "vscode": {
   "interpreter": {
    "hash": "ddd11dd1139ada3ac74a62149c9fbe7616d1cf65419526d06a090ac3acf3a2c5"
   }
  }
 },
 "nbformat": 4,
 "nbformat_minor": 2
}
