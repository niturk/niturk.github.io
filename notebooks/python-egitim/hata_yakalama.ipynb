{
 "cells": [
  {
   "attachments": {},
   "cell_type": "markdown",
   "metadata": {},
   "source": [
    "# Hata Yakalama\n",
    "\n",
    "Date: 2023-01-23T18:00:00+03:00\n",
    "Categories: python,temel-python-egitimi\n",
    "Tags: python,\n",
    "draft: false\n",
    "<!--eofm-->"
   ]
  },
  {
   "attachments": {},
   "cell_type": "markdown",
   "metadata": {},
   "source": [
    "Hiçbir kod hata vermesi için tasarlanmaz ancak bazı durumlarda hata olabilme olasılığı vardır. Genelde bu hatalar kullanıcı tarafından alınacak verilerden kaynaklanır. Örneğin siz kullanıcıdan adını yazmasını istiyorsunuz ama kullanıcı yazmadı veya string yerine sayılar kullandı işte bu tarz beklenmedik senaryolara önlem almak için hata yakalama yaparız. Bu hatalar genelde beklenmedik hatalardır.\n",
    "\n",
    "Her hata bizim için kritik değildir. Önemli olan hata oluşabilecek yerleri yakalamak ve kodu devam ettirmektir. Yakalanmayan bir hata bırakılırsa programımız duracak ve çalışmaya devam edemeyecektir.\n",
    "\n",
    "&nbsp;"
   ]
  },
  {
   "attachments": {},
   "cell_type": "markdown",
   "metadata": {},
   "source": [
    "### Terminoloji\n",
    "- `exception` : Python'da hatalar için kullanılan özel bir objedir.\n",
    "- `raising` : Bazı durumlarda hata oluşmuş gibi davranmak isteyebiliriz. Raising ile bu işlemi yapabiliyoruz.\n",
    "- `exception handling` : Hata yakalama işlemidir.\n",
    "- `unhandled exception` : Kodumuz tarafından yakalanmayan hatalardır, programımız python tarafından sonlandırılır.\n",
    "\n",
    "&nbsp;"
   ]
  },
  {
   "attachments": {},
   "cell_type": "markdown",
   "metadata": {},
   "source": [
    "### Hataların Hiyerarşisi\n",
    "\n",
    "Pythonda oluşan hataların bir hiyerarşisi vardır. Şimdiye kadar gördüğümüz hatalar vardı. Örneğin bir sayıyı 0'a bölmeye çalıştığımızda `ZeroDivisionError` hatasını alıyorduk. Aynı şekilde bir listede olmayan bir elemana erişmeye çalıştığımızda `IndexError` hatasını alıyorduk.  \n",
    "\n",
    "İşte python kodumuzu tam olarak bu hatalara göre davranış sergilemesini sağlayabiliyoruz. Listede bir eleman olmadığında `IndexError` hatasını yakalayarak kullanıcıya bu index yok diye bir mesaj gösterip tekrar index seçmesini isteyebiliyoruz.  \n",
    "\n",
    "`raising` ile de bu hataların birini oluşturabiliyoruz. Listede arama yapan bir kod için eğer bulamazsak `NotFoundError` şeklinde bir hata oluşturabiliriz. Böylece kodumuz bu hataya göre şekil alacaktır.  \n",
    "\n",
    "Pythonda hataların hiyerarşisi vardır. `LookupError` hatasını ele alırsak, aslında `IndexError` ve `KeyError` gibi hataların üst sınıfıdır. Yani `IndexError` ve `KeyError` hatasını da `LookupError` hatası olarak yakalayabiliriz. Daha spesifik bir hata yakalamak istiyorsak `IndexError` veya `KeyError` hatasını yakalamamız gerekmektedir. Tüm hataların hiyerarşisinin en başında `Exception` bulunmaktadır.\n",
    "Hangi hatanın oluşacağını öngöremiyorsanız öncelikle bu ciddi bir problemdir, çevik bir kod yazmıyorsunuz demektir ama bu durumda yakalamanız gereken hata `Exception` olacaktır.\n",
    "\n",
    "Python hata hiyerarşisini [buradan](https://docs.python.org/3/library/exceptions.html#exception-hierarchy) inceleyebilirsiniz.\n",
    "\n",
    "&nbsp;"
   ]
  },
  {
   "attachments": {},
   "cell_type": "markdown",
   "metadata": {},
   "source": [
    "### En Popüler Hata Türleri\n",
    "\n",
    "- `SyntaxError` : Kodumuzda yazım hatası olduğunda oluşan hata türüdür.\n",
    "- `ZeroDivisionError` : Bir sayıyı 0'a bölmeye çalıştığımızda oluşan hata türüdür.\n",
    "- `IndexError` : Listede olmayan bir indexe erişmeye çalıştığımızda oluşan hata türüdür.\n",
    "- `KeyError` : Sözlükte olmayan bir anahtara erişmeye çalıştığımızda oluşan hata türüdür.\n",
    "- `ValueError` : Bir fonksiyona geçersiz bir değer verdiğimizde oluşan hata türüdür.\n",
    "- `TypeError` : Bir fonksiyona geçersiz bir veri tipi verdiğimizde oluşan hata türüdür.\n",
    "- `FileNotFoundError` : Bir dosya bulunamadığında oluşan hata türüdür.\n",
    "\n",
    "&nbsp;"
   ]
  },
  {
   "attachments": {},
   "cell_type": "markdown",
   "metadata": {},
   "source": [
    "### EAFP ve LBYL Kavramları\n",
    "\n",
    "Python'da hata yakalama işlemini yaparken iki yaklaşım vardır. Bunlar `EAFP` ve `LBYL` kavramlarıdır.\n",
    "\n",
    "- `EAFP` : Easier to Ask for Forgiveness than Permission (İzin almak yerine affetmeyi tercih etmek) kavramıdır. Bu yaklaşımda öncelikle kodumuzu çalıştırıyoruz. Kodumuz çalışırken bir hata oluşursa bu hatayı yakalıyoruz. Bu yaklaşımı kullanmak için `try` ve `except` bloklarını kullanıyoruz. Pythonda bu yaklaşım tercih edilmektedir.\n",
    "\n",
    "- `LBYL` : Look Before You Leap (Atlamadan Önce Bak) kavramıdır. Bu yaklaşımda öncelikle kodumuzun çalışması için gerekli şartları kontrol ediyoruz. Eğer şartlar sağlanıyorsa kodumuzu çalıştırıyoruz. Bu yaklaşımı kullanmak için `if` ve `else` bloklarını kullanıyoruz.\n",
    "\n",
    "&nbsp;"
   ]
  },
  {
   "attachments": {},
   "cell_type": "markdown",
   "metadata": {},
   "source": [
    "#### Python Geliştiricileri Neden EAFP Tercih Ediyor\n",
    "\n",
    "`EAFP` tercih edilmesinin sebebi aslında hızdan kaynaklanmaktadır. Bir döngü ile 1000 defa bölme işlemi yapacağınızı düşünün. `LBYL` yapılırsa her defasında `if` ile bölenin 0 olup olmadığınız kontrol ederseniz 1000 adet kontrol gerçekleştirecek ve kodunuzu yavaşlatacaksınız. Ancak `EAFP` yapılırsa böyle bir kontrol yapmadan kodunuzu çalıştırırsınız. Eğer bölen 0 ise hata alırsınız ve bu hatayı yakalarsınız. Eğer 5 adet 0 varsa 5 adet hata yakalamış olursunuz ancak 1000 adet `if` kontrolü yapmaktan kat kat hızlıdır.\n",
    "\n",
    "Ayrıca bir kodu hata olmayacak gibi yazmak her zaman deterministik bir durum değildir. Gözden kaçırdığımız yerler bize problem olacaktır. Bu sebeplede `EAFP` yaklaşımı tercih edilmektedir."
   ]
  },
  {
   "attachments": {},
   "cell_type": "markdown",
   "metadata": {},
   "source": [
    "### Hata Yakalama Akışı\n",
    "\n",
    "- Hata oluşur.\n",
    "    - `exception` nesnesi yaratılır.\n",
    "    - Hata yakalama akışı başlatılır.\n",
    "    - Eğer bu hata yakalama akışında birşey yapmazsak.\n",
    "        - Program sonlanır.\n",
    "    - Eğer bu hatayı yakalamak için hata yakalama yapısı kullandıysak.\n",
    "        - Mümkünse hata yakalanmaya çalışılır.\n",
    "        - Ardından;\n",
    "            - Program sonlanmadan kodun çalışmasına devam edilebilir.\n",
    "            - Hatanın devam etmesine izin verilerek bir üst hata yakalama yapısına gönderilebilir. Genelde kütüphane yazılıyorsa bu durum tercih edilir.\n",
    "            - Yeni bir hata akışı başlatılabilir.\n",
    "\n",
    "&nbsp;"
   ]
  },
  {
   "attachments": {},
   "cell_type": "markdown",
   "metadata": {},
   "source": [
    "## Hata Akışı Başlatma\n",
    "\n",
    "Bazen hatanın yakalanması için bir hata akışı başlatmak isteyebiliriz. Bu durumda `raise` anahtar kelimesini kullanırız.\n",
    "Daha önce `exception` nesnesinin pythonda tanımlı olduğundan bahsetmiştik. Bu yapıyı ileride anlatacağımız fonksiyonlar içerisinde kullanırız genelde ve fonksiyonu kullandığımız kod parçasında hata yakalama yapısı koyarız. "
   ]
  },
  {
   "cell_type": "code",
   "execution_count": 1,
   "metadata": {},
   "outputs": [
    {
     "ename": "ValueError",
     "evalue": "Ad alanı en az 5 karakter olmalıdır.",
     "output_type": "error",
     "traceback": [
      "\u001b[0;31m---------------------------------------------------------------------------\u001b[0m",
      "\u001b[0;31mValueError\u001b[0m                                Traceback (most recent call last)",
      "Cell \u001b[0;32mIn[1], line 3\u001b[0m\n\u001b[1;32m      1\u001b[0m \u001b[39m# Bir hata oluşturalım\u001b[39;00m\n\u001b[1;32m      2\u001b[0m hata \u001b[39m=\u001b[39m \u001b[39mValueError\u001b[39;00m(\u001b[39m'\u001b[39m\u001b[39mAd alanı en az 5 karakter olmalıdır.\u001b[39m\u001b[39m'\u001b[39m)\n\u001b[0;32m----> 3\u001b[0m \u001b[39mraise\u001b[39;00m hata\n",
      "\u001b[0;31mValueError\u001b[0m: Ad alanı en az 5 karakter olmalıdır."
     ]
    }
   ],
   "source": [
    "# Bir hata oluşturalım\n",
    "hata = ValueError('Ad alanı en az 5 karakter olmalıdır.')\n",
    "raise hata"
   ]
  },
  {
   "attachments": {},
   "cell_type": "markdown",
   "metadata": {},
   "source": [
    "> `raise` anahtar kelimesi ile bir hata fırlatıldığında eğer bu hata yakalanmazsa programını sonlandırılır. Eğer pythonda hata yapısını kullanacaksanız ne yaptığınızı bildiğinizden emin olmanız gerekmektedir."
   ]
  },
  {
   "cell_type": "code",
   "execution_count": null,
   "metadata": {},
   "outputs": [
    {
     "name": "stdout",
     "output_type": "stream",
     "text": [
      "Merhaba Nikita\n"
     ]
    }
   ],
   "source": [
    "# kullanıcıdan adını alalım eğer 5 karakterden az girerse ValueError fırlatalım.\n",
    "ad = input('Adınız: ')\n",
    "if len(ad) < 5:\n",
    "    raise ValueError(f'Ad alanı en az 5 karakter olmalıdır.{ad} uygun değildir.')\n",
    "print(f'Merhaba {ad}')"
   ]
  },
  {
   "attachments": {},
   "cell_type": "markdown",
   "metadata": {},
   "source": [
    "### Hata Yakalama İçin Genel Öneriler\n",
    "\n",
    "Genellikle her durum için hata ayıklama yapmayız. Paronayak bir şekilde yaklaşır kodumuzun her tarafında hata ayıklama yapısı kurarsak bu durum kodumuzun okunabilirliğini ve hızını azaltır. Aynı zamanda çok fazla kod yazmamıza sebep olur. Bazende hataların oluşmasına izin vererek bu hataları takip ederiz. Oluşan hataları analiz ederek kodumuzu iyileştiririz. Bu durumlara genellikle `bug` denir.\n",
    "\n",
    "- Küçük kod parçalarında hata ayıklama yapısı kullanmalıyız. Olmuyorsa kodumuzu parçalara ayırmalıyız.\n",
    "- Yakalanacak hataları genel değil olabildiğince özel hatalara indirgemeliyiz. Index sorgulaması yaparken `Exception` yerine `IndexError` kullanmalıyız. Böylece oluşabilecek farklı kategorideki hatalara göre farklı işlemler yapabiliriz."
   ]
  },
  {
   "attachments": {},
   "cell_type": "markdown",
   "metadata": {},
   "source": [
    "## Hata Yakalama Yapısı\n",
    "\n",
    "Hata yakalamak için `try` `except` yapısını kullanırız.\n",
    "\n",
    "- Hata olabilecek kod parçalarını `try` bloğuna alırız.\n",
    "- Hata oluşursa `except` bloğuna girer. Bu bloğada hata oluştuktan sonra yapılacak işlemleri yazabiliriz."
   ]
  },
  {
   "cell_type": "code",
   "execution_count": null,
   "metadata": {},
   "outputs": [
    {
     "name": "stdout",
     "output_type": "stream",
     "text": [
      "Bir sayı sıfıra bölünemez.\n",
      "Sonuc : Tanımsız\n"
     ]
    }
   ],
   "source": [
    "# Try Except Örneği\n",
    "a = 1\n",
    "b = 0\n",
    "\n",
    "try:\n",
    "    sonuc = a / b\n",
    "except ZeroDivisionError:\n",
    "    print('Bir sayı sıfıra bölünemez.')\n",
    "    sonuc = 'Tanımsız'\n",
    "print(f'Sonuc : {sonuc}')"
   ]
  },
  {
   "attachments": {},
   "cell_type": "markdown",
   "metadata": {},
   "source": [
    "> Yukarıdaki kod örneğimizde 0 a bölme hatası oluştu ancak hiçbir hata mesajı almadık çünkü hatayı yakaladık. Ardından sonuç değişkenini tanımsız olarak belirledik ve programımızı devam ettirdik."
   ]
  },
  {
   "attachments": {},
   "cell_type": "markdown",
   "metadata": {},
   "source": [
    "### Hata Yakalama ve Yeniden Hata Fırlatma\n",
    "\n",
    "Bazen yakaladığımız bir hatadan sonra aynı hatayı veya farklı bir hatayı fırlatmak isteyebiliyoruz.\n",
    "Bunu iki sebepten yapabiliyoruz;\n",
    "- Bazen ilgili kod bölümünde yapabileceğimiz bir işlem yoktur. Bu durumda hata fırlatmak isteyebiliriz.\n",
    "- Hatayı daha anlaşılır bir hata mesajı ile fırlatmak isteyebiliriz."
   ]
  },
  {
   "cell_type": "code",
   "execution_count": 2,
   "metadata": {},
   "outputs": [],
   "source": [
    "# Örneğin tekrar hata fırlatmayı kayıt almak için kullanabiliyoruz.\n",
    "try:\n",
    "    pass\n",
    "except Exception as ex:\n",
    "    log(ex)\n",
    "    raise"
   ]
  },
  {
   "attachments": {},
   "cell_type": "markdown",
   "metadata": {},
   "source": [
    "### Aynı Anda Birden Fazla Hata Yakalama\n",
    "\n",
    "Bazen bir kod parçasında birden fazla hata oluşabilir. Bu durumda `except` bloğuna birden fazla hata yazabiliriz.\n",
    "Python uyumlu olan ilk hata tipi için `except` bloğu çalışır. Bu durumda diğer hata tipleri için `except` bloğu çalışmaz."
   ]
  },
  {
   "cell_type": "code",
   "execution_count": null,
   "metadata": {},
   "outputs": [],
   "source": [
    "try:\n",
    "    pass\n",
    "except IndexError as ex:\n",
    "    pass\n",
    "except ValueError as ex:\n",
    "    pass\n",
    "except Exception as ex:\n",
    "    pass"
   ]
  },
  {
   "attachments": {},
   "cell_type": "markdown",
   "metadata": {},
   "source": [
    "### Finaly Bloğu\n",
    "\n",
    "`finally` bloğunu hata olsun veya olmasın çalışması istenen bölümdür. Genelde kesin çalışması gereken kod parçaları için kullanılır. Örneğin dosya veya database bağlantısının kapatılması çok kritik bir işlemdir."
   ]
  },
  {
   "cell_type": "code",
   "execution_count": 3,
   "metadata": {},
   "outputs": [
    {
     "name": "stdout",
     "output_type": "stream",
     "text": [
      "Her durumda çalışır.\n"
     ]
    }
   ],
   "source": [
    "try:\n",
    "    pass\n",
    "except (IndexError, ValueError) as ex:\n",
    "    pass\n",
    "finally:\n",
    "    print('Her durumda çalışır.')"
   ]
  }
 ],
 "metadata": {
  "kernelspec": {
   "display_name": "hugoblog-D2SGIyIi",
   "language": "python",
   "name": "python3"
  },
  "language_info": {
   "codemirror_mode": {
    "name": "ipython",
    "version": 3
   },
   "file_extension": ".py",
   "mimetype": "text/x-python",
   "name": "python",
   "nbconvert_exporter": "python",
   "pygments_lexer": "ipython3",
   "version": "3.10.6"
  },
  "orig_nbformat": 4,
  "vscode": {
   "interpreter": {
    "hash": "ddd11dd1139ada3ac74a62149c9fbe7616d1cf65419526d06a090ac3acf3a2c5"
   }
  }
 },
 "nbformat": 4,
 "nbformat_minor": 2
}
